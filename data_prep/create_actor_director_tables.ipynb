{
 "cells": [
  {
   "cell_type": "code",
   "execution_count": 1,
   "metadata": {},
   "outputs": [],
   "source": [
    "import pandas as pd\n",
    "import numpy as np\n",
    "import zipfile\n",
    "import sqlite3"
   ]
  },
  {
   "cell_type": "code",
   "execution_count": 2,
   "metadata": {},
   "outputs": [],
   "source": [
    "data_sources = {\n",
    "    # movielens\n",
    "    'genome_scores'    : './data/ml-25m/genome-scores.csv',\n",
    "    'genome_tags'      : './data/ml-25m/genome-tags.csv',\n",
    "    'links'            : './data/ml-25m/links.csv',\n",
    "    'movies'           : './data/ml-25m/movies.csv',\n",
    "    'ratings'          : './data/ml-25m/ratings.csv',\n",
    "    'tags'             : './data/ml-25m/tags.csv',\n",
    "#     imdb\n",
    "    'imdb_name_basics' : './data/imdb/name.basics.tsv.gz',\n",
    "    'imdb_title_basics': './data/imdb/title.basics.tsv.gz',\n",
    "    'imdb_ratings'     : './data/imdb/title.ratings.tsv.gz',\n",
    "    'imdb_crew'        : './data/imdb/title.crew.tsv.gz',\n",
    "    'imdb_principals'  : './data/imdb/title.principals.tsv.gz',\n",
    "}"
   ]
  },
  {
   "cell_type": "code",
   "execution_count": 3,
   "metadata": {},
   "outputs": [
    {
     "name": "stdout",
     "output_type": "stream",
     "text": [
      "dict_keys(['genome_scores', 'genome_tags', 'links', 'movies', 'ratings', 'tags', 'imdb_name_basics'])\r"
     ]
    },
    {
     "name": "stderr",
     "output_type": "stream",
     "text": [
      "/Users/ms621y/anaconda3/envs/DVA/lib/python3.7/site-packages/IPython/core/interactiveshell.py:3051: DtypeWarning: Columns (5) have mixed types. Specify dtype option on import or set low_memory=False.\n",
      "  interactivity=interactivity, compiler=compiler, result=result)\n"
     ]
    },
    {
     "name": "stdout",
     "output_type": "stream",
     "text": [
      "dict_keys(['genome_scores', 'genome_tags', 'links', 'movies', 'ratings', 'tags', 'imdb_name_basics', 'imdb_title_basics', 'imdb_ratings', 'imdb_crew'])\r"
     ]
    }
   ],
   "source": [
    "dfs = {}\n",
    "for name, path in data_sources.items():\n",
    "    print(dfs.keys(), end='\\r')\n",
    "    separator = '\\t' if 'tsv' in path else ','\n",
    "    dfs[name] = pd.read_csv(path, sep=separator).replace(to_replace=r'\\N', value=np.nan)"
   ]
  },
  {
   "cell_type": "code",
   "execution_count": 4,
   "metadata": {},
   "outputs": [],
   "source": [
    "for name, path in data_sources.items():\n",
    "    dfs[name] = dfs[name].dropna()"
   ]
  },
  {
   "cell_type": "markdown",
   "metadata": {},
   "source": [
    "# connect to database"
   ]
  },
  {
   "cell_type": "code",
   "execution_count": 7,
   "metadata": {},
   "outputs": [],
   "source": [
    "db_name = './movie_sqlite.db'\n",
    "conn = sqlite3.connect(db_name)\n",
    "c = conn.cursor()"
   ]
  },
  {
   "cell_type": "code",
   "execution_count": 8,
   "metadata": {},
   "outputs": [
    {
     "data": {
      "text/plain": [
       "['tt0000012', 'tt0000417', 'tt0000439', 'tt0004972', 'tt0006333']"
      ]
     },
     "execution_count": 8,
     "metadata": {},
     "output_type": "execute_result"
    }
   ],
   "source": [
    "# get needed movie ids\n",
    "sql = \"\"\"\n",
    "select id from movies ;\n",
    "\"\"\"\n",
    "c.execute(sql)\n",
    "movie_ids = c.fetchall()\n",
    "needed_movies = [m[0] for m in movie_ids]\n",
    "needed_movies[:5]  # check first 5"
   ]
  },
  {
   "cell_type": "code",
   "execution_count": 9,
   "metadata": {},
   "outputs": [
    {
     "data": {
      "text/html": [
       "<div>\n",
       "<style scoped>\n",
       "    .dataframe tbody tr th:only-of-type {\n",
       "        vertical-align: middle;\n",
       "    }\n",
       "\n",
       "    .dataframe tbody tr th {\n",
       "        vertical-align: top;\n",
       "    }\n",
       "\n",
       "    .dataframe thead th {\n",
       "        text-align: right;\n",
       "    }\n",
       "</style>\n",
       "<table border=\"1\" class=\"dataframe\">\n",
       "  <thead>\n",
       "    <tr style=\"text-align: right;\">\n",
       "      <th></th>\n",
       "      <th>movie_id</th>\n",
       "    </tr>\n",
       "  </thead>\n",
       "  <tbody>\n",
       "    <tr>\n",
       "      <th>0</th>\n",
       "      <td>tt0000012</td>\n",
       "    </tr>\n",
       "    <tr>\n",
       "      <th>1</th>\n",
       "      <td>tt0000417</td>\n",
       "    </tr>\n",
       "    <tr>\n",
       "      <th>2</th>\n",
       "      <td>tt0000439</td>\n",
       "    </tr>\n",
       "    <tr>\n",
       "      <th>3</th>\n",
       "      <td>tt0004972</td>\n",
       "    </tr>\n",
       "    <tr>\n",
       "      <th>4</th>\n",
       "      <td>tt0006333</td>\n",
       "    </tr>\n",
       "  </tbody>\n",
       "</table>\n",
       "</div>"
      ],
      "text/plain": [
       "    movie_id\n",
       "0  tt0000012\n",
       "1  tt0000417\n",
       "2  tt0000439\n",
       "3  tt0004972\n",
       "4  tt0006333"
      ]
     },
     "execution_count": 9,
     "metadata": {},
     "output_type": "execute_result"
    }
   ],
   "source": [
    "df_needed_movies = pd.DataFrame(needed_movies)\n",
    "df_needed_movies.columns = ['movie_id']\n",
    "df_needed_movies.head()"
   ]
  },
  {
   "cell_type": "code",
   "execution_count": 10,
   "metadata": {},
   "outputs": [
    {
     "data": {
      "text/plain": [
       "(13795, 1)"
      ]
     },
     "execution_count": 10,
     "metadata": {},
     "output_type": "execute_result"
    }
   ],
   "source": [
    "df_needed_movies.shape"
   ]
  },
  {
   "cell_type": "code",
   "execution_count": 11,
   "metadata": {},
   "outputs": [],
   "source": [
    "# actors table\n",
    "# directors table"
   ]
  },
  {
   "cell_type": "code",
   "execution_count": 12,
   "metadata": {},
   "outputs": [
    {
     "data": {
      "text/html": [
       "<div>\n",
       "<style scoped>\n",
       "    .dataframe tbody tr th:only-of-type {\n",
       "        vertical-align: middle;\n",
       "    }\n",
       "\n",
       "    .dataframe tbody tr th {\n",
       "        vertical-align: top;\n",
       "    }\n",
       "\n",
       "    .dataframe thead th {\n",
       "        text-align: right;\n",
       "    }\n",
       "</style>\n",
       "<table border=\"1\" class=\"dataframe\">\n",
       "  <thead>\n",
       "    <tr style=\"text-align: right;\">\n",
       "      <th></th>\n",
       "      <th>movie_id</th>\n",
       "      <th>tconst</th>\n",
       "      <th>directors</th>\n",
       "      <th>writers</th>\n",
       "    </tr>\n",
       "  </thead>\n",
       "  <tbody>\n",
       "    <tr>\n",
       "      <th>0</th>\n",
       "      <td>tt0000012</td>\n",
       "      <td>NaN</td>\n",
       "      <td>NaN</td>\n",
       "      <td>NaN</td>\n",
       "    </tr>\n",
       "    <tr>\n",
       "      <th>1</th>\n",
       "      <td>tt0000417</td>\n",
       "      <td>tt0000417</td>\n",
       "      <td>nm0617588</td>\n",
       "      <td>nm0617588,nm0894523,nm0920229</td>\n",
       "    </tr>\n",
       "    <tr>\n",
       "      <th>2</th>\n",
       "      <td>tt0000439</td>\n",
       "      <td>tt0000439</td>\n",
       "      <td>nm0692105</td>\n",
       "      <td>nm1145809,nm0692105</td>\n",
       "    </tr>\n",
       "    <tr>\n",
       "      <th>3</th>\n",
       "      <td>tt0004972</td>\n",
       "      <td>tt0004972</td>\n",
       "      <td>nm0000428</td>\n",
       "      <td>nm0228746,nm0000428,nm0940488</td>\n",
       "    </tr>\n",
       "    <tr>\n",
       "      <th>4</th>\n",
       "      <td>tt0006333</td>\n",
       "      <td>tt0006333</td>\n",
       "      <td>nm0665737</td>\n",
       "      <td>nm0894523,nm0665737</td>\n",
       "    </tr>\n",
       "  </tbody>\n",
       "</table>\n",
       "</div>"
      ],
      "text/plain": [
       "    movie_id     tconst  directors                        writers\n",
       "0  tt0000012        NaN        NaN                            NaN\n",
       "1  tt0000417  tt0000417  nm0617588  nm0617588,nm0894523,nm0920229\n",
       "2  tt0000439  tt0000439  nm0692105            nm1145809,nm0692105\n",
       "3  tt0004972  tt0004972  nm0000428  nm0228746,nm0000428,nm0940488\n",
       "4  tt0006333  tt0006333  nm0665737            nm0894523,nm0665737"
      ]
     },
     "execution_count": 12,
     "metadata": {},
     "output_type": "execute_result"
    }
   ],
   "source": [
    "needed_movies_joined_to_directors = pd.merge(df_needed_movies,\n",
    "                                             dfs['imdb_crew'],\n",
    "                                             left_on='movie_id',\n",
    "                                             right_on='tconst',\n",
    "                                             how='left')\n",
    "needed_movies_joined_to_directors.head()"
   ]
  },
  {
   "cell_type": "code",
   "execution_count": 13,
   "metadata": {},
   "outputs": [
    {
     "data": {
      "text/plain": [
       "array(['tt0000012', 'tt0000417', 'tt0000439', ..., 'tt9412098',\n",
       "       'tt9495224', 'tt9573980'], dtype=object)"
      ]
     },
     "execution_count": 13,
     "metadata": {},
     "output_type": "execute_result"
    }
   ],
   "source": [
    "unique_movies = needed_movies_joined_to_directors.movie_id.unique()\n",
    "unique_movies"
   ]
  },
  {
   "cell_type": "code",
   "execution_count": 14,
   "metadata": {},
   "outputs": [
    {
     "data": {
      "text/plain": [
       "13795"
      ]
     },
     "execution_count": 14,
     "metadata": {},
     "output_type": "execute_result"
    }
   ],
   "source": [
    "needed_movies_joined_to_directors.movie_id.nunique()"
   ]
  },
  {
   "cell_type": "code",
   "execution_count": 15,
   "metadata": {},
   "outputs": [
    {
     "data": {
      "text/plain": [
       "5569"
      ]
     },
     "execution_count": 15,
     "metadata": {},
     "output_type": "execute_result"
    }
   ],
   "source": [
    "needed_movies_joined_to_directors.directors.nunique()"
   ]
  },
  {
   "cell_type": "code",
   "execution_count": 16,
   "metadata": {},
   "outputs": [
    {
     "data": {
      "text/plain": [
       "nan"
      ]
     },
     "execution_count": 16,
     "metadata": {},
     "output_type": "execute_result"
    }
   ],
   "source": [
    "np.nan"
   ]
  },
  {
   "cell_type": "code",
   "execution_count": 17,
   "metadata": {},
   "outputs": [],
   "source": [
    "# needed_movies_joined_to_directors.loc[:,'writers'] = np.where(needed_movies_joined_to_directors.writers == r'\\N',\n",
    "#                                                               np.nan,\n",
    "#                                                               needed_movies_joined_to_directors.writers)"
   ]
  },
  {
   "cell_type": "code",
   "execution_count": 18,
   "metadata": {},
   "outputs": [],
   "source": [
    "needed_movies_joined_to_directors = (needed_movies_joined_to_directors[~\n",
    "                               needed_movies_joined_to_directors.directors.isna()])"
   ]
  },
  {
   "cell_type": "code",
   "execution_count": 19,
   "metadata": {},
   "outputs": [
    {
     "data": {
      "text/html": [
       "<div>\n",
       "<style scoped>\n",
       "    .dataframe tbody tr th:only-of-type {\n",
       "        vertical-align: middle;\n",
       "    }\n",
       "\n",
       "    .dataframe tbody tr th {\n",
       "        vertical-align: top;\n",
       "    }\n",
       "\n",
       "    .dataframe thead th {\n",
       "        text-align: right;\n",
       "    }\n",
       "</style>\n",
       "<table border=\"1\" class=\"dataframe\">\n",
       "  <thead>\n",
       "    <tr style=\"text-align: right;\">\n",
       "      <th></th>\n",
       "      <th>movie_id</th>\n",
       "      <th>tconst</th>\n",
       "      <th>directors</th>\n",
       "      <th>writers</th>\n",
       "    </tr>\n",
       "  </thead>\n",
       "  <tbody>\n",
       "  </tbody>\n",
       "</table>\n",
       "</div>"
      ],
      "text/plain": [
       "Empty DataFrame\n",
       "Columns: [movie_id, tconst, directors, writers]\n",
       "Index: []"
      ]
     },
     "execution_count": 19,
     "metadata": {},
     "output_type": "execute_result"
    }
   ],
   "source": [
    "needed_movies_joined_to_directors[needed_movies_joined_to_directors.directors.isna()]"
   ]
  },
  {
   "cell_type": "code",
   "execution_count": 20,
   "metadata": {},
   "outputs": [
    {
     "data": {
      "text/plain": [
       "(13512, 4)"
      ]
     },
     "execution_count": 20,
     "metadata": {},
     "output_type": "execute_result"
    }
   ],
   "source": [
    "needed_movies_joined_to_directors.shape"
   ]
  },
  {
   "cell_type": "code",
   "execution_count": 21,
   "metadata": {},
   "outputs": [],
   "source": [
    "all_needed_directors = pd.Series(needed_movies_joined_to_directors.directors.unique())"
   ]
  },
  {
   "cell_type": "code",
   "execution_count": 22,
   "metadata": {},
   "outputs": [
    {
     "data": {
      "text/plain": [
       "(5569,)"
      ]
     },
     "execution_count": 22,
     "metadata": {},
     "output_type": "execute_result"
    }
   ],
   "source": [
    "all_needed_directors.shape"
   ]
  },
  {
   "cell_type": "code",
   "execution_count": 23,
   "metadata": {},
   "outputs": [
    {
     "data": {
      "text/plain": [
       "0    nm0617588\n",
       "1    nm0692105\n",
       "2    nm0000428\n",
       "3    nm0665737\n",
       "4    nm0000122\n",
       "dtype: object"
      ]
     },
     "execution_count": 23,
     "metadata": {},
     "output_type": "execute_result"
    }
   ],
   "source": [
    "all_needed_directors.head()"
   ]
  },
  {
   "cell_type": "code",
   "execution_count": 24,
   "metadata": {},
   "outputs": [],
   "source": [
    "cleaned_all_needed_directors = []\n",
    "for pair in [person.split(',') for person in all_needed_directors]:\n",
    "    for item in pair:\n",
    "        cleaned_all_needed_directors.append(item)"
   ]
  },
  {
   "cell_type": "code",
   "execution_count": 25,
   "metadata": {},
   "outputs": [
    {
     "data": {
      "text/html": [
       "<div>\n",
       "<style scoped>\n",
       "    .dataframe tbody tr th:only-of-type {\n",
       "        vertical-align: middle;\n",
       "    }\n",
       "\n",
       "    .dataframe tbody tr th {\n",
       "        vertical-align: top;\n",
       "    }\n",
       "\n",
       "    .dataframe thead th {\n",
       "        text-align: right;\n",
       "    }\n",
       "</style>\n",
       "<table border=\"1\" class=\"dataframe\">\n",
       "  <thead>\n",
       "    <tr style=\"text-align: right;\">\n",
       "      <th></th>\n",
       "      <th>nconst</th>\n",
       "    </tr>\n",
       "  </thead>\n",
       "  <tbody>\n",
       "    <tr>\n",
       "      <th>0</th>\n",
       "      <td>nm0617588</td>\n",
       "    </tr>\n",
       "    <tr>\n",
       "      <th>1</th>\n",
       "      <td>nm0692105</td>\n",
       "    </tr>\n",
       "    <tr>\n",
       "      <th>2</th>\n",
       "      <td>nm0000428</td>\n",
       "    </tr>\n",
       "    <tr>\n",
       "      <th>3</th>\n",
       "      <td>nm0665737</td>\n",
       "    </tr>\n",
       "    <tr>\n",
       "      <th>4</th>\n",
       "      <td>nm0000122</td>\n",
       "    </tr>\n",
       "  </tbody>\n",
       "</table>\n",
       "</div>"
      ],
      "text/plain": [
       "      nconst\n",
       "0  nm0617588\n",
       "1  nm0692105\n",
       "2  nm0000428\n",
       "3  nm0665737\n",
       "4  nm0000122"
      ]
     },
     "execution_count": 25,
     "metadata": {},
     "output_type": "execute_result"
    }
   ],
   "source": [
    "cleaned_all_needed_directors = pd.DataFrame(np.array(cleaned_all_needed_directors), columns=['nconst'])\n",
    "cleaned_all_needed_directors.head()"
   ]
  },
  {
   "cell_type": "code",
   "execution_count": 26,
   "metadata": {},
   "outputs": [
    {
     "data": {
      "text/plain": [
       "(7013, 1)"
      ]
     },
     "execution_count": 26,
     "metadata": {},
     "output_type": "execute_result"
    }
   ],
   "source": [
    "cleaned_all_needed_directors.shape"
   ]
  },
  {
   "cell_type": "code",
   "execution_count": 27,
   "metadata": {},
   "outputs": [
    {
     "data": {
      "text/plain": [
       "False"
      ]
     },
     "execution_count": 27,
     "metadata": {},
     "output_type": "execute_result"
    }
   ],
   "source": [
    "'nm5278146' in cleaned_all_needed_directors.nconst"
   ]
  },
  {
   "cell_type": "code",
   "execution_count": 28,
   "metadata": {},
   "outputs": [
    {
     "data": {
      "text/html": [
       "<div>\n",
       "<style scoped>\n",
       "    .dataframe tbody tr th:only-of-type {\n",
       "        vertical-align: middle;\n",
       "    }\n",
       "\n",
       "    .dataframe tbody tr th {\n",
       "        vertical-align: top;\n",
       "    }\n",
       "\n",
       "    .dataframe thead th {\n",
       "        text-align: right;\n",
       "    }\n",
       "</style>\n",
       "<table border=\"1\" class=\"dataframe\">\n",
       "  <thead>\n",
       "    <tr style=\"text-align: right;\">\n",
       "      <th></th>\n",
       "      <th>tconst</th>\n",
       "      <th>directors</th>\n",
       "      <th>writers</th>\n",
       "    </tr>\n",
       "  </thead>\n",
       "  <tbody>\n",
       "    <tr>\n",
       "      <th>8</th>\n",
       "      <td>tt0000009</td>\n",
       "      <td>nm0085156</td>\n",
       "      <td>nm0085156</td>\n",
       "    </tr>\n",
       "    <tr>\n",
       "      <th>34</th>\n",
       "      <td>tt0000036</td>\n",
       "      <td>nm0005690</td>\n",
       "      <td>nm0410331</td>\n",
       "    </tr>\n",
       "    <tr>\n",
       "      <th>74</th>\n",
       "      <td>tt0000076</td>\n",
       "      <td>nm0005690</td>\n",
       "      <td>nm0410331</td>\n",
       "    </tr>\n",
       "    <tr>\n",
       "      <th>89</th>\n",
       "      <td>tt0000091</td>\n",
       "      <td>nm0617588</td>\n",
       "      <td>nm0617588</td>\n",
       "    </tr>\n",
       "    <tr>\n",
       "      <th>106</th>\n",
       "      <td>tt0000108</td>\n",
       "      <td>nm0005690</td>\n",
       "      <td>nm0410331</td>\n",
       "    </tr>\n",
       "  </tbody>\n",
       "</table>\n",
       "</div>"
      ],
      "text/plain": [
       "        tconst  directors    writers\n",
       "8    tt0000009  nm0085156  nm0085156\n",
       "34   tt0000036  nm0005690  nm0410331\n",
       "74   tt0000076  nm0005690  nm0410331\n",
       "89   tt0000091  nm0617588  nm0617588\n",
       "106  tt0000108  nm0005690  nm0410331"
      ]
     },
     "execution_count": 28,
     "metadata": {},
     "output_type": "execute_result"
    }
   ],
   "source": [
    "dfs['imdb_crew'].head()"
   ]
  },
  {
   "cell_type": "code",
   "execution_count": 29,
   "metadata": {},
   "outputs": [
    {
     "data": {
      "text/html": [
       "<div>\n",
       "<style scoped>\n",
       "    .dataframe tbody tr th:only-of-type {\n",
       "        vertical-align: middle;\n",
       "    }\n",
       "\n",
       "    .dataframe tbody tr th {\n",
       "        vertical-align: top;\n",
       "    }\n",
       "\n",
       "    .dataframe thead th {\n",
       "        text-align: right;\n",
       "    }\n",
       "</style>\n",
       "<table border=\"1\" class=\"dataframe\">\n",
       "  <thead>\n",
       "    <tr style=\"text-align: right;\">\n",
       "      <th></th>\n",
       "      <th>tconst</th>\n",
       "      <th>directors</th>\n",
       "      <th>writers</th>\n",
       "    </tr>\n",
       "  </thead>\n",
       "  <tbody>\n",
       "  </tbody>\n",
       "</table>\n",
       "</div>"
      ],
      "text/plain": [
       "Empty DataFrame\n",
       "Columns: [tconst, directors, writers]\n",
       "Index: []"
      ]
     },
     "execution_count": 29,
     "metadata": {},
     "output_type": "execute_result"
    }
   ],
   "source": [
    "dfs['imdb_crew'][dfs['imdb_crew'].writers.isna()]"
   ]
  },
  {
   "cell_type": "code",
   "execution_count": 30,
   "metadata": {},
   "outputs": [
    {
     "data": {
      "text/html": [
       "<div>\n",
       "<style scoped>\n",
       "    .dataframe tbody tr th:only-of-type {\n",
       "        vertical-align: middle;\n",
       "    }\n",
       "\n",
       "    .dataframe tbody tr th {\n",
       "        vertical-align: top;\n",
       "    }\n",
       "\n",
       "    .dataframe thead th {\n",
       "        text-align: right;\n",
       "    }\n",
       "</style>\n",
       "<table border=\"1\" class=\"dataframe\">\n",
       "  <thead>\n",
       "    <tr style=\"text-align: right;\">\n",
       "      <th></th>\n",
       "      <th>nconst</th>\n",
       "    </tr>\n",
       "  </thead>\n",
       "  <tbody>\n",
       "  </tbody>\n",
       "</table>\n",
       "</div>"
      ],
      "text/plain": [
       "Empty DataFrame\n",
       "Columns: [nconst]\n",
       "Index: []"
      ]
     },
     "execution_count": 30,
     "metadata": {},
     "output_type": "execute_result"
    }
   ],
   "source": [
    "cleaned_all_needed_directors[cleaned_all_needed_directors.nconst.isna()]"
   ]
  },
  {
   "cell_type": "code",
   "execution_count": 31,
   "metadata": {},
   "outputs": [],
   "source": [
    "# * NOTE some directors exist in the directors field for movies but in the imdb crew are not found\n",
    "#  using this we can find these cases how='left')\n",
    "# 618 directors dont exist in the imdb crew dataset"
   ]
  },
  {
   "cell_type": "code",
   "execution_count": 32,
   "metadata": {},
   "outputs": [
    {
     "data": {
      "text/html": [
       "<div>\n",
       "<style scoped>\n",
       "    .dataframe tbody tr th:only-of-type {\n",
       "        vertical-align: middle;\n",
       "    }\n",
       "\n",
       "    .dataframe tbody tr th {\n",
       "        vertical-align: top;\n",
       "    }\n",
       "\n",
       "    .dataframe thead th {\n",
       "        text-align: right;\n",
       "    }\n",
       "</style>\n",
       "<table border=\"1\" class=\"dataframe\">\n",
       "  <thead>\n",
       "    <tr style=\"text-align: right;\">\n",
       "      <th></th>\n",
       "      <th>nconst</th>\n",
       "    </tr>\n",
       "  </thead>\n",
       "  <tbody>\n",
       "    <tr>\n",
       "      <th>0</th>\n",
       "      <td>nm0617588</td>\n",
       "    </tr>\n",
       "    <tr>\n",
       "      <th>1</th>\n",
       "      <td>nm0692105</td>\n",
       "    </tr>\n",
       "    <tr>\n",
       "      <th>2</th>\n",
       "      <td>nm0000428</td>\n",
       "    </tr>\n",
       "    <tr>\n",
       "      <th>3</th>\n",
       "      <td>nm0665737</td>\n",
       "    </tr>\n",
       "    <tr>\n",
       "      <th>4</th>\n",
       "      <td>nm0000122</td>\n",
       "    </tr>\n",
       "  </tbody>\n",
       "</table>\n",
       "</div>"
      ],
      "text/plain": [
       "      nconst\n",
       "0  nm0617588\n",
       "1  nm0692105\n",
       "2  nm0000428\n",
       "3  nm0665737\n",
       "4  nm0000122"
      ]
     },
     "execution_count": 32,
     "metadata": {},
     "output_type": "execute_result"
    }
   ],
   "source": [
    "cleaned_all_needed_directors.head()"
   ]
  },
  {
   "cell_type": "code",
   "execution_count": 33,
   "metadata": {},
   "outputs": [
    {
     "data": {
      "text/html": [
       "<div>\n",
       "<style scoped>\n",
       "    .dataframe tbody tr th:only-of-type {\n",
       "        vertical-align: middle;\n",
       "    }\n",
       "\n",
       "    .dataframe tbody tr th {\n",
       "        vertical-align: top;\n",
       "    }\n",
       "\n",
       "    .dataframe thead th {\n",
       "        text-align: right;\n",
       "    }\n",
       "</style>\n",
       "<table border=\"1\" class=\"dataframe\">\n",
       "  <thead>\n",
       "    <tr style=\"text-align: right;\">\n",
       "      <th></th>\n",
       "      <th>tconst</th>\n",
       "      <th>directors</th>\n",
       "      <th>writers</th>\n",
       "    </tr>\n",
       "  </thead>\n",
       "  <tbody>\n",
       "    <tr>\n",
       "      <th>8</th>\n",
       "      <td>tt0000009</td>\n",
       "      <td>nm0085156</td>\n",
       "      <td>nm0085156</td>\n",
       "    </tr>\n",
       "    <tr>\n",
       "      <th>34</th>\n",
       "      <td>tt0000036</td>\n",
       "      <td>nm0005690</td>\n",
       "      <td>nm0410331</td>\n",
       "    </tr>\n",
       "    <tr>\n",
       "      <th>74</th>\n",
       "      <td>tt0000076</td>\n",
       "      <td>nm0005690</td>\n",
       "      <td>nm0410331</td>\n",
       "    </tr>\n",
       "    <tr>\n",
       "      <th>89</th>\n",
       "      <td>tt0000091</td>\n",
       "      <td>nm0617588</td>\n",
       "      <td>nm0617588</td>\n",
       "    </tr>\n",
       "    <tr>\n",
       "      <th>106</th>\n",
       "      <td>tt0000108</td>\n",
       "      <td>nm0005690</td>\n",
       "      <td>nm0410331</td>\n",
       "    </tr>\n",
       "  </tbody>\n",
       "</table>\n",
       "</div>"
      ],
      "text/plain": [
       "        tconst  directors    writers\n",
       "8    tt0000009  nm0085156  nm0085156\n",
       "34   tt0000036  nm0005690  nm0410331\n",
       "74   tt0000076  nm0005690  nm0410331\n",
       "89   tt0000091  nm0617588  nm0617588\n",
       "106  tt0000108  nm0005690  nm0410331"
      ]
     },
     "execution_count": 33,
     "metadata": {},
     "output_type": "execute_result"
    }
   ],
   "source": [
    "dfs['imdb_crew'].head()"
   ]
  },
  {
   "cell_type": "code",
   "execution_count": 34,
   "metadata": {},
   "outputs": [
    {
     "data": {
      "text/html": [
       "<div>\n",
       "<style scoped>\n",
       "    .dataframe tbody tr th:only-of-type {\n",
       "        vertical-align: middle;\n",
       "    }\n",
       "\n",
       "    .dataframe tbody tr th {\n",
       "        vertical-align: top;\n",
       "    }\n",
       "\n",
       "    .dataframe thead th {\n",
       "        text-align: right;\n",
       "    }\n",
       "</style>\n",
       "<table border=\"1\" class=\"dataframe\">\n",
       "  <thead>\n",
       "    <tr style=\"text-align: right;\">\n",
       "      <th></th>\n",
       "      <th>nconst</th>\n",
       "      <th>tconst</th>\n",
       "      <th>directors</th>\n",
       "      <th>writers</th>\n",
       "    </tr>\n",
       "  </thead>\n",
       "  <tbody>\n",
       "    <tr>\n",
       "      <th>0</th>\n",
       "      <td>nm0617588</td>\n",
       "      <td>tt0000091</td>\n",
       "      <td>nm0617588</td>\n",
       "      <td>nm0617588</td>\n",
       "    </tr>\n",
       "    <tr>\n",
       "      <th>1</th>\n",
       "      <td>nm0617588</td>\n",
       "      <td>tt0000132</td>\n",
       "      <td>nm0617588</td>\n",
       "      <td>nm0617588</td>\n",
       "    </tr>\n",
       "    <tr>\n",
       "      <th>2</th>\n",
       "      <td>nm0617588</td>\n",
       "      <td>tt0000138</td>\n",
       "      <td>nm0617588</td>\n",
       "      <td>nm0617588</td>\n",
       "    </tr>\n",
       "    <tr>\n",
       "      <th>3</th>\n",
       "      <td>nm0617588</td>\n",
       "      <td>tt0000211</td>\n",
       "      <td>nm0617588</td>\n",
       "      <td>nm0617588</td>\n",
       "    </tr>\n",
       "    <tr>\n",
       "      <th>4</th>\n",
       "      <td>nm0617588</td>\n",
       "      <td>tt0000218</td>\n",
       "      <td>nm0617588</td>\n",
       "      <td>nm0617588</td>\n",
       "    </tr>\n",
       "  </tbody>\n",
       "</table>\n",
       "</div>"
      ],
      "text/plain": [
       "      nconst     tconst  directors    writers\n",
       "0  nm0617588  tt0000091  nm0617588  nm0617588\n",
       "1  nm0617588  tt0000132  nm0617588  nm0617588\n",
       "2  nm0617588  tt0000138  nm0617588  nm0617588\n",
       "3  nm0617588  tt0000211  nm0617588  nm0617588\n",
       "4  nm0617588  tt0000218  nm0617588  nm0617588"
      ]
     },
     "execution_count": 34,
     "metadata": {},
     "output_type": "execute_result"
    }
   ],
   "source": [
    "directors_and_movies = pd.merge(cleaned_all_needed_directors, \n",
    "                                dfs['imdb_crew'],\n",
    "                                left_on='nconst',\n",
    "                                right_on='directors',\n",
    "                                how='inner')\n",
    "directors_and_movies.head()"
   ]
  },
  {
   "cell_type": "code",
   "execution_count": 35,
   "metadata": {},
   "outputs": [
    {
     "data": {
      "text/plain": [
       "155889"
      ]
     },
     "execution_count": 35,
     "metadata": {},
     "output_type": "execute_result"
    }
   ],
   "source": [
    "directors_and_movies.tconst.nunique()"
   ]
  },
  {
   "cell_type": "code",
   "execution_count": 36,
   "metadata": {},
   "outputs": [
    {
     "data": {
      "text/plain": [
       "12509"
      ]
     },
     "execution_count": 36,
     "metadata": {},
     "output_type": "execute_result"
    }
   ],
   "source": [
    "# filter this set down by only the movies we have access to.\n",
    "directors_and_movies_filtered = directors_and_movies[directors_and_movies.tconst.isin(unique_movies)]\n",
    "directors_and_movies_filtered.tconst.nunique()"
   ]
  },
  {
   "cell_type": "code",
   "execution_count": 37,
   "metadata": {},
   "outputs": [
    {
     "data": {
      "text/plain": [
       "nconst\n",
       "nm0455741    1788\n",
       "nm0005062    1768\n",
       "nm0814716    1570\n",
       "nm1853544    1080\n",
       "nm0400958     910\n",
       "Name: tconst, dtype: int64"
      ]
     },
     "execution_count": 37,
     "metadata": {},
     "output_type": "execute_result"
    }
   ],
   "source": [
    "# check how many movies each director was in\n",
    "s = directors_and_movies.groupby('nconst').count()['tconst'].sort_values(ascending=False)\n",
    "s.head()"
   ]
  },
  {
   "cell_type": "code",
   "execution_count": 38,
   "metadata": {},
   "outputs": [
    {
     "data": {
      "text/plain": [
       "nconst\n",
       "nm0095298    1\n",
       "nm0582481    1\n",
       "nm5169133    1\n",
       "nm1703612    1\n",
       "nm2499640    1\n",
       "Name: tconst, dtype: int64"
      ]
     },
     "execution_count": 38,
     "metadata": {},
     "output_type": "execute_result"
    }
   ],
   "source": [
    "s.tail()"
   ]
  },
  {
   "cell_type": "code",
   "execution_count": 39,
   "metadata": {},
   "outputs": [
    {
     "data": {
      "text/html": [
       "<div>\n",
       "<style scoped>\n",
       "    .dataframe tbody tr th:only-of-type {\n",
       "        vertical-align: middle;\n",
       "    }\n",
       "\n",
       "    .dataframe tbody tr th {\n",
       "        vertical-align: top;\n",
       "    }\n",
       "\n",
       "    .dataframe thead th {\n",
       "        text-align: right;\n",
       "    }\n",
       "</style>\n",
       "<table border=\"1\" class=\"dataframe\">\n",
       "  <thead>\n",
       "    <tr style=\"text-align: right;\">\n",
       "      <th></th>\n",
       "      <th>nconst</th>\n",
       "      <th>tconst</th>\n",
       "    </tr>\n",
       "  </thead>\n",
       "  <tbody>\n",
       "    <tr>\n",
       "      <th>0</th>\n",
       "      <td>nm0455741</td>\n",
       "      <td>1788</td>\n",
       "    </tr>\n",
       "  </tbody>\n",
       "</table>\n",
       "</div>"
      ],
      "text/plain": [
       "      nconst  tconst\n",
       "0  nm0455741    1788"
      ]
     },
     "execution_count": 39,
     "metadata": {},
     "output_type": "execute_result"
    }
   ],
   "source": [
    "directors_movie_counts = s.reset_index()\n",
    "directors_movie_counts[directors_movie_counts['nconst'] == 'nm0455741']"
   ]
  },
  {
   "cell_type": "code",
   "execution_count": 40,
   "metadata": {},
   "outputs": [
    {
     "data": {
      "text/plain": [
       "35.21098901098901"
      ]
     },
     "execution_count": 40,
     "metadata": {},
     "output_type": "execute_result"
    }
   ],
   "source": [
    "# EDA this is the average number of movies each director in our dataset directed\n",
    "s.mean()"
   ]
  },
  {
   "cell_type": "code",
   "execution_count": 41,
   "metadata": {},
   "outputs": [],
   "source": [
    "directors_and_movies = directors_and_movies[['directors', 'tconst']]\n",
    "directors_and_movies.columns = ['directors', 'movies']"
   ]
  },
  {
   "cell_type": "code",
   "execution_count": 42,
   "metadata": {},
   "outputs": [],
   "source": [
    "# load movies, ids, releveance into df\n",
    "# join this with directors and movies on movies id\n",
    "# aggregate on [directors, movies] and apply aggregate function (mean) (or weighted based on rating)"
   ]
  },
  {
   "cell_type": "code",
   "execution_count": 43,
   "metadata": {},
   "outputs": [
    {
     "data": {
      "text/html": [
       "<div>\n",
       "<style scoped>\n",
       "    .dataframe tbody tr th:only-of-type {\n",
       "        vertical-align: middle;\n",
       "    }\n",
       "\n",
       "    .dataframe tbody tr th {\n",
       "        vertical-align: top;\n",
       "    }\n",
       "\n",
       "    .dataframe thead th {\n",
       "        text-align: right;\n",
       "    }\n",
       "</style>\n",
       "<table border=\"1\" class=\"dataframe\">\n",
       "  <thead>\n",
       "    <tr style=\"text-align: right;\">\n",
       "      <th></th>\n",
       "      <th>fk_id</th>\n",
       "      <th>tag_id</th>\n",
       "      <th>relevance</th>\n",
       "      <th>id</th>\n",
       "      <th>kind</th>\n",
       "      <th>primary_title</th>\n",
       "      <th>original_title</th>\n",
       "      <th>release_year</th>\n",
       "      <th>runtime_minutes</th>\n",
       "      <th>genres</th>\n",
       "    </tr>\n",
       "  </thead>\n",
       "  <tbody>\n",
       "    <tr>\n",
       "      <th>0</th>\n",
       "      <td>tt0000012</td>\n",
       "      <td>1</td>\n",
       "      <td>0.04500</td>\n",
       "      <td>tt0000012</td>\n",
       "      <td>short</td>\n",
       "      <td>The Arrival of a Train</td>\n",
       "      <td>L'arrivée d'un train à La Ciotat</td>\n",
       "      <td>1896</td>\n",
       "      <td>1</td>\n",
       "      <td>Action,Documentary,Short</td>\n",
       "    </tr>\n",
       "    <tr>\n",
       "      <th>1</th>\n",
       "      <td>tt0000012</td>\n",
       "      <td>2</td>\n",
       "      <td>0.04225</td>\n",
       "      <td>tt0000012</td>\n",
       "      <td>short</td>\n",
       "      <td>The Arrival of a Train</td>\n",
       "      <td>L'arrivée d'un train à La Ciotat</td>\n",
       "      <td>1896</td>\n",
       "      <td>1</td>\n",
       "      <td>Action,Documentary,Short</td>\n",
       "    </tr>\n",
       "    <tr>\n",
       "      <th>2</th>\n",
       "      <td>tt0000012</td>\n",
       "      <td>3</td>\n",
       "      <td>0.03475</td>\n",
       "      <td>tt0000012</td>\n",
       "      <td>short</td>\n",
       "      <td>The Arrival of a Train</td>\n",
       "      <td>L'arrivée d'un train à La Ciotat</td>\n",
       "      <td>1896</td>\n",
       "      <td>1</td>\n",
       "      <td>Action,Documentary,Short</td>\n",
       "    </tr>\n",
       "    <tr>\n",
       "      <th>3</th>\n",
       "      <td>tt0000012</td>\n",
       "      <td>4</td>\n",
       "      <td>0.03750</td>\n",
       "      <td>tt0000012</td>\n",
       "      <td>short</td>\n",
       "      <td>The Arrival of a Train</td>\n",
       "      <td>L'arrivée d'un train à La Ciotat</td>\n",
       "      <td>1896</td>\n",
       "      <td>1</td>\n",
       "      <td>Action,Documentary,Short</td>\n",
       "    </tr>\n",
       "    <tr>\n",
       "      <th>4</th>\n",
       "      <td>tt0000012</td>\n",
       "      <td>5</td>\n",
       "      <td>0.21475</td>\n",
       "      <td>tt0000012</td>\n",
       "      <td>short</td>\n",
       "      <td>The Arrival of a Train</td>\n",
       "      <td>L'arrivée d'un train à La Ciotat</td>\n",
       "      <td>1896</td>\n",
       "      <td>1</td>\n",
       "      <td>Action,Documentary,Short</td>\n",
       "    </tr>\n",
       "  </tbody>\n",
       "</table>\n",
       "</div>"
      ],
      "text/plain": [
       "       fk_id tag_id  relevance         id   kind           primary_title  \\\n",
       "0  tt0000012      1    0.04500  tt0000012  short  The Arrival of a Train   \n",
       "1  tt0000012      2    0.04225  tt0000012  short  The Arrival of a Train   \n",
       "2  tt0000012      3    0.03475  tt0000012  short  The Arrival of a Train   \n",
       "3  tt0000012      4    0.03750  tt0000012  short  The Arrival of a Train   \n",
       "4  tt0000012      5    0.21475  tt0000012  short  The Arrival of a Train   \n",
       "\n",
       "                     original_title  release_year  runtime_minutes  \\\n",
       "0  L'arrivée d'un train à La Ciotat          1896                1   \n",
       "1  L'arrivée d'un train à La Ciotat          1896                1   \n",
       "2  L'arrivée d'un train à La Ciotat          1896                1   \n",
       "3  L'arrivée d'un train à La Ciotat          1896                1   \n",
       "4  L'arrivée d'un train à La Ciotat          1896                1   \n",
       "\n",
       "                     genres  \n",
       "0  Action,Documentary,Short  \n",
       "1  Action,Documentary,Short  \n",
       "2  Action,Documentary,Short  \n",
       "3  Action,Documentary,Short  \n",
       "4  Action,Documentary,Short  "
      ]
     },
     "execution_count": 43,
     "metadata": {},
     "output_type": "execute_result"
    }
   ],
   "source": [
    "sql = '''\n",
    "select *\n",
    "from tag_relevance\n",
    "join movies\n",
    "on fk_id = id\n",
    "limit 50000000\n",
    "'''\n",
    "c\n",
    "df_movie_tags = pd.read_sql(sql, con=conn)\n",
    "df_movie_tags.head()"
   ]
  },
  {
   "cell_type": "code",
   "execution_count": 44,
   "metadata": {},
   "outputs": [],
   "source": [
    "# df_movie_tags.groupby('fk_id').count().tag_id.unique()"
   ]
  },
  {
   "cell_type": "code",
   "execution_count": 45,
   "metadata": {},
   "outputs": [],
   "source": [
    "# NOTE: fix nans from being joined above\n",
    "# for now just remove"
   ]
  },
  {
   "cell_type": "code",
   "execution_count": 46,
   "metadata": {},
   "outputs": [],
   "source": [
    "# directors_and_movies = directors_and_movies[~directors_and_movies.tconst.isna()]"
   ]
  },
  {
   "cell_type": "code",
   "execution_count": 47,
   "metadata": {},
   "outputs": [
    {
     "data": {
      "text/html": [
       "<div>\n",
       "<style scoped>\n",
       "    .dataframe tbody tr th:only-of-type {\n",
       "        vertical-align: middle;\n",
       "    }\n",
       "\n",
       "    .dataframe tbody tr th {\n",
       "        vertical-align: top;\n",
       "    }\n",
       "\n",
       "    .dataframe thead th {\n",
       "        text-align: right;\n",
       "    }\n",
       "</style>\n",
       "<table border=\"1\" class=\"dataframe\">\n",
       "  <thead>\n",
       "    <tr style=\"text-align: right;\">\n",
       "      <th></th>\n",
       "      <th>directors</th>\n",
       "      <th>movies</th>\n",
       "    </tr>\n",
       "  </thead>\n",
       "  <tbody>\n",
       "    <tr>\n",
       "      <th>0</th>\n",
       "      <td>nm0617588</td>\n",
       "      <td>tt0000091</td>\n",
       "    </tr>\n",
       "    <tr>\n",
       "      <th>1</th>\n",
       "      <td>nm0617588</td>\n",
       "      <td>tt0000132</td>\n",
       "    </tr>\n",
       "    <tr>\n",
       "      <th>2</th>\n",
       "      <td>nm0617588</td>\n",
       "      <td>tt0000138</td>\n",
       "    </tr>\n",
       "    <tr>\n",
       "      <th>3</th>\n",
       "      <td>nm0617588</td>\n",
       "      <td>tt0000211</td>\n",
       "    </tr>\n",
       "    <tr>\n",
       "      <th>4</th>\n",
       "      <td>nm0617588</td>\n",
       "      <td>tt0000218</td>\n",
       "    </tr>\n",
       "  </tbody>\n",
       "</table>\n",
       "</div>"
      ],
      "text/plain": [
       "   directors     movies\n",
       "0  nm0617588  tt0000091\n",
       "1  nm0617588  tt0000132\n",
       "2  nm0617588  tt0000138\n",
       "3  nm0617588  tt0000211\n",
       "4  nm0617588  tt0000218"
      ]
     },
     "execution_count": 47,
     "metadata": {},
     "output_type": "execute_result"
    }
   ],
   "source": [
    "directors_and_movies.head()"
   ]
  },
  {
   "cell_type": "code",
   "execution_count": 48,
   "metadata": {},
   "outputs": [
    {
     "data": {
      "text/html": [
       "<div>\n",
       "<style scoped>\n",
       "    .dataframe tbody tr th:only-of-type {\n",
       "        vertical-align: middle;\n",
       "    }\n",
       "\n",
       "    .dataframe tbody tr th {\n",
       "        vertical-align: top;\n",
       "    }\n",
       "\n",
       "    .dataframe thead th {\n",
       "        text-align: right;\n",
       "    }\n",
       "</style>\n",
       "<table border=\"1\" class=\"dataframe\">\n",
       "  <thead>\n",
       "    <tr style=\"text-align: right;\">\n",
       "      <th></th>\n",
       "      <th>directors</th>\n",
       "      <th>movies</th>\n",
       "    </tr>\n",
       "  </thead>\n",
       "  <tbody>\n",
       "    <tr>\n",
       "      <th>39204</th>\n",
       "      <td>nm0000008</td>\n",
       "      <td>tt0055257</td>\n",
       "    </tr>\n",
       "  </tbody>\n",
       "</table>\n",
       "</div>"
      ],
      "text/plain": [
       "       directors     movies\n",
       "39204  nm0000008  tt0055257"
      ]
     },
     "execution_count": 48,
     "metadata": {},
     "output_type": "execute_result"
    }
   ],
   "source": [
    "directors_and_movies[directors_and_movies['directors'] == 'nm0000008']"
   ]
  },
  {
   "cell_type": "code",
   "execution_count": 49,
   "metadata": {},
   "outputs": [],
   "source": [
    "# directors_and_movies.loc[:,'movie_id'] = (directors_and_movies.loc[:,'tconst'].str[2:]).astype(int)\n",
    "# directors_and_movies.head()"
   ]
  },
  {
   "cell_type": "code",
   "execution_count": 50,
   "metadata": {},
   "outputs": [],
   "source": [
    "# df_movie_tags.head()"
   ]
  },
  {
   "cell_type": "code",
   "execution_count": 51,
   "metadata": {},
   "outputs": [
    {
     "data": {
      "text/html": [
       "<div>\n",
       "<style scoped>\n",
       "    .dataframe tbody tr th:only-of-type {\n",
       "        vertical-align: middle;\n",
       "    }\n",
       "\n",
       "    .dataframe tbody tr th {\n",
       "        vertical-align: top;\n",
       "    }\n",
       "\n",
       "    .dataframe thead th {\n",
       "        text-align: right;\n",
       "    }\n",
       "</style>\n",
       "<table border=\"1\" class=\"dataframe\">\n",
       "  <thead>\n",
       "    <tr style=\"text-align: right;\">\n",
       "      <th></th>\n",
       "      <th>fk_id</th>\n",
       "      <th>tag_id</th>\n",
       "      <th>relevance</th>\n",
       "      <th>id</th>\n",
       "      <th>kind</th>\n",
       "      <th>primary_title</th>\n",
       "      <th>original_title</th>\n",
       "      <th>release_year</th>\n",
       "      <th>runtime_minutes</th>\n",
       "      <th>genres</th>\n",
       "    </tr>\n",
       "  </thead>\n",
       "  <tbody>\n",
       "    <tr>\n",
       "      <th>0</th>\n",
       "      <td>tt0000012</td>\n",
       "      <td>1</td>\n",
       "      <td>0.04500</td>\n",
       "      <td>tt0000012</td>\n",
       "      <td>short</td>\n",
       "      <td>The Arrival of a Train</td>\n",
       "      <td>L'arrivée d'un train à La Ciotat</td>\n",
       "      <td>1896</td>\n",
       "      <td>1</td>\n",
       "      <td>Action,Documentary,Short</td>\n",
       "    </tr>\n",
       "    <tr>\n",
       "      <th>1</th>\n",
       "      <td>tt0000012</td>\n",
       "      <td>2</td>\n",
       "      <td>0.04225</td>\n",
       "      <td>tt0000012</td>\n",
       "      <td>short</td>\n",
       "      <td>The Arrival of a Train</td>\n",
       "      <td>L'arrivée d'un train à La Ciotat</td>\n",
       "      <td>1896</td>\n",
       "      <td>1</td>\n",
       "      <td>Action,Documentary,Short</td>\n",
       "    </tr>\n",
       "    <tr>\n",
       "      <th>2</th>\n",
       "      <td>tt0000012</td>\n",
       "      <td>3</td>\n",
       "      <td>0.03475</td>\n",
       "      <td>tt0000012</td>\n",
       "      <td>short</td>\n",
       "      <td>The Arrival of a Train</td>\n",
       "      <td>L'arrivée d'un train à La Ciotat</td>\n",
       "      <td>1896</td>\n",
       "      <td>1</td>\n",
       "      <td>Action,Documentary,Short</td>\n",
       "    </tr>\n",
       "    <tr>\n",
       "      <th>3</th>\n",
       "      <td>tt0000012</td>\n",
       "      <td>4</td>\n",
       "      <td>0.03750</td>\n",
       "      <td>tt0000012</td>\n",
       "      <td>short</td>\n",
       "      <td>The Arrival of a Train</td>\n",
       "      <td>L'arrivée d'un train à La Ciotat</td>\n",
       "      <td>1896</td>\n",
       "      <td>1</td>\n",
       "      <td>Action,Documentary,Short</td>\n",
       "    </tr>\n",
       "    <tr>\n",
       "      <th>4</th>\n",
       "      <td>tt0000012</td>\n",
       "      <td>5</td>\n",
       "      <td>0.21475</td>\n",
       "      <td>tt0000012</td>\n",
       "      <td>short</td>\n",
       "      <td>The Arrival of a Train</td>\n",
       "      <td>L'arrivée d'un train à La Ciotat</td>\n",
       "      <td>1896</td>\n",
       "      <td>1</td>\n",
       "      <td>Action,Documentary,Short</td>\n",
       "    </tr>\n",
       "  </tbody>\n",
       "</table>\n",
       "</div>"
      ],
      "text/plain": [
       "       fk_id tag_id  relevance         id   kind           primary_title  \\\n",
       "0  tt0000012      1    0.04500  tt0000012  short  The Arrival of a Train   \n",
       "1  tt0000012      2    0.04225  tt0000012  short  The Arrival of a Train   \n",
       "2  tt0000012      3    0.03475  tt0000012  short  The Arrival of a Train   \n",
       "3  tt0000012      4    0.03750  tt0000012  short  The Arrival of a Train   \n",
       "4  tt0000012      5    0.21475  tt0000012  short  The Arrival of a Train   \n",
       "\n",
       "                     original_title  release_year  runtime_minutes  \\\n",
       "0  L'arrivée d'un train à La Ciotat          1896                1   \n",
       "1  L'arrivée d'un train à La Ciotat          1896                1   \n",
       "2  L'arrivée d'un train à La Ciotat          1896                1   \n",
       "3  L'arrivée d'un train à La Ciotat          1896                1   \n",
       "4  L'arrivée d'un train à La Ciotat          1896                1   \n",
       "\n",
       "                     genres  \n",
       "0  Action,Documentary,Short  \n",
       "1  Action,Documentary,Short  \n",
       "2  Action,Documentary,Short  \n",
       "3  Action,Documentary,Short  \n",
       "4  Action,Documentary,Short  "
      ]
     },
     "execution_count": 51,
     "metadata": {},
     "output_type": "execute_result"
    }
   ],
   "source": [
    "df_movie_tags.head()"
   ]
  },
  {
   "cell_type": "code",
   "execution_count": 52,
   "metadata": {},
   "outputs": [
    {
     "data": {
      "text/html": [
       "<div>\n",
       "<style scoped>\n",
       "    .dataframe tbody tr th:only-of-type {\n",
       "        vertical-align: middle;\n",
       "    }\n",
       "\n",
       "    .dataframe tbody tr th {\n",
       "        vertical-align: top;\n",
       "    }\n",
       "\n",
       "    .dataframe thead th {\n",
       "        text-align: right;\n",
       "    }\n",
       "</style>\n",
       "<table border=\"1\" class=\"dataframe\">\n",
       "  <thead>\n",
       "    <tr style=\"text-align: right;\">\n",
       "      <th></th>\n",
       "      <th>directors</th>\n",
       "      <th>movies</th>\n",
       "    </tr>\n",
       "  </thead>\n",
       "  <tbody>\n",
       "    <tr>\n",
       "      <th>0</th>\n",
       "      <td>nm0617588</td>\n",
       "      <td>tt0000091</td>\n",
       "    </tr>\n",
       "    <tr>\n",
       "      <th>1</th>\n",
       "      <td>nm0617588</td>\n",
       "      <td>tt0000132</td>\n",
       "    </tr>\n",
       "    <tr>\n",
       "      <th>2</th>\n",
       "      <td>nm0617588</td>\n",
       "      <td>tt0000138</td>\n",
       "    </tr>\n",
       "    <tr>\n",
       "      <th>3</th>\n",
       "      <td>nm0617588</td>\n",
       "      <td>tt0000211</td>\n",
       "    </tr>\n",
       "    <tr>\n",
       "      <th>4</th>\n",
       "      <td>nm0617588</td>\n",
       "      <td>tt0000218</td>\n",
       "    </tr>\n",
       "  </tbody>\n",
       "</table>\n",
       "</div>"
      ],
      "text/plain": [
       "   directors     movies\n",
       "0  nm0617588  tt0000091\n",
       "1  nm0617588  tt0000132\n",
       "2  nm0617588  tt0000138\n",
       "3  nm0617588  tt0000211\n",
       "4  nm0617588  tt0000218"
      ]
     },
     "execution_count": 52,
     "metadata": {},
     "output_type": "execute_result"
    }
   ],
   "source": [
    "directors_and_movies.head()"
   ]
  },
  {
   "cell_type": "code",
   "execution_count": 53,
   "metadata": {},
   "outputs": [
    {
     "data": {
      "text/plain": [
       "5460"
      ]
     },
     "execution_count": 53,
     "metadata": {},
     "output_type": "execute_result"
    }
   ],
   "source": [
    "directors_and_movies.directors.nunique()"
   ]
  },
  {
   "cell_type": "code",
   "execution_count": 54,
   "metadata": {},
   "outputs": [
    {
     "data": {
      "text/html": [
       "<div>\n",
       "<style scoped>\n",
       "    .dataframe tbody tr th:only-of-type {\n",
       "        vertical-align: middle;\n",
       "    }\n",
       "\n",
       "    .dataframe tbody tr th {\n",
       "        vertical-align: top;\n",
       "    }\n",
       "\n",
       "    .dataframe thead th {\n",
       "        text-align: right;\n",
       "    }\n",
       "</style>\n",
       "<table border=\"1\" class=\"dataframe\">\n",
       "  <thead>\n",
       "    <tr style=\"text-align: right;\">\n",
       "      <th></th>\n",
       "      <th>movies</th>\n",
       "    </tr>\n",
       "    <tr>\n",
       "      <th>directors</th>\n",
       "      <th></th>\n",
       "    </tr>\n",
       "  </thead>\n",
       "  <tbody>\n",
       "    <tr>\n",
       "      <th>nm0455741</th>\n",
       "      <td>1788</td>\n",
       "    </tr>\n",
       "    <tr>\n",
       "      <th>nm0005062</th>\n",
       "      <td>1768</td>\n",
       "    </tr>\n",
       "    <tr>\n",
       "      <th>nm0814716</th>\n",
       "      <td>1570</td>\n",
       "    </tr>\n",
       "    <tr>\n",
       "      <th>nm1853544</th>\n",
       "      <td>1080</td>\n",
       "    </tr>\n",
       "    <tr>\n",
       "      <th>nm0400958</th>\n",
       "      <td>910</td>\n",
       "    </tr>\n",
       "    <tr>\n",
       "      <th>...</th>\n",
       "      <td>...</td>\n",
       "    </tr>\n",
       "    <tr>\n",
       "      <th>nm0000092</th>\n",
       "      <td>1</td>\n",
       "    </tr>\n",
       "    <tr>\n",
       "      <th>nm0829518</th>\n",
       "      <td>1</td>\n",
       "    </tr>\n",
       "    <tr>\n",
       "      <th>nm1671943</th>\n",
       "      <td>1</td>\n",
       "    </tr>\n",
       "    <tr>\n",
       "      <th>nm0254357</th>\n",
       "      <td>1</td>\n",
       "    </tr>\n",
       "    <tr>\n",
       "      <th>nm1905310</th>\n",
       "      <td>1</td>\n",
       "    </tr>\n",
       "  </tbody>\n",
       "</table>\n",
       "<p>5460 rows × 1 columns</p>\n",
       "</div>"
      ],
      "text/plain": [
       "           movies\n",
       "directors        \n",
       "nm0455741    1788\n",
       "nm0005062    1768\n",
       "nm0814716    1570\n",
       "nm1853544    1080\n",
       "nm0400958     910\n",
       "...           ...\n",
       "nm0000092       1\n",
       "nm0829518       1\n",
       "nm1671943       1\n",
       "nm0254357       1\n",
       "nm1905310       1\n",
       "\n",
       "[5460 rows x 1 columns]"
      ]
     },
     "execution_count": 54,
     "metadata": {},
     "output_type": "execute_result"
    }
   ],
   "source": [
    "directors_and_movies.groupby('directors').count().sort_values('movies', ascending=False)"
   ]
  },
  {
   "cell_type": "code",
   "execution_count": 55,
   "metadata": {},
   "outputs": [],
   "source": [
    "# directors_and_movies.groupby('movies').count().sort_values('directors', ascending=False)"
   ]
  },
  {
   "cell_type": "code",
   "execution_count": 56,
   "metadata": {},
   "outputs": [
    {
     "data": {
      "text/html": [
       "<div>\n",
       "<style scoped>\n",
       "    .dataframe tbody tr th:only-of-type {\n",
       "        vertical-align: middle;\n",
       "    }\n",
       "\n",
       "    .dataframe tbody tr th {\n",
       "        vertical-align: top;\n",
       "    }\n",
       "\n",
       "    .dataframe thead th {\n",
       "        text-align: right;\n",
       "    }\n",
       "</style>\n",
       "<table border=\"1\" class=\"dataframe\">\n",
       "  <thead>\n",
       "    <tr style=\"text-align: right;\">\n",
       "      <th></th>\n",
       "      <th>fk_id</th>\n",
       "      <th>tag_id</th>\n",
       "      <th>relevance</th>\n",
       "      <th>id</th>\n",
       "      <th>kind</th>\n",
       "      <th>primary_title</th>\n",
       "      <th>original_title</th>\n",
       "      <th>release_year</th>\n",
       "      <th>runtime_minutes</th>\n",
       "      <th>genres</th>\n",
       "    </tr>\n",
       "  </thead>\n",
       "  <tbody>\n",
       "  </tbody>\n",
       "</table>\n",
       "</div>"
      ],
      "text/plain": [
       "Empty DataFrame\n",
       "Columns: [fk_id, tag_id, relevance, id, kind, primary_title, original_title, release_year, runtime_minutes, genres]\n",
       "Index: []"
      ]
     },
     "execution_count": 56,
     "metadata": {},
     "output_type": "execute_result"
    }
   ],
   "source": [
    "df_movie_tags[df_movie_tags['fk_id'] == 'tt0032544']"
   ]
  },
  {
   "cell_type": "code",
   "execution_count": 57,
   "metadata": {},
   "outputs": [
    {
     "data": {
      "text/plain": [
       "(489552, 12)"
      ]
     },
     "execution_count": 57,
     "metadata": {},
     "output_type": "execute_result"
    }
   ],
   "source": [
    "merged_df = pd.merge(directors_and_movies, df_movie_tags, left_on='movies', right_on='fk_id', how='inner')\n",
    "# merged_df[~merged_df.tag_id.isna()].head()\n",
    "merged_df.shape"
   ]
  },
  {
   "cell_type": "code",
   "execution_count": 58,
   "metadata": {},
   "outputs": [
    {
     "data": {
      "text/html": [
       "<div>\n",
       "<style scoped>\n",
       "    .dataframe tbody tr th:only-of-type {\n",
       "        vertical-align: middle;\n",
       "    }\n",
       "\n",
       "    .dataframe tbody tr th {\n",
       "        vertical-align: top;\n",
       "    }\n",
       "\n",
       "    .dataframe thead th {\n",
       "        text-align: right;\n",
       "    }\n",
       "</style>\n",
       "<table border=\"1\" class=\"dataframe\">\n",
       "  <thead>\n",
       "    <tr style=\"text-align: right;\">\n",
       "      <th></th>\n",
       "      <th>directors</th>\n",
       "      <th>movies</th>\n",
       "      <th>fk_id</th>\n",
       "      <th>tag_id</th>\n",
       "      <th>relevance</th>\n",
       "      <th>id</th>\n",
       "      <th>kind</th>\n",
       "      <th>primary_title</th>\n",
       "      <th>original_title</th>\n",
       "      <th>release_year</th>\n",
       "      <th>runtime_minutes</th>\n",
       "      <th>genres</th>\n",
       "    </tr>\n",
       "  </thead>\n",
       "  <tbody>\n",
       "  </tbody>\n",
       "</table>\n",
       "</div>"
      ],
      "text/plain": [
       "Empty DataFrame\n",
       "Columns: [directors, movies, fk_id, tag_id, relevance, id, kind, primary_title, original_title, release_year, runtime_minutes, genres]\n",
       "Index: []"
      ]
     },
     "execution_count": 58,
     "metadata": {},
     "output_type": "execute_result"
    }
   ],
   "source": [
    "merged_df[merged_df['directors'] == 'nm0455741']"
   ]
  },
  {
   "cell_type": "code",
   "execution_count": 59,
   "metadata": {},
   "outputs": [
    {
     "data": {
      "text/plain": [
       "(489552, 12)"
      ]
     },
     "execution_count": 59,
     "metadata": {},
     "output_type": "execute_result"
    }
   ],
   "source": [
    "merged_df.shape"
   ]
  },
  {
   "cell_type": "code",
   "execution_count": 60,
   "metadata": {},
   "outputs": [
    {
     "data": {
      "text/plain": [
       "6158880"
      ]
     },
     "execution_count": 60,
     "metadata": {},
     "output_type": "execute_result"
    }
   ],
   "source": [
    "directors_and_movies.directors.nunique() * 1128"
   ]
  },
  {
   "cell_type": "code",
   "execution_count": 61,
   "metadata": {},
   "outputs": [
    {
     "data": {
      "text/html": [
       "<div>\n",
       "<style scoped>\n",
       "    .dataframe tbody tr th:only-of-type {\n",
       "        vertical-align: middle;\n",
       "    }\n",
       "\n",
       "    .dataframe tbody tr th {\n",
       "        vertical-align: top;\n",
       "    }\n",
       "\n",
       "    .dataframe thead th {\n",
       "        text-align: right;\n",
       "    }\n",
       "</style>\n",
       "<table border=\"1\" class=\"dataframe\">\n",
       "  <thead>\n",
       "    <tr style=\"text-align: right;\">\n",
       "      <th></th>\n",
       "      <th>directors</th>\n",
       "      <th>tag_id</th>\n",
       "      <th>relevance</th>\n",
       "    </tr>\n",
       "  </thead>\n",
       "  <tbody>\n",
       "    <tr>\n",
       "      <th>0</th>\n",
       "      <td>nm0000008</td>\n",
       "      <td>1</td>\n",
       "      <td>0.04475</td>\n",
       "    </tr>\n",
       "    <tr>\n",
       "      <th>1</th>\n",
       "      <td>nm0000008</td>\n",
       "      <td>10</td>\n",
       "      <td>0.01650</td>\n",
       "    </tr>\n",
       "    <tr>\n",
       "      <th>2</th>\n",
       "      <td>nm0000008</td>\n",
       "      <td>100</td>\n",
       "      <td>0.61000</td>\n",
       "    </tr>\n",
       "    <tr>\n",
       "      <th>3</th>\n",
       "      <td>nm0000008</td>\n",
       "      <td>1000</td>\n",
       "      <td>0.04275</td>\n",
       "    </tr>\n",
       "    <tr>\n",
       "      <th>4</th>\n",
       "      <td>nm0000008</td>\n",
       "      <td>1001</td>\n",
       "      <td>0.04375</td>\n",
       "    </tr>\n",
       "    <tr>\n",
       "      <th>...</th>\n",
       "      <td>...</td>\n",
       "      <td>...</td>\n",
       "      <td>...</td>\n",
       "    </tr>\n",
       "    <tr>\n",
       "      <th>277483</th>\n",
       "      <td>nm0958387</td>\n",
       "      <td>995</td>\n",
       "      <td>0.11225</td>\n",
       "    </tr>\n",
       "    <tr>\n",
       "      <th>277484</th>\n",
       "      <td>nm0958387</td>\n",
       "      <td>996</td>\n",
       "      <td>0.06875</td>\n",
       "    </tr>\n",
       "    <tr>\n",
       "      <th>277485</th>\n",
       "      <td>nm0958387</td>\n",
       "      <td>997</td>\n",
       "      <td>0.05275</td>\n",
       "    </tr>\n",
       "    <tr>\n",
       "      <th>277486</th>\n",
       "      <td>nm0958387</td>\n",
       "      <td>998</td>\n",
       "      <td>0.14750</td>\n",
       "    </tr>\n",
       "    <tr>\n",
       "      <th>277487</th>\n",
       "      <td>nm0958387</td>\n",
       "      <td>999</td>\n",
       "      <td>0.14375</td>\n",
       "    </tr>\n",
       "  </tbody>\n",
       "</table>\n",
       "<p>277488 rows × 3 columns</p>\n",
       "</div>"
      ],
      "text/plain": [
       "        directors tag_id  relevance\n",
       "0       nm0000008      1    0.04475\n",
       "1       nm0000008     10    0.01650\n",
       "2       nm0000008    100    0.61000\n",
       "3       nm0000008   1000    0.04275\n",
       "4       nm0000008   1001    0.04375\n",
       "...           ...    ...        ...\n",
       "277483  nm0958387    995    0.11225\n",
       "277484  nm0958387    996    0.06875\n",
       "277485  nm0958387    997    0.05275\n",
       "277486  nm0958387    998    0.14750\n",
       "277487  nm0958387    999    0.14375\n",
       "\n",
       "[277488 rows x 3 columns]"
      ]
     },
     "execution_count": 61,
     "metadata": {},
     "output_type": "execute_result"
    }
   ],
   "source": [
    "directors_tag_relevance = merged_df.groupby(['directors', 'tag_id'])['relevance'].mean().reset_index()\n",
    "directors_tag_relevance"
   ]
  },
  {
   "cell_type": "code",
   "execution_count": 62,
   "metadata": {},
   "outputs": [
    {
     "ename": "SyntaxError",
     "evalue": "invalid syntax (<ipython-input-62-9ffc10d712e2>, line 2)",
     "output_type": "error",
     "traceback": [
      "\u001b[0;36m  File \u001b[0;32m\"<ipython-input-62-9ffc10d712e2>\"\u001b[0;36m, line \u001b[0;32m2\u001b[0m\n\u001b[0;31m    current rows\u001b[0m\n\u001b[0m               ^\u001b[0m\n\u001b[0;31mSyntaxError\u001b[0m\u001b[0;31m:\u001b[0m invalid syntax\n"
     ]
    }
   ],
   "source": [
    "15584448\n",
    "current rows\n",
    "updated rows\n",
    "15861936\n"
   ]
  },
  {
   "cell_type": "code",
   "execution_count": 63,
   "metadata": {},
   "outputs": [
    {
     "ename": "SyntaxError",
     "evalue": "invalid syntax (<ipython-input-63-2345dc278d65>, line 1)",
     "output_type": "error",
     "traceback": [
      "\u001b[0;36m  File \u001b[0;32m\"<ipython-input-63-2345dc278d65>\"\u001b[0;36m, line \u001b[0;32m1\u001b[0m\n\u001b[0;31m    fk_id text NOT NULL,\u001b[0m\n\u001b[0m             ^\u001b[0m\n\u001b[0;31mSyntaxError\u001b[0m\u001b[0;31m:\u001b[0m invalid syntax\n"
     ]
    }
   ],
   "source": [
    "fk_id text NOT NULL,\n",
    "    tag_id name text NOT NULL,\n",
    "    relevance real NOT NULL"
   ]
  },
  {
   "cell_type": "code",
   "execution_count": 64,
   "metadata": {},
   "outputs": [],
   "source": [
    "directors_tag_relevance.columns = ['fk_id', 'tag_id', 'relevance']"
   ]
  },
  {
   "cell_type": "code",
   "execution_count": 65,
   "metadata": {},
   "outputs": [],
   "source": [
    "directors_tag_relevance.to_sql('tag_relevance', conn, if_exists='append', index=False)"
   ]
  },
  {
   "cell_type": "code",
   "execution_count": 66,
   "metadata": {},
   "outputs": [
    {
     "data": {
      "text/plain": [
       "277488"
      ]
     },
     "execution_count": 66,
     "metadata": {},
     "output_type": "execute_result"
    }
   ],
   "source": [
    "15861936 - 15584448"
   ]
  },
  {
   "cell_type": "code",
   "execution_count": 67,
   "metadata": {},
   "outputs": [
    {
     "data": {
      "text/plain": [
       "(277488, 3)"
      ]
     },
     "execution_count": 67,
     "metadata": {},
     "output_type": "execute_result"
    }
   ],
   "source": [
    "directors_tag_relevance.shape"
   ]
  },
  {
   "cell_type": "code",
   "execution_count": null,
   "metadata": {},
   "outputs": [],
   "source": []
  },
  {
   "cell_type": "code",
   "execution_count": null,
   "metadata": {},
   "outputs": [],
   "source": []
  },
  {
   "cell_type": "code",
   "execution_count": null,
   "metadata": {},
   "outputs": [],
   "source": []
  },
  {
   "cell_type": "code",
   "execution_count": 68,
   "metadata": {},
   "outputs": [
    {
     "ename": "KeyError",
     "evalue": "'directors'",
     "output_type": "error",
     "traceback": [
      "\u001b[0;31m---------------------------------------------------------------------------\u001b[0m",
      "\u001b[0;31mKeyError\u001b[0m                                  Traceback (most recent call last)",
      "\u001b[0;32m~/anaconda3/envs/DVA/lib/python3.7/site-packages/pandas/core/indexes/base.py\u001b[0m in \u001b[0;36mget_loc\u001b[0;34m(self, key, method, tolerance)\u001b[0m\n\u001b[1;32m   2896\u001b[0m             \u001b[0;32mtry\u001b[0m\u001b[0;34m:\u001b[0m\u001b[0;34m\u001b[0m\u001b[0;34m\u001b[0m\u001b[0m\n\u001b[0;32m-> 2897\u001b[0;31m                 \u001b[0;32mreturn\u001b[0m \u001b[0mself\u001b[0m\u001b[0;34m.\u001b[0m\u001b[0m_engine\u001b[0m\u001b[0;34m.\u001b[0m\u001b[0mget_loc\u001b[0m\u001b[0;34m(\u001b[0m\u001b[0mkey\u001b[0m\u001b[0;34m)\u001b[0m\u001b[0;34m\u001b[0m\u001b[0;34m\u001b[0m\u001b[0m\n\u001b[0m\u001b[1;32m   2898\u001b[0m             \u001b[0;32mexcept\u001b[0m \u001b[0mKeyError\u001b[0m\u001b[0;34m:\u001b[0m\u001b[0;34m\u001b[0m\u001b[0;34m\u001b[0m\u001b[0m\n",
      "\u001b[0;32mpandas/_libs/index.pyx\u001b[0m in \u001b[0;36mpandas._libs.index.IndexEngine.get_loc\u001b[0;34m()\u001b[0m\n",
      "\u001b[0;32mpandas/_libs/index.pyx\u001b[0m in \u001b[0;36mpandas._libs.index.IndexEngine.get_loc\u001b[0;34m()\u001b[0m\n",
      "\u001b[0;32mpandas/_libs/hashtable_class_helper.pxi\u001b[0m in \u001b[0;36mpandas._libs.hashtable.PyObjectHashTable.get_item\u001b[0;34m()\u001b[0m\n",
      "\u001b[0;32mpandas/_libs/hashtable_class_helper.pxi\u001b[0m in \u001b[0;36mpandas._libs.hashtable.PyObjectHashTable.get_item\u001b[0;34m()\u001b[0m\n",
      "\u001b[0;31mKeyError\u001b[0m: 'directors'",
      "\nDuring handling of the above exception, another exception occurred:\n",
      "\u001b[0;31mKeyError\u001b[0m                                  Traceback (most recent call last)",
      "\u001b[0;32m<ipython-input-68-bfe8e0841367>\u001b[0m in \u001b[0;36m<module>\u001b[0;34m\u001b[0m\n\u001b[0;32m----> 1\u001b[0;31m \u001b[0mdirectors_tag_relevance\u001b[0m\u001b[0;34m[\u001b[0m\u001b[0mdirectors_tag_relevance\u001b[0m\u001b[0;34m[\u001b[0m\u001b[0;34m'directors'\u001b[0m\u001b[0;34m]\u001b[0m \u001b[0;34m==\u001b[0m \u001b[0;34m'nm0958387'\u001b[0m\u001b[0;34m]\u001b[0m\u001b[0;34m.\u001b[0m\u001b[0mrelevance\u001b[0m\u001b[0;34m.\u001b[0m\u001b[0mmax\u001b[0m\u001b[0;34m(\u001b[0m\u001b[0;34m)\u001b[0m\u001b[0;34m\u001b[0m\u001b[0;34m\u001b[0m\u001b[0m\n\u001b[0m",
      "\u001b[0;32m~/anaconda3/envs/DVA/lib/python3.7/site-packages/pandas/core/frame.py\u001b[0m in \u001b[0;36m__getitem__\u001b[0;34m(self, key)\u001b[0m\n\u001b[1;32m   2993\u001b[0m             \u001b[0;32mif\u001b[0m \u001b[0mself\u001b[0m\u001b[0;34m.\u001b[0m\u001b[0mcolumns\u001b[0m\u001b[0;34m.\u001b[0m\u001b[0mnlevels\u001b[0m \u001b[0;34m>\u001b[0m \u001b[0;36m1\u001b[0m\u001b[0;34m:\u001b[0m\u001b[0;34m\u001b[0m\u001b[0;34m\u001b[0m\u001b[0m\n\u001b[1;32m   2994\u001b[0m                 \u001b[0;32mreturn\u001b[0m \u001b[0mself\u001b[0m\u001b[0;34m.\u001b[0m\u001b[0m_getitem_multilevel\u001b[0m\u001b[0;34m(\u001b[0m\u001b[0mkey\u001b[0m\u001b[0;34m)\u001b[0m\u001b[0;34m\u001b[0m\u001b[0;34m\u001b[0m\u001b[0m\n\u001b[0;32m-> 2995\u001b[0;31m             \u001b[0mindexer\u001b[0m \u001b[0;34m=\u001b[0m \u001b[0mself\u001b[0m\u001b[0;34m.\u001b[0m\u001b[0mcolumns\u001b[0m\u001b[0;34m.\u001b[0m\u001b[0mget_loc\u001b[0m\u001b[0;34m(\u001b[0m\u001b[0mkey\u001b[0m\u001b[0;34m)\u001b[0m\u001b[0;34m\u001b[0m\u001b[0;34m\u001b[0m\u001b[0m\n\u001b[0m\u001b[1;32m   2996\u001b[0m             \u001b[0;32mif\u001b[0m \u001b[0mis_integer\u001b[0m\u001b[0;34m(\u001b[0m\u001b[0mindexer\u001b[0m\u001b[0;34m)\u001b[0m\u001b[0;34m:\u001b[0m\u001b[0;34m\u001b[0m\u001b[0;34m\u001b[0m\u001b[0m\n\u001b[1;32m   2997\u001b[0m                 \u001b[0mindexer\u001b[0m \u001b[0;34m=\u001b[0m \u001b[0;34m[\u001b[0m\u001b[0mindexer\u001b[0m\u001b[0;34m]\u001b[0m\u001b[0;34m\u001b[0m\u001b[0;34m\u001b[0m\u001b[0m\n",
      "\u001b[0;32m~/anaconda3/envs/DVA/lib/python3.7/site-packages/pandas/core/indexes/base.py\u001b[0m in \u001b[0;36mget_loc\u001b[0;34m(self, key, method, tolerance)\u001b[0m\n\u001b[1;32m   2897\u001b[0m                 \u001b[0;32mreturn\u001b[0m \u001b[0mself\u001b[0m\u001b[0;34m.\u001b[0m\u001b[0m_engine\u001b[0m\u001b[0;34m.\u001b[0m\u001b[0mget_loc\u001b[0m\u001b[0;34m(\u001b[0m\u001b[0mkey\u001b[0m\u001b[0;34m)\u001b[0m\u001b[0;34m\u001b[0m\u001b[0;34m\u001b[0m\u001b[0m\n\u001b[1;32m   2898\u001b[0m             \u001b[0;32mexcept\u001b[0m \u001b[0mKeyError\u001b[0m\u001b[0;34m:\u001b[0m\u001b[0;34m\u001b[0m\u001b[0;34m\u001b[0m\u001b[0m\n\u001b[0;32m-> 2899\u001b[0;31m                 \u001b[0;32mreturn\u001b[0m \u001b[0mself\u001b[0m\u001b[0;34m.\u001b[0m\u001b[0m_engine\u001b[0m\u001b[0;34m.\u001b[0m\u001b[0mget_loc\u001b[0m\u001b[0;34m(\u001b[0m\u001b[0mself\u001b[0m\u001b[0;34m.\u001b[0m\u001b[0m_maybe_cast_indexer\u001b[0m\u001b[0;34m(\u001b[0m\u001b[0mkey\u001b[0m\u001b[0;34m)\u001b[0m\u001b[0;34m)\u001b[0m\u001b[0;34m\u001b[0m\u001b[0;34m\u001b[0m\u001b[0m\n\u001b[0m\u001b[1;32m   2900\u001b[0m         \u001b[0mindexer\u001b[0m \u001b[0;34m=\u001b[0m \u001b[0mself\u001b[0m\u001b[0;34m.\u001b[0m\u001b[0mget_indexer\u001b[0m\u001b[0;34m(\u001b[0m\u001b[0;34m[\u001b[0m\u001b[0mkey\u001b[0m\u001b[0;34m]\u001b[0m\u001b[0;34m,\u001b[0m \u001b[0mmethod\u001b[0m\u001b[0;34m=\u001b[0m\u001b[0mmethod\u001b[0m\u001b[0;34m,\u001b[0m \u001b[0mtolerance\u001b[0m\u001b[0;34m=\u001b[0m\u001b[0mtolerance\u001b[0m\u001b[0;34m)\u001b[0m\u001b[0;34m\u001b[0m\u001b[0;34m\u001b[0m\u001b[0m\n\u001b[1;32m   2901\u001b[0m         \u001b[0;32mif\u001b[0m \u001b[0mindexer\u001b[0m\u001b[0;34m.\u001b[0m\u001b[0mndim\u001b[0m \u001b[0;34m>\u001b[0m \u001b[0;36m1\u001b[0m \u001b[0;32mor\u001b[0m \u001b[0mindexer\u001b[0m\u001b[0;34m.\u001b[0m\u001b[0msize\u001b[0m \u001b[0;34m>\u001b[0m \u001b[0;36m1\u001b[0m\u001b[0;34m:\u001b[0m\u001b[0;34m\u001b[0m\u001b[0;34m\u001b[0m\u001b[0m\n",
      "\u001b[0;32mpandas/_libs/index.pyx\u001b[0m in \u001b[0;36mpandas._libs.index.IndexEngine.get_loc\u001b[0;34m()\u001b[0m\n",
      "\u001b[0;32mpandas/_libs/index.pyx\u001b[0m in \u001b[0;36mpandas._libs.index.IndexEngine.get_loc\u001b[0;34m()\u001b[0m\n",
      "\u001b[0;32mpandas/_libs/hashtable_class_helper.pxi\u001b[0m in \u001b[0;36mpandas._libs.hashtable.PyObjectHashTable.get_item\u001b[0;34m()\u001b[0m\n",
      "\u001b[0;32mpandas/_libs/hashtable_class_helper.pxi\u001b[0m in \u001b[0;36mpandas._libs.hashtable.PyObjectHashTable.get_item\u001b[0;34m()\u001b[0m\n",
      "\u001b[0;31mKeyError\u001b[0m: 'directors'"
     ]
    }
   ],
   "source": [
    "directors_tag_relevance[directors_tag_relevance['directors'] == 'nm0958387'].relevance.max()"
   ]
  },
  {
   "cell_type": "code",
   "execution_count": 69,
   "metadata": {},
   "outputs": [
    {
     "ename": "KeyError",
     "evalue": "'directors'",
     "output_type": "error",
     "traceback": [
      "\u001b[0;31m---------------------------------------------------------------------------\u001b[0m",
      "\u001b[0;31mKeyError\u001b[0m                                  Traceback (most recent call last)",
      "\u001b[0;32m~/anaconda3/envs/DVA/lib/python3.7/site-packages/pandas/core/indexes/base.py\u001b[0m in \u001b[0;36mget_loc\u001b[0;34m(self, key, method, tolerance)\u001b[0m\n\u001b[1;32m   2896\u001b[0m             \u001b[0;32mtry\u001b[0m\u001b[0;34m:\u001b[0m\u001b[0;34m\u001b[0m\u001b[0;34m\u001b[0m\u001b[0m\n\u001b[0;32m-> 2897\u001b[0;31m                 \u001b[0;32mreturn\u001b[0m \u001b[0mself\u001b[0m\u001b[0;34m.\u001b[0m\u001b[0m_engine\u001b[0m\u001b[0;34m.\u001b[0m\u001b[0mget_loc\u001b[0m\u001b[0;34m(\u001b[0m\u001b[0mkey\u001b[0m\u001b[0;34m)\u001b[0m\u001b[0;34m\u001b[0m\u001b[0;34m\u001b[0m\u001b[0m\n\u001b[0m\u001b[1;32m   2898\u001b[0m             \u001b[0;32mexcept\u001b[0m \u001b[0mKeyError\u001b[0m\u001b[0;34m:\u001b[0m\u001b[0;34m\u001b[0m\u001b[0;34m\u001b[0m\u001b[0m\n",
      "\u001b[0;32mpandas/_libs/index.pyx\u001b[0m in \u001b[0;36mpandas._libs.index.IndexEngine.get_loc\u001b[0;34m()\u001b[0m\n",
      "\u001b[0;32mpandas/_libs/index.pyx\u001b[0m in \u001b[0;36mpandas._libs.index.IndexEngine.get_loc\u001b[0;34m()\u001b[0m\n",
      "\u001b[0;32mpandas/_libs/hashtable_class_helper.pxi\u001b[0m in \u001b[0;36mpandas._libs.hashtable.PyObjectHashTable.get_item\u001b[0;34m()\u001b[0m\n",
      "\u001b[0;32mpandas/_libs/hashtable_class_helper.pxi\u001b[0m in \u001b[0;36mpandas._libs.hashtable.PyObjectHashTable.get_item\u001b[0;34m()\u001b[0m\n",
      "\u001b[0;31mKeyError\u001b[0m: 'directors'",
      "\nDuring handling of the above exception, another exception occurred:\n",
      "\u001b[0;31mKeyError\u001b[0m                                  Traceback (most recent call last)",
      "\u001b[0;32m<ipython-input-69-309a2b81b984>\u001b[0m in \u001b[0;36m<module>\u001b[0;34m\u001b[0m\n\u001b[0;32m----> 1\u001b[0;31m \u001b[0mdirectors_tag_relevance\u001b[0m\u001b[0;34m[\u001b[0m\u001b[0mdirectors_tag_relevance\u001b[0m\u001b[0;34m[\u001b[0m\u001b[0;34m'directors'\u001b[0m\u001b[0;34m]\u001b[0m \u001b[0;34m==\u001b[0m \u001b[0;34m'nm0958387'\u001b[0m\u001b[0;34m]\u001b[0m\u001b[0;34m[\u001b[0m\u001b[0mdirectors_tag_relevance\u001b[0m\u001b[0;34m[\u001b[0m\u001b[0mdirectors_tag_relevance\u001b[0m\u001b[0;34m[\u001b[0m\u001b[0;34m'directors'\u001b[0m\u001b[0;34m]\u001b[0m \u001b[0;34m==\u001b[0m \u001b[0;34m'nm0958387'\u001b[0m\u001b[0;34m]\u001b[0m\u001b[0;34m[\u001b[0m\u001b[0;34m'relevance'\u001b[0m\u001b[0;34m]\u001b[0m\u001b[0;34m==\u001b[0m \u001b[0;36m0.993\u001b[0m\u001b[0;34m]\u001b[0m\u001b[0;34m\u001b[0m\u001b[0;34m\u001b[0m\u001b[0m\n\u001b[0m",
      "\u001b[0;32m~/anaconda3/envs/DVA/lib/python3.7/site-packages/pandas/core/frame.py\u001b[0m in \u001b[0;36m__getitem__\u001b[0;34m(self, key)\u001b[0m\n\u001b[1;32m   2993\u001b[0m             \u001b[0;32mif\u001b[0m \u001b[0mself\u001b[0m\u001b[0;34m.\u001b[0m\u001b[0mcolumns\u001b[0m\u001b[0;34m.\u001b[0m\u001b[0mnlevels\u001b[0m \u001b[0;34m>\u001b[0m \u001b[0;36m1\u001b[0m\u001b[0;34m:\u001b[0m\u001b[0;34m\u001b[0m\u001b[0;34m\u001b[0m\u001b[0m\n\u001b[1;32m   2994\u001b[0m                 \u001b[0;32mreturn\u001b[0m \u001b[0mself\u001b[0m\u001b[0;34m.\u001b[0m\u001b[0m_getitem_multilevel\u001b[0m\u001b[0;34m(\u001b[0m\u001b[0mkey\u001b[0m\u001b[0;34m)\u001b[0m\u001b[0;34m\u001b[0m\u001b[0;34m\u001b[0m\u001b[0m\n\u001b[0;32m-> 2995\u001b[0;31m             \u001b[0mindexer\u001b[0m \u001b[0;34m=\u001b[0m \u001b[0mself\u001b[0m\u001b[0;34m.\u001b[0m\u001b[0mcolumns\u001b[0m\u001b[0;34m.\u001b[0m\u001b[0mget_loc\u001b[0m\u001b[0;34m(\u001b[0m\u001b[0mkey\u001b[0m\u001b[0;34m)\u001b[0m\u001b[0;34m\u001b[0m\u001b[0;34m\u001b[0m\u001b[0m\n\u001b[0m\u001b[1;32m   2996\u001b[0m             \u001b[0;32mif\u001b[0m \u001b[0mis_integer\u001b[0m\u001b[0;34m(\u001b[0m\u001b[0mindexer\u001b[0m\u001b[0;34m)\u001b[0m\u001b[0;34m:\u001b[0m\u001b[0;34m\u001b[0m\u001b[0;34m\u001b[0m\u001b[0m\n\u001b[1;32m   2997\u001b[0m                 \u001b[0mindexer\u001b[0m \u001b[0;34m=\u001b[0m \u001b[0;34m[\u001b[0m\u001b[0mindexer\u001b[0m\u001b[0;34m]\u001b[0m\u001b[0;34m\u001b[0m\u001b[0;34m\u001b[0m\u001b[0m\n",
      "\u001b[0;32m~/anaconda3/envs/DVA/lib/python3.7/site-packages/pandas/core/indexes/base.py\u001b[0m in \u001b[0;36mget_loc\u001b[0;34m(self, key, method, tolerance)\u001b[0m\n\u001b[1;32m   2897\u001b[0m                 \u001b[0;32mreturn\u001b[0m \u001b[0mself\u001b[0m\u001b[0;34m.\u001b[0m\u001b[0m_engine\u001b[0m\u001b[0;34m.\u001b[0m\u001b[0mget_loc\u001b[0m\u001b[0;34m(\u001b[0m\u001b[0mkey\u001b[0m\u001b[0;34m)\u001b[0m\u001b[0;34m\u001b[0m\u001b[0;34m\u001b[0m\u001b[0m\n\u001b[1;32m   2898\u001b[0m             \u001b[0;32mexcept\u001b[0m \u001b[0mKeyError\u001b[0m\u001b[0;34m:\u001b[0m\u001b[0;34m\u001b[0m\u001b[0;34m\u001b[0m\u001b[0m\n\u001b[0;32m-> 2899\u001b[0;31m                 \u001b[0;32mreturn\u001b[0m \u001b[0mself\u001b[0m\u001b[0;34m.\u001b[0m\u001b[0m_engine\u001b[0m\u001b[0;34m.\u001b[0m\u001b[0mget_loc\u001b[0m\u001b[0;34m(\u001b[0m\u001b[0mself\u001b[0m\u001b[0;34m.\u001b[0m\u001b[0m_maybe_cast_indexer\u001b[0m\u001b[0;34m(\u001b[0m\u001b[0mkey\u001b[0m\u001b[0;34m)\u001b[0m\u001b[0;34m)\u001b[0m\u001b[0;34m\u001b[0m\u001b[0;34m\u001b[0m\u001b[0m\n\u001b[0m\u001b[1;32m   2900\u001b[0m         \u001b[0mindexer\u001b[0m \u001b[0;34m=\u001b[0m \u001b[0mself\u001b[0m\u001b[0;34m.\u001b[0m\u001b[0mget_indexer\u001b[0m\u001b[0;34m(\u001b[0m\u001b[0;34m[\u001b[0m\u001b[0mkey\u001b[0m\u001b[0;34m]\u001b[0m\u001b[0;34m,\u001b[0m \u001b[0mmethod\u001b[0m\u001b[0;34m=\u001b[0m\u001b[0mmethod\u001b[0m\u001b[0;34m,\u001b[0m \u001b[0mtolerance\u001b[0m\u001b[0;34m=\u001b[0m\u001b[0mtolerance\u001b[0m\u001b[0;34m)\u001b[0m\u001b[0;34m\u001b[0m\u001b[0;34m\u001b[0m\u001b[0m\n\u001b[1;32m   2901\u001b[0m         \u001b[0;32mif\u001b[0m \u001b[0mindexer\u001b[0m\u001b[0;34m.\u001b[0m\u001b[0mndim\u001b[0m \u001b[0;34m>\u001b[0m \u001b[0;36m1\u001b[0m \u001b[0;32mor\u001b[0m \u001b[0mindexer\u001b[0m\u001b[0;34m.\u001b[0m\u001b[0msize\u001b[0m \u001b[0;34m>\u001b[0m \u001b[0;36m1\u001b[0m\u001b[0;34m:\u001b[0m\u001b[0;34m\u001b[0m\u001b[0;34m\u001b[0m\u001b[0m\n",
      "\u001b[0;32mpandas/_libs/index.pyx\u001b[0m in \u001b[0;36mpandas._libs.index.IndexEngine.get_loc\u001b[0;34m()\u001b[0m\n",
      "\u001b[0;32mpandas/_libs/index.pyx\u001b[0m in \u001b[0;36mpandas._libs.index.IndexEngine.get_loc\u001b[0;34m()\u001b[0m\n",
      "\u001b[0;32mpandas/_libs/hashtable_class_helper.pxi\u001b[0m in \u001b[0;36mpandas._libs.hashtable.PyObjectHashTable.get_item\u001b[0;34m()\u001b[0m\n",
      "\u001b[0;32mpandas/_libs/hashtable_class_helper.pxi\u001b[0m in \u001b[0;36mpandas._libs.hashtable.PyObjectHashTable.get_item\u001b[0;34m()\u001b[0m\n",
      "\u001b[0;31mKeyError\u001b[0m: 'directors'"
     ]
    }
   ],
   "source": [
    "directors_tag_relevance[directors_tag_relevance['directors'] == 'nm0958387'][directors_tag_relevance[directors_tag_relevance['directors'] == 'nm0958387']['relevance']== 0.993]"
   ]
  },
  {
   "cell_type": "code",
   "execution_count": 70,
   "metadata": {},
   "outputs": [
    {
     "data": {
      "text/html": [
       "<div>\n",
       "<style scoped>\n",
       "    .dataframe tbody tr th:only-of-type {\n",
       "        vertical-align: middle;\n",
       "    }\n",
       "\n",
       "    .dataframe tbody tr th {\n",
       "        vertical-align: top;\n",
       "    }\n",
       "\n",
       "    .dataframe thead th {\n",
       "        text-align: right;\n",
       "    }\n",
       "</style>\n",
       "<table border=\"1\" class=\"dataframe\">\n",
       "  <thead>\n",
       "    <tr style=\"text-align: right;\">\n",
       "      <th></th>\n",
       "      <th>directors</th>\n",
       "      <th>movies</th>\n",
       "    </tr>\n",
       "  </thead>\n",
       "  <tbody>\n",
       "    <tr>\n",
       "      <th>71350</th>\n",
       "      <td>nm0958387</td>\n",
       "      <td>tt0099653</td>\n",
       "    </tr>\n",
       "    <tr>\n",
       "      <th>71351</th>\n",
       "      <td>nm0958387</td>\n",
       "      <td>tt0113071</td>\n",
       "    </tr>\n",
       "    <tr>\n",
       "      <th>71352</th>\n",
       "      <td>nm0958387</td>\n",
       "      <td>tt0250687</td>\n",
       "    </tr>\n",
       "    <tr>\n",
       "      <th>71353</th>\n",
       "      <td>nm0958387</td>\n",
       "      <td>tt0099653</td>\n",
       "    </tr>\n",
       "    <tr>\n",
       "      <th>71354</th>\n",
       "      <td>nm0958387</td>\n",
       "      <td>tt0113071</td>\n",
       "    </tr>\n",
       "    <tr>\n",
       "      <th>71355</th>\n",
       "      <td>nm0958387</td>\n",
       "      <td>tt0250687</td>\n",
       "    </tr>\n",
       "    <tr>\n",
       "      <th>71356</th>\n",
       "      <td>nm0958387</td>\n",
       "      <td>tt0099653</td>\n",
       "    </tr>\n",
       "    <tr>\n",
       "      <th>71357</th>\n",
       "      <td>nm0958387</td>\n",
       "      <td>tt0113071</td>\n",
       "    </tr>\n",
       "    <tr>\n",
       "      <th>71358</th>\n",
       "      <td>nm0958387</td>\n",
       "      <td>tt0250687</td>\n",
       "    </tr>\n",
       "    <tr>\n",
       "      <th>71359</th>\n",
       "      <td>nm0958387</td>\n",
       "      <td>tt0099653</td>\n",
       "    </tr>\n",
       "    <tr>\n",
       "      <th>71360</th>\n",
       "      <td>nm0958387</td>\n",
       "      <td>tt0113071</td>\n",
       "    </tr>\n",
       "    <tr>\n",
       "      <th>71361</th>\n",
       "      <td>nm0958387</td>\n",
       "      <td>tt0250687</td>\n",
       "    </tr>\n",
       "  </tbody>\n",
       "</table>\n",
       "</div>"
      ],
      "text/plain": [
       "       directors     movies\n",
       "71350  nm0958387  tt0099653\n",
       "71351  nm0958387  tt0113071\n",
       "71352  nm0958387  tt0250687\n",
       "71353  nm0958387  tt0099653\n",
       "71354  nm0958387  tt0113071\n",
       "71355  nm0958387  tt0250687\n",
       "71356  nm0958387  tt0099653\n",
       "71357  nm0958387  tt0113071\n",
       "71358  nm0958387  tt0250687\n",
       "71359  nm0958387  tt0099653\n",
       "71360  nm0958387  tt0113071\n",
       "71361  nm0958387  tt0250687"
      ]
     },
     "execution_count": 70,
     "metadata": {},
     "output_type": "execute_result"
    }
   ],
   "source": [
    "directors_and_movies[directors_and_movies.directors == 'nm0958387']"
   ]
  },
  {
   "cell_type": "code",
   "execution_count": 71,
   "metadata": {},
   "outputs": [
    {
     "data": {
      "text/plain": [
       "dict_keys(['genome_scores', 'genome_tags', 'links', 'movies', 'ratings', 'tags', 'imdb_name_basics', 'imdb_title_basics', 'imdb_ratings', 'imdb_crew', 'imdb_principals'])"
      ]
     },
     "execution_count": 71,
     "metadata": {},
     "output_type": "execute_result"
    }
   ],
   "source": [
    "dfs.keys()"
   ]
  },
  {
   "cell_type": "code",
   "execution_count": 72,
   "metadata": {},
   "outputs": [
    {
     "data": {
      "text/html": [
       "<div>\n",
       "<style scoped>\n",
       "    .dataframe tbody tr th:only-of-type {\n",
       "        vertical-align: middle;\n",
       "    }\n",
       "\n",
       "    .dataframe tbody tr th {\n",
       "        vertical-align: top;\n",
       "    }\n",
       "\n",
       "    .dataframe thead th {\n",
       "        text-align: right;\n",
       "    }\n",
       "</style>\n",
       "<table border=\"1\" class=\"dataframe\">\n",
       "  <thead>\n",
       "    <tr style=\"text-align: right;\">\n",
       "      <th></th>\n",
       "      <th>tconst</th>\n",
       "      <th>ordering</th>\n",
       "      <th>nconst</th>\n",
       "      <th>category</th>\n",
       "      <th>job</th>\n",
       "      <th>characters</th>\n",
       "    </tr>\n",
       "  </thead>\n",
       "  <tbody>\n",
       "  </tbody>\n",
       "</table>\n",
       "</div>"
      ],
      "text/plain": [
       "Empty DataFrame\n",
       "Columns: [tconst, ordering, nconst, category, job, characters]\n",
       "Index: []"
      ]
     },
     "execution_count": 72,
     "metadata": {},
     "output_type": "execute_result"
    }
   ],
   "source": [
    "dfs['imdb_principals']"
   ]
  },
  {
   "cell_type": "code",
   "execution_count": 73,
   "metadata": {},
   "outputs": [
    {
     "data": {
      "text/html": [
       "<div>\n",
       "<style scoped>\n",
       "    .dataframe tbody tr th:only-of-type {\n",
       "        vertical-align: middle;\n",
       "    }\n",
       "\n",
       "    .dataframe tbody tr th {\n",
       "        vertical-align: top;\n",
       "    }\n",
       "\n",
       "    .dataframe thead th {\n",
       "        text-align: right;\n",
       "    }\n",
       "</style>\n",
       "<table border=\"1\" class=\"dataframe\">\n",
       "  <thead>\n",
       "    <tr style=\"text-align: right;\">\n",
       "      <th></th>\n",
       "      <th>tconst</th>\n",
       "      <th>directors</th>\n",
       "      <th>writers</th>\n",
       "    </tr>\n",
       "  </thead>\n",
       "  <tbody>\n",
       "    <tr>\n",
       "      <th>8</th>\n",
       "      <td>tt0000009</td>\n",
       "      <td>nm0085156</td>\n",
       "      <td>nm0085156</td>\n",
       "    </tr>\n",
       "    <tr>\n",
       "      <th>34</th>\n",
       "      <td>tt0000036</td>\n",
       "      <td>nm0005690</td>\n",
       "      <td>nm0410331</td>\n",
       "    </tr>\n",
       "    <tr>\n",
       "      <th>74</th>\n",
       "      <td>tt0000076</td>\n",
       "      <td>nm0005690</td>\n",
       "      <td>nm0410331</td>\n",
       "    </tr>\n",
       "    <tr>\n",
       "      <th>89</th>\n",
       "      <td>tt0000091</td>\n",
       "      <td>nm0617588</td>\n",
       "      <td>nm0617588</td>\n",
       "    </tr>\n",
       "    <tr>\n",
       "      <th>106</th>\n",
       "      <td>tt0000108</td>\n",
       "      <td>nm0005690</td>\n",
       "      <td>nm0410331</td>\n",
       "    </tr>\n",
       "    <tr>\n",
       "      <th>...</th>\n",
       "      <td>...</td>\n",
       "      <td>...</td>\n",
       "      <td>...</td>\n",
       "    </tr>\n",
       "    <tr>\n",
       "      <th>6691700</th>\n",
       "      <td>tt9916848</td>\n",
       "      <td>nm5519454,nm5519375</td>\n",
       "      <td>nm6182221,nm1628284,nm2921377</td>\n",
       "    </tr>\n",
       "    <tr>\n",
       "      <th>6691701</th>\n",
       "      <td>tt9916850</td>\n",
       "      <td>nm5519454,nm5519375</td>\n",
       "      <td>nm6182221,nm1628284,nm2921377</td>\n",
       "    </tr>\n",
       "    <tr>\n",
       "      <th>6691702</th>\n",
       "      <td>tt9916852</td>\n",
       "      <td>nm5519375,nm5519454</td>\n",
       "      <td>nm6182221,nm1628284,nm2921377</td>\n",
       "    </tr>\n",
       "    <tr>\n",
       "      <th>6691703</th>\n",
       "      <td>tt9916856</td>\n",
       "      <td>nm10538645</td>\n",
       "      <td>nm6951431</td>\n",
       "    </tr>\n",
       "    <tr>\n",
       "      <th>6691704</th>\n",
       "      <td>tt9916880</td>\n",
       "      <td>nm0996406</td>\n",
       "      <td>nm1482639,nm2586970</td>\n",
       "    </tr>\n",
       "  </tbody>\n",
       "</table>\n",
       "<p>2989524 rows × 3 columns</p>\n",
       "</div>"
      ],
      "text/plain": [
       "            tconst            directors                        writers\n",
       "8        tt0000009            nm0085156                      nm0085156\n",
       "34       tt0000036            nm0005690                      nm0410331\n",
       "74       tt0000076            nm0005690                      nm0410331\n",
       "89       tt0000091            nm0617588                      nm0617588\n",
       "106      tt0000108            nm0005690                      nm0410331\n",
       "...            ...                  ...                            ...\n",
       "6691700  tt9916848  nm5519454,nm5519375  nm6182221,nm1628284,nm2921377\n",
       "6691701  tt9916850  nm5519454,nm5519375  nm6182221,nm1628284,nm2921377\n",
       "6691702  tt9916852  nm5519375,nm5519454  nm6182221,nm1628284,nm2921377\n",
       "6691703  tt9916856           nm10538645                      nm6951431\n",
       "6691704  tt9916880            nm0996406            nm1482639,nm2586970\n",
       "\n",
       "[2989524 rows x 3 columns]"
      ]
     },
     "execution_count": 73,
     "metadata": {},
     "output_type": "execute_result"
    }
   ],
   "source": [
    "dfs['imdb_crew']"
   ]
  },
  {
   "cell_type": "code",
   "execution_count": 74,
   "metadata": {},
   "outputs": [
    {
     "data": {
      "text/html": [
       "<div>\n",
       "<style scoped>\n",
       "    .dataframe tbody tr th:only-of-type {\n",
       "        vertical-align: middle;\n",
       "    }\n",
       "\n",
       "    .dataframe tbody tr th {\n",
       "        vertical-align: top;\n",
       "    }\n",
       "\n",
       "    .dataframe thead th {\n",
       "        text-align: right;\n",
       "    }\n",
       "</style>\n",
       "<table border=\"1\" class=\"dataframe\">\n",
       "  <thead>\n",
       "    <tr style=\"text-align: right;\">\n",
       "      <th></th>\n",
       "      <th>tagId</th>\n",
       "      <th>tag</th>\n",
       "    </tr>\n",
       "  </thead>\n",
       "  <tbody>\n",
       "    <tr>\n",
       "      <th>42</th>\n",
       "      <td>43</td>\n",
       "      <td>alien</td>\n",
       "    </tr>\n",
       "  </tbody>\n",
       "</table>\n",
       "</div>"
      ],
      "text/plain": [
       "    tagId    tag\n",
       "42     43  alien"
      ]
     },
     "execution_count": 74,
     "metadata": {},
     "output_type": "execute_result"
    }
   ],
   "source": [
    "dfs['genome_tags'][dfs['genome_tags'].tagId == 43]"
   ]
  },
  {
   "cell_type": "code",
   "execution_count": 75,
   "metadata": {},
   "outputs": [
    {
     "data": {
      "text/html": [
       "<div>\n",
       "<style scoped>\n",
       "    .dataframe tbody tr th:only-of-type {\n",
       "        vertical-align: middle;\n",
       "    }\n",
       "\n",
       "    .dataframe tbody tr th {\n",
       "        vertical-align: top;\n",
       "    }\n",
       "\n",
       "    .dataframe thead th {\n",
       "        text-align: right;\n",
       "    }\n",
       "</style>\n",
       "<table border=\"1\" class=\"dataframe\">\n",
       "  <thead>\n",
       "    <tr style=\"text-align: right;\">\n",
       "      <th></th>\n",
       "      <th>fk_id</th>\n",
       "      <th>tag_id</th>\n",
       "      <th>relevance</th>\n",
       "    </tr>\n",
       "  </thead>\n",
       "  <tbody>\n",
       "    <tr>\n",
       "      <th>0</th>\n",
       "      <td>NaN</td>\n",
       "      <td>NaN</td>\n",
       "      <td>NaN</td>\n",
       "    </tr>\n",
       "    <tr>\n",
       "      <th>1</th>\n",
       "      <td>NaN</td>\n",
       "      <td>NaN</td>\n",
       "      <td>NaN</td>\n",
       "    </tr>\n",
       "    <tr>\n",
       "      <th>2</th>\n",
       "      <td>NaN</td>\n",
       "      <td>NaN</td>\n",
       "      <td>NaN</td>\n",
       "    </tr>\n",
       "    <tr>\n",
       "      <th>3</th>\n",
       "      <td>NaN</td>\n",
       "      <td>NaN</td>\n",
       "      <td>NaN</td>\n",
       "    </tr>\n",
       "    <tr>\n",
       "      <th>4</th>\n",
       "      <td>NaN</td>\n",
       "      <td>NaN</td>\n",
       "      <td>NaN</td>\n",
       "    </tr>\n",
       "    <tr>\n",
       "      <th>...</th>\n",
       "      <td>...</td>\n",
       "      <td>...</td>\n",
       "      <td>...</td>\n",
       "    </tr>\n",
       "    <tr>\n",
       "      <th>277483</th>\n",
       "      <td>NaN</td>\n",
       "      <td>NaN</td>\n",
       "      <td>NaN</td>\n",
       "    </tr>\n",
       "    <tr>\n",
       "      <th>277484</th>\n",
       "      <td>NaN</td>\n",
       "      <td>NaN</td>\n",
       "      <td>NaN</td>\n",
       "    </tr>\n",
       "    <tr>\n",
       "      <th>277485</th>\n",
       "      <td>NaN</td>\n",
       "      <td>NaN</td>\n",
       "      <td>NaN</td>\n",
       "    </tr>\n",
       "    <tr>\n",
       "      <th>277486</th>\n",
       "      <td>NaN</td>\n",
       "      <td>NaN</td>\n",
       "      <td>NaN</td>\n",
       "    </tr>\n",
       "    <tr>\n",
       "      <th>277487</th>\n",
       "      <td>NaN</td>\n",
       "      <td>NaN</td>\n",
       "      <td>NaN</td>\n",
       "    </tr>\n",
       "  </tbody>\n",
       "</table>\n",
       "<p>277488 rows × 3 columns</p>\n",
       "</div>"
      ],
      "text/plain": [
       "       fk_id tag_id  relevance\n",
       "0        NaN    NaN        NaN\n",
       "1        NaN    NaN        NaN\n",
       "2        NaN    NaN        NaN\n",
       "3        NaN    NaN        NaN\n",
       "4        NaN    NaN        NaN\n",
       "...      ...    ...        ...\n",
       "277483   NaN    NaN        NaN\n",
       "277484   NaN    NaN        NaN\n",
       "277485   NaN    NaN        NaN\n",
       "277486   NaN    NaN        NaN\n",
       "277487   NaN    NaN        NaN\n",
       "\n",
       "[277488 rows x 3 columns]"
      ]
     },
     "execution_count": 75,
     "metadata": {},
     "output_type": "execute_result"
    }
   ],
   "source": [
    "directors_tag_relevance[directors_tag_relevance==0.99925]"
   ]
  },
  {
   "cell_type": "code",
   "execution_count": 76,
   "metadata": {},
   "outputs": [
    {
     "ename": "AttributeError",
     "evalue": "'DataFrame' object has no attribute 'directors'",
     "output_type": "error",
     "traceback": [
      "\u001b[0;31m---------------------------------------------------------------------------\u001b[0m",
      "\u001b[0;31mAttributeError\u001b[0m                            Traceback (most recent call last)",
      "\u001b[0;32m<ipython-input-76-79c427522c3f>\u001b[0m in \u001b[0;36m<module>\u001b[0;34m\u001b[0m\n\u001b[1;32m      1\u001b[0m \u001b[0mdirectors_tag_relevance\u001b[0m \u001b[0;34m=\u001b[0m \u001b[0mpd\u001b[0m\u001b[0;34m.\u001b[0m\u001b[0mDataFrame\u001b[0m\u001b[0;34m(\u001b[0m\u001b[0mdirectors_tag_relevance\u001b[0m\u001b[0;34m)\u001b[0m\u001b[0;34m.\u001b[0m\u001b[0mreset_index\u001b[0m\u001b[0;34m(\u001b[0m\u001b[0;34m)\u001b[0m\u001b[0;34m\u001b[0m\u001b[0;34m\u001b[0m\u001b[0m\n\u001b[0;32m----> 2\u001b[0;31m \u001b[0mdirectors_tag_relevance\u001b[0m\u001b[0;34m.\u001b[0m\u001b[0mdirectors\u001b[0m\u001b[0;34m.\u001b[0m\u001b[0mnunique\u001b[0m\u001b[0;34m(\u001b[0m\u001b[0;34m)\u001b[0m\u001b[0;34m\u001b[0m\u001b[0;34m\u001b[0m\u001b[0m\n\u001b[0m",
      "\u001b[0;32m~/anaconda3/envs/DVA/lib/python3.7/site-packages/pandas/core/generic.py\u001b[0m in \u001b[0;36m__getattr__\u001b[0;34m(self, name)\u001b[0m\n\u001b[1;32m   5177\u001b[0m             \u001b[0;32mif\u001b[0m \u001b[0mself\u001b[0m\u001b[0;34m.\u001b[0m\u001b[0m_info_axis\u001b[0m\u001b[0;34m.\u001b[0m\u001b[0m_can_hold_identifiers_and_holds_name\u001b[0m\u001b[0;34m(\u001b[0m\u001b[0mname\u001b[0m\u001b[0;34m)\u001b[0m\u001b[0;34m:\u001b[0m\u001b[0;34m\u001b[0m\u001b[0;34m\u001b[0m\u001b[0m\n\u001b[1;32m   5178\u001b[0m                 \u001b[0;32mreturn\u001b[0m \u001b[0mself\u001b[0m\u001b[0;34m[\u001b[0m\u001b[0mname\u001b[0m\u001b[0;34m]\u001b[0m\u001b[0;34m\u001b[0m\u001b[0;34m\u001b[0m\u001b[0m\n\u001b[0;32m-> 5179\u001b[0;31m             \u001b[0;32mreturn\u001b[0m \u001b[0mobject\u001b[0m\u001b[0;34m.\u001b[0m\u001b[0m__getattribute__\u001b[0m\u001b[0;34m(\u001b[0m\u001b[0mself\u001b[0m\u001b[0;34m,\u001b[0m \u001b[0mname\u001b[0m\u001b[0;34m)\u001b[0m\u001b[0;34m\u001b[0m\u001b[0;34m\u001b[0m\u001b[0m\n\u001b[0m\u001b[1;32m   5180\u001b[0m \u001b[0;34m\u001b[0m\u001b[0m\n\u001b[1;32m   5181\u001b[0m     \u001b[0;32mdef\u001b[0m \u001b[0m__setattr__\u001b[0m\u001b[0;34m(\u001b[0m\u001b[0mself\u001b[0m\u001b[0;34m,\u001b[0m \u001b[0mname\u001b[0m\u001b[0;34m,\u001b[0m \u001b[0mvalue\u001b[0m\u001b[0;34m)\u001b[0m\u001b[0;34m:\u001b[0m\u001b[0;34m\u001b[0m\u001b[0;34m\u001b[0m\u001b[0m\n",
      "\u001b[0;31mAttributeError\u001b[0m: 'DataFrame' object has no attribute 'directors'"
     ]
    }
   ],
   "source": [
    "directors_tag_relevance = pd.DataFrame(directors_tag_relevance).reset_index()\n",
    "directors_tag_relevance.directors.nunique()"
   ]
  },
  {
   "cell_type": "code",
   "execution_count": null,
   "metadata": {},
   "outputs": [],
   "source": []
  },
  {
   "cell_type": "code",
   "execution_count": 77,
   "metadata": {},
   "outputs": [
    {
     "data": {
      "text/html": [
       "<div>\n",
       "<style scoped>\n",
       "    .dataframe tbody tr th:only-of-type {\n",
       "        vertical-align: middle;\n",
       "    }\n",
       "\n",
       "    .dataframe tbody tr th {\n",
       "        vertical-align: top;\n",
       "    }\n",
       "\n",
       "    .dataframe thead th {\n",
       "        text-align: right;\n",
       "    }\n",
       "</style>\n",
       "<table border=\"1\" class=\"dataframe\">\n",
       "  <thead>\n",
       "    <tr style=\"text-align: right;\">\n",
       "      <th></th>\n",
       "      <th>index</th>\n",
       "      <th>fk_id</th>\n",
       "      <th>tag_id</th>\n",
       "      <th>relevance</th>\n",
       "    </tr>\n",
       "  </thead>\n",
       "  <tbody>\n",
       "    <tr>\n",
       "      <th>0</th>\n",
       "      <td>0</td>\n",
       "      <td>nm0000008</td>\n",
       "      <td>1</td>\n",
       "      <td>0.04475</td>\n",
       "    </tr>\n",
       "    <tr>\n",
       "      <th>1</th>\n",
       "      <td>1</td>\n",
       "      <td>nm0000008</td>\n",
       "      <td>10</td>\n",
       "      <td>0.01650</td>\n",
       "    </tr>\n",
       "    <tr>\n",
       "      <th>2</th>\n",
       "      <td>2</td>\n",
       "      <td>nm0000008</td>\n",
       "      <td>100</td>\n",
       "      <td>0.61000</td>\n",
       "    </tr>\n",
       "    <tr>\n",
       "      <th>3</th>\n",
       "      <td>3</td>\n",
       "      <td>nm0000008</td>\n",
       "      <td>1000</td>\n",
       "      <td>0.04275</td>\n",
       "    </tr>\n",
       "    <tr>\n",
       "      <th>4</th>\n",
       "      <td>4</td>\n",
       "      <td>nm0000008</td>\n",
       "      <td>1001</td>\n",
       "      <td>0.04375</td>\n",
       "    </tr>\n",
       "    <tr>\n",
       "      <th>...</th>\n",
       "      <td>...</td>\n",
       "      <td>...</td>\n",
       "      <td>...</td>\n",
       "      <td>...</td>\n",
       "    </tr>\n",
       "    <tr>\n",
       "      <th>277483</th>\n",
       "      <td>277483</td>\n",
       "      <td>nm0958387</td>\n",
       "      <td>995</td>\n",
       "      <td>0.11225</td>\n",
       "    </tr>\n",
       "    <tr>\n",
       "      <th>277484</th>\n",
       "      <td>277484</td>\n",
       "      <td>nm0958387</td>\n",
       "      <td>996</td>\n",
       "      <td>0.06875</td>\n",
       "    </tr>\n",
       "    <tr>\n",
       "      <th>277485</th>\n",
       "      <td>277485</td>\n",
       "      <td>nm0958387</td>\n",
       "      <td>997</td>\n",
       "      <td>0.05275</td>\n",
       "    </tr>\n",
       "    <tr>\n",
       "      <th>277486</th>\n",
       "      <td>277486</td>\n",
       "      <td>nm0958387</td>\n",
       "      <td>998</td>\n",
       "      <td>0.14750</td>\n",
       "    </tr>\n",
       "    <tr>\n",
       "      <th>277487</th>\n",
       "      <td>277487</td>\n",
       "      <td>nm0958387</td>\n",
       "      <td>999</td>\n",
       "      <td>0.14375</td>\n",
       "    </tr>\n",
       "  </tbody>\n",
       "</table>\n",
       "<p>277488 rows × 4 columns</p>\n",
       "</div>"
      ],
      "text/plain": [
       "         index      fk_id tag_id  relevance\n",
       "0            0  nm0000008      1    0.04475\n",
       "1            1  nm0000008     10    0.01650\n",
       "2            2  nm0000008    100    0.61000\n",
       "3            3  nm0000008   1000    0.04275\n",
       "4            4  nm0000008   1001    0.04375\n",
       "...        ...        ...    ...        ...\n",
       "277483  277483  nm0958387    995    0.11225\n",
       "277484  277484  nm0958387    996    0.06875\n",
       "277485  277485  nm0958387    997    0.05275\n",
       "277486  277486  nm0958387    998    0.14750\n",
       "277487  277487  nm0958387    999    0.14375\n",
       "\n",
       "[277488 rows x 4 columns]"
      ]
     },
     "execution_count": 77,
     "metadata": {},
     "output_type": "execute_result"
    }
   ],
   "source": [
    "pd.DataFrame(directors_tag_relevance)"
   ]
  },
  {
   "cell_type": "code",
   "execution_count": 78,
   "metadata": {},
   "outputs": [
    {
     "data": {
      "text/plain": [
       "dict_keys(['genome_scores', 'genome_tags', 'links', 'movies', 'ratings', 'tags', 'imdb_name_basics', 'imdb_title_basics', 'imdb_ratings', 'imdb_crew', 'imdb_principals'])"
      ]
     },
     "execution_count": 78,
     "metadata": {},
     "output_type": "execute_result"
    }
   ],
   "source": [
    "dfs.keys()"
   ]
  },
  {
   "cell_type": "code",
   "execution_count": 79,
   "metadata": {},
   "outputs": [
    {
     "data": {
      "text/html": [
       "<div>\n",
       "<style scoped>\n",
       "    .dataframe tbody tr th:only-of-type {\n",
       "        vertical-align: middle;\n",
       "    }\n",
       "\n",
       "    .dataframe tbody tr th {\n",
       "        vertical-align: top;\n",
       "    }\n",
       "\n",
       "    .dataframe thead th {\n",
       "        text-align: right;\n",
       "    }\n",
       "</style>\n",
       "<table border=\"1\" class=\"dataframe\">\n",
       "  <thead>\n",
       "    <tr style=\"text-align: right;\">\n",
       "      <th></th>\n",
       "      <th>nconst</th>\n",
       "      <th>primaryName</th>\n",
       "      <th>birthYear</th>\n",
       "      <th>deathYear</th>\n",
       "      <th>primaryProfession</th>\n",
       "      <th>knownForTitles</th>\n",
       "    </tr>\n",
       "  </thead>\n",
       "  <tbody>\n",
       "    <tr>\n",
       "      <th>0</th>\n",
       "      <td>nm0000001</td>\n",
       "      <td>Fred Astaire</td>\n",
       "      <td>1899</td>\n",
       "      <td>1987</td>\n",
       "      <td>soundtrack,actor,miscellaneous</td>\n",
       "      <td>tt0043044,tt0072308,tt0053137,tt0050419</td>\n",
       "    </tr>\n",
       "    <tr>\n",
       "      <th>1</th>\n",
       "      <td>nm0000002</td>\n",
       "      <td>Lauren Bacall</td>\n",
       "      <td>1924</td>\n",
       "      <td>2014</td>\n",
       "      <td>actress,soundtrack</td>\n",
       "      <td>tt0038355,tt0037382,tt0117057,tt0071877</td>\n",
       "    </tr>\n",
       "    <tr>\n",
       "      <th>3</th>\n",
       "      <td>nm0000004</td>\n",
       "      <td>John Belushi</td>\n",
       "      <td>1949</td>\n",
       "      <td>1982</td>\n",
       "      <td>actor,soundtrack,writer</td>\n",
       "      <td>tt0080455,tt0072562,tt0077975,tt0078723</td>\n",
       "    </tr>\n",
       "    <tr>\n",
       "      <th>4</th>\n",
       "      <td>nm0000005</td>\n",
       "      <td>Ingmar Bergman</td>\n",
       "      <td>1918</td>\n",
       "      <td>2007</td>\n",
       "      <td>writer,director,actor</td>\n",
       "      <td>tt0083922,tt0050976,tt0069467,tt0050986</td>\n",
       "    </tr>\n",
       "    <tr>\n",
       "      <th>5</th>\n",
       "      <td>nm0000006</td>\n",
       "      <td>Ingrid Bergman</td>\n",
       "      <td>1915</td>\n",
       "      <td>1982</td>\n",
       "      <td>actress,soundtrack,producer</td>\n",
       "      <td>tt0036855,tt0038109,tt0038787,tt0071877</td>\n",
       "    </tr>\n",
       "  </tbody>\n",
       "</table>\n",
       "</div>"
      ],
      "text/plain": [
       "      nconst     primaryName birthYear deathYear  \\\n",
       "0  nm0000001    Fred Astaire      1899      1987   \n",
       "1  nm0000002   Lauren Bacall      1924      2014   \n",
       "3  nm0000004    John Belushi      1949      1982   \n",
       "4  nm0000005  Ingmar Bergman      1918      2007   \n",
       "5  nm0000006  Ingrid Bergman      1915      1982   \n",
       "\n",
       "                primaryProfession                           knownForTitles  \n",
       "0  soundtrack,actor,miscellaneous  tt0043044,tt0072308,tt0053137,tt0050419  \n",
       "1              actress,soundtrack  tt0038355,tt0037382,tt0117057,tt0071877  \n",
       "3         actor,soundtrack,writer  tt0080455,tt0072562,tt0077975,tt0078723  \n",
       "4           writer,director,actor  tt0083922,tt0050976,tt0069467,tt0050986  \n",
       "5     actress,soundtrack,producer  tt0036855,tt0038109,tt0038787,tt0071877  "
      ]
     },
     "execution_count": 79,
     "metadata": {},
     "output_type": "execute_result"
    }
   ],
   "source": [
    "dfs['imdb_name_basics'].head()"
   ]
  },
  {
   "cell_type": "code",
   "execution_count": 102,
   "metadata": {},
   "outputs": [],
   "source": [
    "needed_directors_and_names = pd.merge(cleaned_all_needed_directors,dfs['imdb_name_basics'],\n",
    "                                      left_on='nconst', right_on='nconst', how='left' )\n",
    "toy_data = needed_directors_and_names.head(100)"
   ]
  },
  {
   "cell_type": "code",
   "execution_count": 103,
   "metadata": {},
   "outputs": [],
   "source": [
    "## dumping into csv for toy data for visualization\n",
    "toy_data.to_csv('toy_director_movies.csv')"
   ]
  },
  {
   "cell_type": "code",
   "execution_count": 97,
   "metadata": {},
   "outputs": [],
   "source": [
    "needed_directors_and_names = needed_directors_and_names[['nconst','primaryName']]"
   ]
  },
  {
   "cell_type": "code",
   "execution_count": 82,
   "metadata": {},
   "outputs": [],
   "source": [
    "dfs['directors'] = needed_directors_and_names\n",
    "dfs['directors_relevence'] = directors_tag_relevance"
   ]
  },
  {
   "cell_type": "code",
   "execution_count": 83,
   "metadata": {},
   "outputs": [
    {
     "data": {
      "text/html": [
       "<div>\n",
       "<style scoped>\n",
       "    .dataframe tbody tr th:only-of-type {\n",
       "        vertical-align: middle;\n",
       "    }\n",
       "\n",
       "    .dataframe tbody tr th {\n",
       "        vertical-align: top;\n",
       "    }\n",
       "\n",
       "    .dataframe thead th {\n",
       "        text-align: right;\n",
       "    }\n",
       "</style>\n",
       "<table border=\"1\" class=\"dataframe\">\n",
       "  <thead>\n",
       "    <tr style=\"text-align: right;\">\n",
       "      <th></th>\n",
       "      <th>nconst</th>\n",
       "      <th>primaryName</th>\n",
       "    </tr>\n",
       "  </thead>\n",
       "  <tbody>\n",
       "    <tr>\n",
       "      <th>0</th>\n",
       "      <td>nm0617588</td>\n",
       "      <td>Georges Méliès</td>\n",
       "    </tr>\n",
       "    <tr>\n",
       "      <th>1</th>\n",
       "      <td>nm0692105</td>\n",
       "      <td>Edwin S. Porter</td>\n",
       "    </tr>\n",
       "    <tr>\n",
       "      <th>2</th>\n",
       "      <td>nm0000428</td>\n",
       "      <td>D.W. Griffith</td>\n",
       "    </tr>\n",
       "    <tr>\n",
       "      <th>3</th>\n",
       "      <td>nm0665737</td>\n",
       "      <td>Stuart Paton</td>\n",
       "    </tr>\n",
       "    <tr>\n",
       "      <th>4</th>\n",
       "      <td>nm0000122</td>\n",
       "      <td>Charles Chaplin</td>\n",
       "    </tr>\n",
       "    <tr>\n",
       "      <th>...</th>\n",
       "      <td>...</td>\n",
       "      <td>...</td>\n",
       "    </tr>\n",
       "    <tr>\n",
       "      <th>7008</th>\n",
       "      <td>nm0737517</td>\n",
       "      <td>NaN</td>\n",
       "    </tr>\n",
       "    <tr>\n",
       "      <th>7009</th>\n",
       "      <td>nm0319213</td>\n",
       "      <td>NaN</td>\n",
       "    </tr>\n",
       "    <tr>\n",
       "      <th>7010</th>\n",
       "      <td>nm5255757</td>\n",
       "      <td>NaN</td>\n",
       "    </tr>\n",
       "    <tr>\n",
       "      <th>7011</th>\n",
       "      <td>nm0636675</td>\n",
       "      <td>NaN</td>\n",
       "    </tr>\n",
       "    <tr>\n",
       "      <th>7012</th>\n",
       "      <td>nm0042006</td>\n",
       "      <td>NaN</td>\n",
       "    </tr>\n",
       "  </tbody>\n",
       "</table>\n",
       "<p>7013 rows × 2 columns</p>\n",
       "</div>"
      ],
      "text/plain": [
       "         nconst      primaryName\n",
       "0     nm0617588   Georges Méliès\n",
       "1     nm0692105  Edwin S. Porter\n",
       "2     nm0000428    D.W. Griffith\n",
       "3     nm0665737     Stuart Paton\n",
       "4     nm0000122  Charles Chaplin\n",
       "...         ...              ...\n",
       "7008  nm0737517              NaN\n",
       "7009  nm0319213              NaN\n",
       "7010  nm5255757              NaN\n",
       "7011  nm0636675              NaN\n",
       "7012  nm0042006              NaN\n",
       "\n",
       "[7013 rows x 2 columns]"
      ]
     },
     "execution_count": 83,
     "metadata": {},
     "output_type": "execute_result"
    }
   ],
   "source": [
    "dfs['directors']"
   ]
  },
  {
   "cell_type": "code",
   "execution_count": 84,
   "metadata": {},
   "outputs": [],
   "source": [
    "# \n",
    "#\n",
    "directors_table = \"\"\"\n",
    "CREATE TABLE IF NOT EXISTS directors (\n",
    "    id text PRIMARY KEY,\n",
    "    name text\n",
    ");\n",
    "\"\"\"\n",
    "\n",
    "director_relevence_table = \"\"\"\n",
    "CREATE TABLE IF NOT EXISTS director_tag_relevance (\n",
    "    director_id integer,\n",
    "    tag_id name text NOT NULL,\n",
    "    relevance real NOT NULL\n",
    ");\n",
    "\"\"\"\n",
    "table_sql = {\n",
    "    'directors'                 : directors_table,\n",
    "    'directors_relevence'       : director_relevence_table,\n",
    "}\n",
    "\n",
    "table_data_source = {\n",
    "    'directors'                 : 'directors',\n",
    "    'directors_relevence'       : 'directors_relevence',\n",
    "}\n",
    "\n",
    "for table_name in table_sql:\n",
    "    # create table\n",
    "    c.execute(table_sql[table_name])\n",
    "    # populate table with data\n",
    "    df = dfs[table_data_source[table_name]]\n",
    "    df.to_sql(table_sql[table_name], conn, if_exists='append', index=False)"
   ]
  },
  {
   "cell_type": "code",
   "execution_count": 85,
   "metadata": {},
   "outputs": [
    {
     "data": {
      "text/plain": [
       "['tt0000012', 'tt0000417', 'tt0000439', 'tt0004972', 'tt0006333']"
      ]
     },
     "execution_count": 85,
     "metadata": {},
     "output_type": "execute_result"
    }
   ],
   "source": [
    "# get needed movie ids\n",
    "sql = \"\"\"\n",
    "select id from movies ;\n",
    "\"\"\"\n",
    "c.execute(sql)\n",
    "movie_ids = c.fetchall()\n",
    "needed_movies = [m[0] for m in movie_ids]\n",
    "needed_movies[:5]  # check first 5"
   ]
  },
  {
   "cell_type": "code",
   "execution_count": 86,
   "metadata": {},
   "outputs": [],
   "source": [
    "# director aggregated tag score\n",
    "# average for each tag for all of the movies they directed\n"
   ]
  },
  {
   "cell_type": "code",
   "execution_count": 87,
   "metadata": {},
   "outputs": [
    {
     "data": {
      "text/plain": [
       "[(1, '007'),\n",
       " (2, '007 (series)'),\n",
       " (3, '18th century'),\n",
       " (4, '1920s'),\n",
       " (5, '1930s')]"
      ]
     },
     "execution_count": 87,
     "metadata": {},
     "output_type": "execute_result"
    }
   ],
   "source": [
    "# get needed movie ids\n",
    "sql = \"\"\"\n",
    "select * from tags ;\n",
    "\"\"\"\n",
    "c.execute(sql)\n",
    "tag_ids = c.fetchall()\n",
    "all_tags = [t for t in tag_ids]\n",
    "all_tags[:5]  # check first 5"
   ]
  },
  {
   "cell_type": "code",
   "execution_count": 88,
   "metadata": {},
   "outputs": [
    {
     "data": {
      "text/plain": [
       "[('tt0000001', '1', 0.02875),\n",
       " ('tt0000001', '2', 0.023749999999999997),\n",
       " ('tt0000001', '3', 0.0625),\n",
       " ('tt0000001', '4', 0.07574999999999997),\n",
       " ('tt0000001', '5', 0.14075)]"
      ]
     },
     "execution_count": 88,
     "metadata": {},
     "output_type": "execute_result"
    }
   ],
   "source": [
    "# get needed movie ids\n",
    "sql = \"\"\"\n",
    "select * from tag_relevance;\n",
    "\"\"\"\n",
    "c.execute(sql)\n",
    "movie_ids = c.fetchall()\n",
    "needed_movies = [m for m in movie_ids]\n",
    "needed_movies[:5]  # check first 5\n",
    "# movie, tag, relevance"
   ]
  },
  {
   "cell_type": "code",
   "execution_count": 107,
   "metadata": {},
   "outputs": [
    {
     "data": {
      "text/plain": [
       "[('tt0000001', '1', 0.02875),\n",
       " ('tt0000001', '2', 0.023749999999999997),\n",
       " ('tt0000001', '3', 0.0625),\n",
       " ('tt0000001', '4', 0.07574999999999997),\n",
       " ('tt0000001', '5', 0.14075),\n",
       " ('tt0000001', '6', 0.14675),\n",
       " ('tt0000001', '7', 0.0635),\n",
       " ('tt0000001', '8', 0.20375),\n",
       " ('tt0000001', '9', 0.20199999999999999),\n",
       " ('tt0000001', '10', 0.03075),\n",
       " ('tt0000001', '11', 0.58025),\n",
       " ('tt0000001', '12', 0.10249999999999998),\n",
       " ('tt0000001', '13', 0.20175),\n",
       " ('tt0000001', '14', 0.007000000000000006),\n",
       " ('tt0000001', '15', 0.024500000000000025),\n",
       " ('tt0000001', '16', 0.17275),\n",
       " ('tt0000001', '17', 0.016500000000000015),\n",
       " ('tt0000001', '18', 0.10399999999999998),\n",
       " ('tt0000001', '19', 0.6625),\n",
       " ('tt0000001', '20', 0.30075),\n",
       " ('tt0000001', '21', 0.31675),\n",
       " ('tt0000001', '22', 0.28600000000000003),\n",
       " ('tt0000001', '23', 0.06274999999999997),\n",
       " ('tt0000001', '24', 0.01924999999999999),\n",
       " ('tt0000001', '25', 0.05875000000000001),\n",
       " ('tt0000001', '26', 0.07924999999999999),\n",
       " ('tt0000001', '27', 0.1965),\n",
       " ('tt0000001', '28', 0.09325),\n",
       " ('tt0000001', '29', 0.89375),\n",
       " ('tt0000001', '30', 0.67625),\n",
       " ('tt0000001', '31', 0.035750000000000004),\n",
       " ('tt0000001', '32', 0.23325),\n",
       " ('tt0000001', '33', 0.3075),\n",
       " ('tt0000001', '34', 0.054499999999999986),\n",
       " ('tt0000001', '35', 0.03799999999999998),\n",
       " ('tt0000001', '36', 0.212),\n",
       " ('tt0000001', '37', 0.08000000000000003),\n",
       " ('tt0000001', '38', 0.015500000000000012),\n",
       " ('tt0000001', '39', 0.019500000000000017),\n",
       " ('tt0000001', '40', 0.01924999999999999),\n",
       " ('tt0000001', '41', 0.015000000000000013),\n",
       " ('tt0000001', '42', 0.030000000000000027),\n",
       " ('tt0000001', '43', 0.09075),\n",
       " ('tt0000001', '44', 0.02250000000000002),\n",
       " ('tt0000001', '45', 0.24600000000000002),\n",
       " ('tt0000001', '46', 0.24600000000000002),\n",
       " ('tt0000001', '47', 0.01050000000000001),\n",
       " ('tt0000001', '48', 0.16675),\n",
       " ('tt0000001', '49', 0.2935),\n",
       " ('tt0000001', '50', 0.15000000000000002),\n",
       " ('tt0000001', '51', 0.26775000000000004),\n",
       " ('tt0000001', '52', 0.18600000000000003),\n",
       " ('tt0000001', '53', 0.25725),\n",
       " ('tt0000001', '54', 0.15000000000000002),\n",
       " ('tt0000001', '55', 0.2205),\n",
       " ('tt0000001', '56', 0.014249999999999985),\n",
       " ('tt0000001', '57', 0.024249999999999997),\n",
       " ('tt0000001', '58', 0.02925),\n",
       " ('tt0000001', '59', 0.08424999999999999),\n",
       " ('tt0000001', '60', 0.03375),\n",
       " ('tt0000001', '61', 0.6175),\n",
       " ('tt0000001', '62', 0.63),\n",
       " ('tt0000001', '63', 0.94725),\n",
       " ('tt0000001', '64', 0.98425),\n",
       " ('tt0000001', '65', 0.09975),\n",
       " ('tt0000001', '66', 0.04149999999999998),\n",
       " ('tt0000001', '67', 0.135),\n",
       " ('tt0000001', '68', 0.033999999999999975),\n",
       " ('tt0000001', '69', 0.018249999999999992),\n",
       " ('tt0000001', '70', 0.14525),\n",
       " ('tt0000001', '71', 0.016749999999999987),\n",
       " ('tt0000001', '72', 0.018000000000000016),\n",
       " ('tt0000001', '73', 0.0595),\n",
       " ('tt0000001', '74', 0.00974999999999998),\n",
       " ('tt0000001', '75', 0.20125),\n",
       " ('tt0000001', '76', 0.016749999999999987),\n",
       " ('tt0000001', '77', 0.059250000000000025),\n",
       " ('tt0000001', '78', 0.03799999999999998),\n",
       " ('tt0000001', '79', 0.32925000000000004),\n",
       " ('tt0000001', '80', 0.02875),\n",
       " ('tt0000001', '81', 0.062),\n",
       " ('tt0000001', '82', 0.08700000000000002),\n",
       " ('tt0000001', '83', 0.035999999999999976),\n",
       " ('tt0000001', '84', 0.30475),\n",
       " ('tt0000001', '85', 0.068),\n",
       " ('tt0000001', '86', 0.33625000000000005),\n",
       " ('tt0000001', '87', 0.036499999999999984),\n",
       " ('tt0000001', '88', 0.005749999999999977),\n",
       " ('tt0000001', '89', 0.006749999999999978),\n",
       " ('tt0000001', '90', 0.05275000000000002),\n",
       " ('tt0000001', '91', 0.03325),\n",
       " ('tt0000001', '92', 0.02074999999999999),\n",
       " ('tt0000001', '93', 0.3435),\n",
       " ('tt0000001', '94', 0.36225),\n",
       " ('tt0000001', '95', 0.07400000000000001),\n",
       " ('tt0000001', '96', 0.06624999999999998),\n",
       " ('tt0000001', '97', 0.08174999999999999),\n",
       " ('tt0000001', '98', 0.064),\n",
       " ('tt0000001', '99', 0.12524999999999994),\n",
       " ('tt0000001', '100', 0.10549999999999997),\n",
       " ('tt0000001', '101', 0.05099999999999999),\n",
       " ('tt0000001', '102', 0.012249999999999985),\n",
       " ('tt0000001', '103', 0.0072499999999999796),\n",
       " ('tt0000001', '104', 0.0040000000000000036),\n",
       " ('tt0000001', '105', 0.023500000000000017),\n",
       " ('tt0000001', '106', 0.005249999999999978),\n",
       " ('tt0000001', '107', 0.16349999999999998),\n",
       " ('tt0000001', '108', 0.038250000000000006),\n",
       " ('tt0000001', '109', 0.19525),\n",
       " ('tt0000001', '110', 0.07950000000000003),\n",
       " ('tt0000001', '111', 0.03625),\n",
       " ('tt0000001', '112', 0.019000000000000017),\n",
       " ('tt0000001', '113', 0.501),\n",
       " ('tt0000001', '114', 0.02174999999999999),\n",
       " ('tt0000001', '115', 0.1745),\n",
       " ('tt0000001', '116', 0.015749999999999986),\n",
       " ('tt0000001', '117', 0.005500000000000005),\n",
       " ('tt0000001', '118', 0.027000000000000024),\n",
       " ('tt0000001', '119', 0.0037499999999999756),\n",
       " ('tt0000001', '120', 0.1235),\n",
       " ('tt0000001', '121', 0.31225),\n",
       " ('tt0000001', '122', 0.23125),\n",
       " ('tt0000001', '123', 0.010000000000000007),\n",
       " ('tt0000001', '124', 0.04699999999999999),\n",
       " ('tt0000001', '125', 0.04275000000000001),\n",
       " ('tt0000001', '126', 0.08224999999999999),\n",
       " ('tt0000001', '127', 0.04699999999999999),\n",
       " ('tt0000001', '128', 0.368),\n",
       " ('tt0000001', '129', 0.2315),\n",
       " ('tt0000001', '130', 0.019000000000000017),\n",
       " ('tt0000001', '131', 0.016749999999999987),\n",
       " ('tt0000001', '132', 0.29325),\n",
       " ('tt0000001', '133', 0.08975),\n",
       " ('tt0000001', '134', 0.04475000000000001),\n",
       " ('tt0000001', '135', 0.05425000000000002),\n",
       " ('tt0000001', '136', 0.09475),\n",
       " ('tt0000001', '137', 0.06574999999999998),\n",
       " ('tt0000001', '138', 0.3295),\n",
       " ('tt0000001', '139', 0.028000000000000025),\n",
       " ('tt0000001', '140', 0.11525000000000002),\n",
       " ('tt0000001', '141', 0.11225000000000003),\n",
       " ('tt0000001', '142', 0.012249999999999985),\n",
       " ('tt0000001', '143', 0.16625),\n",
       " ('tt0000001', '144', 0.08574999999999999),\n",
       " ('tt0000001', '145', 0.07900000000000001),\n",
       " ('tt0000001', '146', 0.07324999999999998),\n",
       " ('tt0000001', '147', 0.02024999999999999),\n",
       " ('tt0000001', '148', 0.03175),\n",
       " ('tt0000001', '149', 0.08000000000000003),\n",
       " ('tt0000001', '150', 0.025500000000000026),\n",
       " ('tt0000001', '151', 0.04999999999999999),\n",
       " ('tt0000001', '152', 0.08074999999999999),\n",
       " ('tt0000001', '153', 0.04675000000000002),\n",
       " ('tt0000001', '154', 0.22925),\n",
       " ('tt0000001', '155', 0.05275000000000002),\n",
       " ('tt0000001', '156', 0.05375000000000002),\n",
       " ('tt0000001', '157', 0.031999999999999966),\n",
       " ('tt0000001', '158', 0.03625),\n",
       " ('tt0000001', '159', 0.02100000000000002),\n",
       " ('tt0000001', '160', 0.18525000000000005),\n",
       " ('tt0000001', '161', 0.018500000000000016),\n",
       " ('tt0000001', '162', 0.1835),\n",
       " ('tt0000001', '163', 0.08274999999999999),\n",
       " ('tt0000001', '164', 0.221),\n",
       " ('tt0000001', '165', 0.058),\n",
       " ('tt0000001', '166', 0.013249999999999984),\n",
       " ('tt0000001', '167', 0.1405),\n",
       " ('tt0000001', '168', 0.04199999999999998),\n",
       " ('tt0000001', '169', 0.227),\n",
       " ('tt0000001', '170', 0.55075),\n",
       " ('tt0000001', '171', 0.1135),\n",
       " ('tt0000001', '172', 0.5329999999999999),\n",
       " ('tt0000001', '173', 0.063),\n",
       " ('tt0000001', '174', 0.015749999999999986),\n",
       " ('tt0000001', '175', 0.1935),\n",
       " ('tt0000001', '176', 0.1395),\n",
       " ('tt0000001', '177', 0.04149999999999998),\n",
       " ('tt0000001', '178', 0.02875),\n",
       " ('tt0000001', '179', 0.060750000000000026),\n",
       " ('tt0000001', '180', 0.026500000000000024),\n",
       " ('tt0000001', '181', 0.04949999999999999),\n",
       " ('tt0000001', '182', 0.03475),\n",
       " ('tt0000001', '183', 0.048750000000000016),\n",
       " ('tt0000001', '184', 0.03475),\n",
       " ('tt0000001', '185', 0.14575),\n",
       " ('tt0000001', '186', 0.95475),\n",
       " ('tt0000001', '187', 0.009000000000000008),\n",
       " ('tt0000001', '188', 0.53625),\n",
       " ('tt0000001', '189', 0.0625),\n",
       " ('tt0000001', '190', 0.024749999999999998),\n",
       " ('tt0000001', '191', 0.114),\n",
       " ('tt0000001', '192', 0.31225),\n",
       " ('tt0000001', '193', 0.8145),\n",
       " ('tt0000001', '194', 0.1325),\n",
       " ('tt0000001', '195', 0.5075),\n",
       " ('tt0000001', '196', 0.10875),\n",
       " ('tt0000001', '197', 0.026000000000000027),\n",
       " ('tt0000001', '198', 0.07400000000000001),\n",
       " ('tt0000001', '199', 0.13674999999999998),\n",
       " ('tt0000001', '200', 0.015749999999999986),\n",
       " ('tt0000001', '201', 0.04549999999999999),\n",
       " ('tt0000001', '202', 0.012000000000000009),\n",
       " ('tt0000001', '203', 0.90375),\n",
       " ('tt0000001', '204', 0.95975),\n",
       " ('tt0000001', '205', 0.02150000000000002),\n",
       " ('tt0000001', '206', 0.09725),\n",
       " ('tt0000001', '207', 0.017249999999999988),\n",
       " ('tt0000001', '208', 0.017000000000000015),\n",
       " ('tt0000001', '209', 0.00824999999999998),\n",
       " ('tt0000001', '210', 0.012500000000000013),\n",
       " ('tt0000001', '211', 0.020500000000000015),\n",
       " ('tt0000001', '212', 0.18625000000000005),\n",
       " ('tt0000001', '213', 0.05025000000000002),\n",
       " ('tt0000001', '214', 0.023249999999999996),\n",
       " ('tt0000001', '215', 0.815),\n",
       " ('tt0000001', '216', 0.254),\n",
       " ('tt0000001', '217', 0.013749999999999984),\n",
       " ('tt0000001', '218', 0.1985),\n",
       " ('tt0000001', '219', 0.01150000000000001),\n",
       " ('tt0000001', '220', 0.7445),\n",
       " ('tt0000001', '221', 0.05325000000000002),\n",
       " ('tt0000001', '222', 0.10125),\n",
       " ('tt0000001', '223', 0.057),\n",
       " ('tt0000001', '224', 0.03275),\n",
       " ('tt0000001', '225', 0.006749999999999978),\n",
       " ('tt0000001', '226', 0.08374999999999999),\n",
       " ('tt0000001', '227', 0.066),\n",
       " ('tt0000001', '228', 0.04899999999999999),\n",
       " ('tt0000001', '229', 0.6525),\n",
       " ('tt0000001', '230', 0.61675),\n",
       " ('tt0000001', '231', 0.12175000000000002),\n",
       " ('tt0000001', '232', 0.04999999999999999),\n",
       " ('tt0000001', '233', 0.08374999999999999),\n",
       " ('tt0000001', '234', 0.07174999999999998),\n",
       " ('tt0000001', '235', 0.26925),\n",
       " ('tt0000001', '236', 0.17025),\n",
       " ('tt0000001', '237', 0.019500000000000017),\n",
       " ('tt0000001', '238', 0.26625),\n",
       " ('tt0000001', '239', 0.11900000000000001),\n",
       " ('tt0000001', '240', 0.3120000000000001),\n",
       " ('tt0000001', '241', 0.05775000000000001),\n",
       " ('tt0000001', '242', 0.1375),\n",
       " ('tt0000001', '243', 0.14225),\n",
       " ('tt0000001', '244', 0.99875),\n",
       " ('tt0000001', '245', 0.053999999999999986),\n",
       " ('tt0000001', '246', 0.34875),\n",
       " ('tt0000001', '247', 0.02575),\n",
       " ('tt0000001', '248', 0.04775000000000002),\n",
       " ('tt0000001', '249', 0.03175),\n",
       " ('tt0000001', '250', 0.027500000000000024),\n",
       " ('tt0000001', '251', 0.16225),\n",
       " ('tt0000001', '252', 0.07150000000000001),\n",
       " ('tt0000001', '253', 0.027000000000000024),\n",
       " ('tt0000001', '254', 0.018000000000000016),\n",
       " ('tt0000001', '255', 0.53475),\n",
       " ('tt0000001', '256', 0.08574999999999999),\n",
       " ('tt0000001', '257', 0.027000000000000024),\n",
       " ('tt0000001', '258', 0.266),\n",
       " ('tt0000001', '259', 0.07100000000000001),\n",
       " ('tt0000001', '260', 0.451),\n",
       " ('tt0000001', '261', 0.018000000000000016),\n",
       " ('tt0000001', '262', 0.027500000000000024),\n",
       " ('tt0000001', '263', 0.018249999999999992),\n",
       " ('tt0000001', '264', 0.054499999999999986),\n",
       " ('tt0000001', '265', 0.09075),\n",
       " ('tt0000001', '266', 0.68475),\n",
       " ('tt0000001', '267', 0.1115),\n",
       " ('tt0000001', '268', 0.08474999999999999),\n",
       " ('tt0000001', '269', 0.244),\n",
       " ('tt0000001', '270', 0.363),\n",
       " ('tt0000001', '271', 0.034999999999999976),\n",
       " ('tt0000001', '272', 0.35550000000000004),\n",
       " ('tt0000001', '273', 0.03899999999999998),\n",
       " ('tt0000001', '274', 0.2085),\n",
       " ('tt0000001', '275', 0.32775),\n",
       " ('tt0000001', '276', 0.233),\n",
       " ('tt0000001', '277', 0.443),\n",
       " ('tt0000001', '278', 0.8420000000000001),\n",
       " ('tt0000001', '279', 0.68625),\n",
       " ('tt0000001', '280', 0.017500000000000016),\n",
       " ('tt0000001', '281', 0.017749999999999988),\n",
       " ('tt0000001', '282', 0.21375),\n",
       " ('tt0000001', '283', 0.017000000000000015),\n",
       " ('tt0000001', '284', 0.01100000000000001),\n",
       " ('tt0000001', '285', 0.10675),\n",
       " ('tt0000001', '286', 0.08300000000000002),\n",
       " ('tt0000001', '287', 0.04349999999999998),\n",
       " ('tt0000001', '288', 0.13674999999999998),\n",
       " ('tt0000001', '289', 0.07924999999999999),\n",
       " ('tt0000001', '290', 0.013000000000000013),\n",
       " ('tt0000001', '291', 0.01874999999999999),\n",
       " ('tt0000001', '292', 0.16949999999999998),\n",
       " ('tt0000001', '293', 0.04625000000000001),\n",
       " ('tt0000001', '294', 0.04775000000000002),\n",
       " ('tt0000001', '295', 0.007500000000000007),\n",
       " ('tt0000001', '296', 0.06674999999999998),\n",
       " ('tt0000001', '297', 0.17775000000000002),\n",
       " ('tt0000001', '298', 0.09250000000000004),\n",
       " ('tt0000001', '299', 0.5515),\n",
       " ('tt0000001', '300', 0.035250000000000004),\n",
       " ('tt0000001', '301', 0.01124999999999998),\n",
       " ('tt0000001', '302', 0.63875),\n",
       " ('tt0000001', '303', 0.10325),\n",
       " ('tt0000001', '304', 0.5605),\n",
       " ('tt0000001', '305', 0.16299999999999998),\n",
       " ('tt0000001', '306', 0.06474999999999997),\n",
       " ('tt0000001', '307', 0.012249999999999985),\n",
       " ('tt0000001', '308', 0.05149999999999999),\n",
       " ('tt0000001', '309', 0.83925),\n",
       " ('tt0000001', '310', 0.893),\n",
       " ('tt0000001', '311', 0.204),\n",
       " ('tt0000001', '312', 0.10249999999999998),\n",
       " ('tt0000001', '313', 0.14825),\n",
       " ('tt0000001', '314', 0.1735),\n",
       " ('tt0000001', '315', 0.039250000000000014),\n",
       " ('tt0000001', '316', 0.18600000000000003),\n",
       " ('tt0000001', '317', 0.09125),\n",
       " ('tt0000001', '318', 0.03899999999999998),\n",
       " ('tt0000001', '319', 0.20375),\n",
       " ('tt0000001', '320', 0.04525000000000001),\n",
       " ('tt0000001', '321', 0.028500000000000025),\n",
       " ('tt0000001', '322', 0.1165),\n",
       " ('tt0000001', '323', 0.34075),\n",
       " ('tt0000001', '324', 0.2105),\n",
       " ('tt0000001', '325', 0.11175000000000003),\n",
       " ('tt0000001', '326', 0.24075),\n",
       " ('tt0000001', '327', 0.1955),\n",
       " ('tt0000001', '328', 0.2415),\n",
       " ('tt0000001', '329', 0.059250000000000025),\n",
       " ('tt0000001', '330', 0.032499999999999966),\n",
       " ('tt0000001', '331', 0.031999999999999966),\n",
       " ('tt0000001', '332', 0.041250000000000016),\n",
       " ('tt0000001', '333', 0.063),\n",
       " ('tt0000001', '334', 0.46575),\n",
       " ('tt0000001', '335', 0.1345),\n",
       " ('tt0000001', '336', 0.060250000000000026),\n",
       " ('tt0000001', '337', 0.07500000000000001),\n",
       " ('tt0000001', '338', 0.48225),\n",
       " ('tt0000001', '339', 0.06474999999999997),\n",
       " ('tt0000001', '340', 0.01024999999999998),\n",
       " ('tt0000001', '341', 0.132),\n",
       " ('tt0000001', '342', 0.04599999999999999),\n",
       " ('tt0000001', '343', 0.14175),\n",
       " ('tt0000001', '344', 0.10549999999999997),\n",
       " ('tt0000001', '345', 0.30825),\n",
       " ('tt0000001', '346', 0.034499999999999975),\n",
       " ('tt0000001', '347', 0.008000000000000007),\n",
       " ('tt0000001', '348', 0.3345),\n",
       " ('tt0000001', '349', 0.1145),\n",
       " ('tt0000001', '350', 0.11900000000000001),\n",
       " ('tt0000001', '351', 0.2405),\n",
       " ('tt0000001', '352', 0.024000000000000018),\n",
       " ('tt0000001', '353', 0.34450000000000003),\n",
       " ('tt0000001', '354', 0.1195),\n",
       " ('tt0000001', '355', 0.66625),\n",
       " ('tt0000001', '356', 0.35324999999999995),\n",
       " ('tt0000001', '357', 0.07974999999999999),\n",
       " ('tt0000001', '358', 0.1135),\n",
       " ('tt0000001', '359', 0.11625000000000002),\n",
       " ('tt0000001', '360', 0.056),\n",
       " ('tt0000001', '361', 0.09275),\n",
       " ('tt0000001', '362', 0.18125),\n",
       " ('tt0000001', '363', 0.03625),\n",
       " ('tt0000001', '364', 0.5465),\n",
       " ('tt0000001', '365', 0.52825),\n",
       " ('tt0000001', '366', 0.2095),\n",
       " ('tt0000001', '367', 0.52825),\n",
       " ('tt0000001', '368', 0.34275),\n",
       " ('tt0000001', '369', 0.05149999999999999),\n",
       " ('tt0000001', '370', 0.058),\n",
       " ('tt0000001', '371', 0.43575),\n",
       " ('tt0000001', '372', 0.23775),\n",
       " ('tt0000001', '373', 0.018500000000000016),\n",
       " ('tt0000001', '374', 0.8314999999999999),\n",
       " ('tt0000001', '375', 0.27775000000000005),\n",
       " ('tt0000001', '376', 0.211),\n",
       " ('tt0000001', '377', 0.59525),\n",
       " ('tt0000001', '378', 0.42625),\n",
       " ('tt0000001', '379', 0.09125),\n",
       " ('tt0000001', '380', 0.07224999999999998),\n",
       " ('tt0000001', '381', 0.09275),\n",
       " ('tt0000001', '382', 0.50075),\n",
       " ('tt0000001', '383', 0.04699999999999999),\n",
       " ('tt0000001', '384', 0.04525000000000001),\n",
       " ('tt0000001', '385', 0.19275),\n",
       " ('tt0000001', '386', 0.05099999999999999),\n",
       " ('tt0000001', '387', 0.62325),\n",
       " ('tt0000001', '388', 0.7095),\n",
       " ('tt0000001', '389', 0.30475),\n",
       " ('tt0000001', '390', 0.2025),\n",
       " ('tt0000001', '391', 0.39025),\n",
       " ('tt0000001', '392', 0.0060000000000000045),\n",
       " ('tt0000001', '393', 0.134),\n",
       " ('tt0000001', '394', 0.01924999999999999),\n",
       " ('tt0000001', '395', 0.15799999999999995),\n",
       " ('tt0000001', '396', 0.219),\n",
       " ('tt0000001', '397', 0.18075),\n",
       " ('tt0000001', '398', 0.03475),\n",
       " ('tt0000001', '399', 0.052999999999999985),\n",
       " ('tt0000001', '400', 0.010000000000000007),\n",
       " ('tt0000001', '401', 0.2665),\n",
       " ('tt0000001', '402', 0.10199999999999998),\n",
       " ('tt0000001', '403', 0.125),\n",
       " ('tt0000001', '404', 0.03025),\n",
       " ('tt0000001', '405', 0.05325000000000002),\n",
       " ('tt0000001', '406', 0.35050000000000003),\n",
       " ('tt0000001', '407', 0.036499999999999984),\n",
       " ('tt0000001', '408', 0.04299999999999998),\n",
       " ('tt0000001', '409', 0.04225000000000001),\n",
       " ('tt0000001', '410', 0.127),\n",
       " ('tt0000001', '411', 0.04575000000000001),\n",
       " ('tt0000001', '412', 0.92875),\n",
       " ('tt0000001', '413', 0.08074999999999999),\n",
       " ('tt0000001', '414', 0.87625),\n",
       " ('tt0000001', '415', 0.7989999999999999),\n",
       " ('tt0000001', '416', 0.03799999999999998),\n",
       " ('tt0000001', '417', 0.62925),\n",
       " ('tt0000001', '418', 0.14350000000000002),\n",
       " ('tt0000001', '419', 0.1275),\n",
       " ('tt0000001', '420', 0.3825),\n",
       " ('tt0000001', '421', 0.024500000000000025),\n",
       " ('tt0000001', '422', 0.12275000000000005),\n",
       " ('tt0000001', '423', 0.08250000000000003),\n",
       " ('tt0000001', '424', 0.1845),\n",
       " ('tt0000001', '425', 0.04349999999999998),\n",
       " ('tt0000001', '426', 0.13324999999999998),\n",
       " ('tt0000001', '427', 0.15675),\n",
       " ('tt0000001', '428', 0.059000000000000004),\n",
       " ('tt0000001', '429', 0.04375000000000001),\n",
       " ('tt0000001', '430', 0.129),\n",
       " ('tt0000001', '431', 0.03225),\n",
       " ('tt0000001', '432', 0.03225),\n",
       " ('tt0000001', '433', 0.061),\n",
       " ('tt0000001', '434', 0.036999999999999984),\n",
       " ('tt0000001', '435', 0.032499999999999966),\n",
       " ('tt0000001', '436', 0.11525000000000002),\n",
       " ('tt0000001', '437', 0.10699999999999997),\n",
       " ('tt0000001', '438', 0.023500000000000017),\n",
       " ('tt0000001', '439', 0.219),\n",
       " ('tt0000001', '440', 0.02625),\n",
       " ('tt0000001', '441', 0.038250000000000006),\n",
       " ('tt0000001', '442', 0.028500000000000025),\n",
       " ('tt0000001', '443', 0.17675000000000002),\n",
       " ('tt0000001', '444', 0.03475),\n",
       " ('tt0000001', '445', 0.86825),\n",
       " ('tt0000001', '446', 0.473),\n",
       " ('tt0000001', '447', 0.54475),\n",
       " ('tt0000001', '448', 0.22),\n",
       " ('tt0000001', '449', 0.34624999999999995),\n",
       " ('tt0000001', '450', 0.053999999999999986),\n",
       " ('tt0000001', '451', 0.42075),\n",
       " ('tt0000001', '452', 0.58625),\n",
       " ('tt0000001', '453', 0.43275),\n",
       " ('tt0000001', '454', 0.50275),\n",
       " ('tt0000001', '455', 0.19625),\n",
       " ('tt0000001', '456', 0.016500000000000015),\n",
       " ('tt0000001', '457', 0.02725),\n",
       " ('tt0000001', '458', 0.15625),\n",
       " ('tt0000001', '459', 0.02575),\n",
       " ('tt0000001', '460', 0.03625),\n",
       " ('tt0000001', '461', 0.12325000000000005),\n",
       " ('tt0000001', '462', 0.07924999999999999),\n",
       " ('tt0000001', '463', 0.040250000000000015),\n",
       " ('tt0000001', '464', 0.8095000000000001),\n",
       " ('tt0000001', '465', 0.34924999999999995),\n",
       " ('tt0000001', '466', 0.07400000000000001),\n",
       " ('tt0000001', '467', 0.18100000000000002),\n",
       " ('tt0000001', '468', 0.69625),\n",
       " ('tt0000001', '469', 0.90725),\n",
       " ('tt0000001', '470', 0.11525000000000002),\n",
       " ('tt0000001', '471', 0.32299999999999995),\n",
       " ('tt0000001', '472', 0.503),\n",
       " ('tt0000001', '473', 0.11875000000000002),\n",
       " ('tt0000001', '474', 0.20775),\n",
       " ('tt0000001', '475', 0.14800000000000002),\n",
       " ('tt0000001', '476', 0.00974999999999998),\n",
       " ('tt0000001', '477', 0.03999999999999998),\n",
       " ('tt0000001', '478', 0.09775),\n",
       " ('tt0000001', '479', 0.02575),\n",
       " ('tt0000001', '480', 0.00974999999999998),\n",
       " ('tt0000001', '481', 0.3075),\n",
       " ('tt0000001', '482', 0.03475),\n",
       " ('tt0000001', '483', 0.036750000000000005),\n",
       " ('tt0000001', '484', 0.029500000000000026),\n",
       " ('tt0000001', '485', 0.02024999999999999),\n",
       " ('tt0000001', '486', 0.034499999999999975),\n",
       " ('tt0000001', '487', 0.01124999999999998),\n",
       " ('tt0000001', '488', 0.00774999999999998),\n",
       " ('tt0000001', '489', 0.002749999999999975),\n",
       " ('tt0000001', '490', 0.523),\n",
       " ('tt0000001', '491', 0.025249999999999998),\n",
       " ('tt0000001', '492', 0.014749999999999984),\n",
       " ('tt0000001', '493', 0.2285),\n",
       " ('tt0000001', '494', 0.02024999999999999),\n",
       " ('tt0000001', '495', 0.07274999999999998),\n",
       " ('tt0000001', '496', 0.32275),\n",
       " ('tt0000001', '497', 0.8122499999999999),\n",
       " ('tt0000001', '498', 0.08124999999999999),\n",
       " ('tt0000001', '499', 0.015749999999999986),\n",
       " ('tt0000001', '500', 0.060250000000000026),\n",
       " ('tt0000001', '501', 0.018500000000000016),\n",
       " ('tt0000001', '502', 0.13274999999999998),\n",
       " ('tt0000001', '503', 0.06474999999999997),\n",
       " ('tt0000001', '504', 0.73475),\n",
       " ('tt0000001', '505', 0.33025000000000004),\n",
       " ('tt0000001', '506', 0.11125000000000003),\n",
       " ('tt0000001', '507', 0.037250000000000005),\n",
       " ('tt0000001', '508', 0.10925),\n",
       " ('tt0000001', '509', 0.10449999999999998),\n",
       " ('tt0000001', '510', 0.0575),\n",
       " ('tt0000001', '511', 0.028500000000000025),\n",
       " ('tt0000001', '512', 0.07300000000000001),\n",
       " ('tt0000001', '513', 0.031000000000000024),\n",
       " ('tt0000001', '514', 0.016000000000000014),\n",
       " ('tt0000001', '515', 0.011749999999999984),\n",
       " ('tt0000001', '516', 0.0605),\n",
       " ('tt0000001', '517', 0.03125),\n",
       " ('tt0000001', '518', 0.026500000000000024),\n",
       " ('tt0000001', '519', 0.447),\n",
       " ('tt0000001', '520', 0.025000000000000026),\n",
       " ('tt0000001', '521', 0.01924999999999999),\n",
       " ('tt0000001', '522', 0.052499999999999984),\n",
       " ('tt0000001', '523', 0.04649999999999999),\n",
       " ('tt0000001', '524', 0.10049999999999998),\n",
       " ('tt0000001', '525', 0.03749999999999998),\n",
       " ('tt0000001', '526', 0.15100000000000002),\n",
       " ('tt0000001', '527', 0.26049999999999995),\n",
       " ('tt0000001', '528', 0.48825),\n",
       " ('tt0000001', '529', 0.58325),\n",
       " ('tt0000001', '530', 0.066),\n",
       " ('tt0000001', '531', 0.46575),\n",
       " ('tt0000001', '532', 0.28874999999999995),\n",
       " ('tt0000001', '533', 0.03625),\n",
       " ('tt0000001', '534', 0.049250000000000016),\n",
       " ('tt0000001', '535', 0.5715),\n",
       " ('tt0000001', '536', 0.93675),\n",
       " ('tt0000001', '537', 0.04249999999999998),\n",
       " ('tt0000001', '538', 0.02725),\n",
       " ('tt0000001', '539', 0.017500000000000016),\n",
       " ('tt0000001', '540', 0.11875000000000002),\n",
       " ('tt0000001', '541', 0.008500000000000008),\n",
       " ('tt0000001', '542', 0.02174999999999999),\n",
       " ('tt0000001', '543', 0.15125),\n",
       " ('tt0000001', '544', 0.10325),\n",
       " ('tt0000001', '545', 0.0575),\n",
       " ('tt0000001', '546', 0.06724999999999998),\n",
       " ('tt0000001', '547', 0.131),\n",
       " ('tt0000001', '548', 0.34850000000000003),\n",
       " ('tt0000001', '549', 0.26899999999999996),\n",
       " ('tt0000001', '550', 0.19075),\n",
       " ('tt0000001', '551', 0.20475),\n",
       " ('tt0000001', '552', 0.05675000000000002),\n",
       " ('tt0000001', '553', 0.44475),\n",
       " ('tt0000001', '554', 0.687),\n",
       " ('tt0000001', '555', 0.13124999999999998),\n",
       " ('tt0000001', '556', 0.08725),\n",
       " ('tt0000001', '557', 0.1415),\n",
       " ('tt0000001', '558', 0.1405),\n",
       " ('tt0000001', '559', 0.00774999999999998),\n",
       " ('tt0000001', '560', 0.013500000000000012),\n",
       " ('tt0000001', '561', 0.004500000000000004),\n",
       " ('tt0000001', '562', 0.03899999999999998),\n",
       " ('tt0000001', '563', 0.016249999999999987),\n",
       " ('tt0000001', '564', 0.141),\n",
       " ('tt0000001', '565', 0.19175),\n",
       " ('tt0000001', '566', 0.060250000000000026),\n",
       " ('tt0000001', '567', 0.07100000000000001),\n",
       " ('tt0000001', '568', 0.29325),\n",
       " ('tt0000001', '569', 0.05425000000000002),\n",
       " ('tt0000001', '570', 0.015749999999999986),\n",
       " ('tt0000001', '571', 0.017500000000000016),\n",
       " ('tt0000001', '572', 0.024500000000000025),\n",
       " ('tt0000001', '573', 0.005500000000000005),\n",
       " ('tt0000001', '574', 0.023249999999999996),\n",
       " ('tt0000001', '575', 0.014500000000000013),\n",
       " ('tt0000001', '576', 0.013000000000000013),\n",
       " ('tt0000001', '577', 0.006500000000000007),\n",
       " ('tt0000001', '578', 0.031000000000000024),\n",
       " ('tt0000001', '579', 0.035499999999999976),\n",
       " ('tt0000001', '580', 0.05325000000000002),\n",
       " ('tt0000001', '581', 0.08450000000000002),\n",
       " ('tt0000001', '582', 0.030500000000000024),\n",
       " ('tt0000001', '583', 0.0615),\n",
       " ('tt0000001', '584', 0.10825),\n",
       " ('tt0000001', '585', 0.28),\n",
       " ('tt0000001', '586', 0.058),\n",
       " ('tt0000001', '587', 0.08074999999999999),\n",
       " ('tt0000001', '588', 0.98),\n",
       " ('tt0000001', '589', 0.98575),\n",
       " ('tt0000001', '590', 0.02024999999999999),\n",
       " ('tt0000001', '591', 0.012749999999999984),\n",
       " ('tt0000001', '592', 0.059750000000000025),\n",
       " ('tt0000001', '593', 0.004749999999999977),\n",
       " ('tt0000001', '594', 0.04149999999999998),\n",
       " ('tt0000001', '595', 0.02775),\n",
       " ('tt0000001', '596', 0.04149999999999998),\n",
       " ('tt0000001', '597', 0.033999999999999975),\n",
       " ('tt0000001', '598', 0.030000000000000027),\n",
       " ('tt0000001', '599', 0.019000000000000017),\n",
       " ('tt0000001', '600', 0.29325),\n",
       " ('tt0000001', '601', 0.14625),\n",
       " ('tt0000001', '602', 0.46275),\n",
       " ('tt0000001', '603', 0.8747499999999999),\n",
       " ('tt0000001', '604', 0.13699999999999998),\n",
       " ('tt0000001', '605', 0.044999999999999984),\n",
       " ('tt0000001', '606', 0.16525),\n",
       " ('tt0000001', '607', 0.044999999999999984),\n",
       " ('tt0000001', '608', 0.10825),\n",
       " ('tt0000001', '609', 0.21525),\n",
       " ('tt0000001', '610', 0.43075),\n",
       " ('tt0000001', '611', 0.07700000000000001),\n",
       " ('tt0000001', '612', 0.04099999999999998),\n",
       " ('tt0000001', '613', 0.35675),\n",
       " ('tt0000001', '614', 0.34675),\n",
       " ('tt0000001', '615', 0.09625),\n",
       " ('tt0000001', '616', 0.08150000000000003),\n",
       " ('tt0000001', '617', 0.011749999999999984),\n",
       " ('tt0000001', '618', 0.033999999999999975),\n",
       " ('tt0000001', '619', 0.1735),\n",
       " ('tt0000001', '620', 0.24925000000000005),\n",
       " ('tt0000001', '621', 0.05199999999999999),\n",
       " ('tt0000001', '622', 0.00824999999999998),\n",
       " ('tt0000001', '623', 0.2685),\n",
       " ('tt0000001', '624', 0.04775000000000002),\n",
       " ('tt0000001', '625', 0.10575),\n",
       " ('tt0000001', '626', 0.04749999999999999),\n",
       " ('tt0000001', '627', 0.14900000000000002),\n",
       " ('tt0000001', '628', 0.010749999999999982),\n",
       " ('tt0000001', '629', 0.10599999999999997),\n",
       " ('tt0000001', '630', 0.053499999999999985),\n",
       " ('tt0000001', '631', 0.1375),\n",
       " ('tt0000001', '632', 0.026500000000000024),\n",
       " ('tt0000001', '633', 0.006500000000000007),\n",
       " ('tt0000001', '634', 0.50575),\n",
       " ('tt0000001', '635', 0.026500000000000024),\n",
       " ('tt0000001', '636', 0.007000000000000006),\n",
       " ('tt0000001', '637', 0.052999999999999985),\n",
       " ('tt0000001', '638', 0.020500000000000015),\n",
       " ('tt0000001', '639', 0.05125000000000002),\n",
       " ('tt0000001', '640', 0.2435),\n",
       " ('tt0000001', '641', 0.27399999999999997),\n",
       " ('tt0000001', '642', 0.1975),\n",
       " ('tt0000001', '643', 0.24125),\n",
       " ('tt0000001', '644', 0.02024999999999999),\n",
       " ('tt0000001', '645', 0.11275000000000003),\n",
       " ('tt0000001', '646', 0.7285),\n",
       " ('tt0000001', '647', 0.02975),\n",
       " ('tt0000001', '648', 0.03125),\n",
       " ('tt0000001', '649', 0.05275000000000002),\n",
       " ('tt0000001', '650', 0.048750000000000016),\n",
       " ('tt0000001', '651', 0.03849999999999998),\n",
       " ('tt0000001', '652', 0.028000000000000025),\n",
       " ('tt0000001', '653', 0.054999999999999986),\n",
       " ('tt0000001', '654', 0.02725),\n",
       " ('tt0000001', '655', 0.08200000000000003),\n",
       " ('tt0000001', '656', 0.028500000000000025),\n",
       " ('tt0000001', '657', 0.004249999999999976),\n",
       " ('tt0000001', '658', 0.054999999999999986),\n",
       " ('tt0000001', '659', 0.006749999999999978),\n",
       " ('tt0000001', '660', 0.25949999999999995),\n",
       " ('tt0000001', '661', 0.03025),\n",
       " ('tt0000001', '662', 0.07774999999999999),\n",
       " ('tt0000001', '663', 0.29225),\n",
       " ('tt0000001', '664', 0.5635),\n",
       " ('tt0000001', '665', 0.009000000000000008),\n",
       " ('tt0000001', '666', 0.116),\n",
       " ('tt0000001', '667', 0.04825000000000002),\n",
       " ('tt0000001', '668', 0.361),\n",
       " ('tt0000001', '669', 0.30575),\n",
       " ('tt0000001', '670', 0.020500000000000015),\n",
       " ('tt0000001', '671', 0.07474999999999997),\n",
       " ('tt0000001', '672', 0.064),\n",
       " ('tt0000001', '673', 0.010000000000000007),\n",
       " ('tt0000001', '674', 0.03999999999999998),\n",
       " ('tt0000001', '675', 0.48675),\n",
       " ('tt0000001', '676', 0.20275),\n",
       " ('tt0000001', '677', 0.06374999999999997),\n",
       " ('tt0000001', '678', 0.006249999999999978),\n",
       " ('tt0000001', '679', 0.14625),\n",
       " ('tt0000001', '680', 0.015749999999999986),\n",
       " ('tt0000001', '681', 0.05075000000000002),\n",
       " ('tt0000001', '682', 0.15275),\n",
       " ('tt0000001', '683', 0.07850000000000001),\n",
       " ('tt0000001', '684', 0.053499999999999985),\n",
       " ('tt0000001', '685', 0.016500000000000015),\n",
       " ('tt0000001', '686', 0.0685),\n",
       " ('tt0000001', '687', 0.016749999999999987),\n",
       " ('tt0000001', '688', 0.17475000000000002),\n",
       " ('tt0000001', '689', 0.08000000000000003),\n",
       " ('tt0000001', '690', 0.22625),\n",
       " ('tt0000001', '691', 0.3165),\n",
       " ('tt0000001', '692', 0.044499999999999984),\n",
       " ('tt0000001', '693', 0.02124999999999999),\n",
       " ('tt0000001', '694', 0.17525000000000002),\n",
       " ('tt0000001', '695', 0.02925),\n",
       " ('tt0000001', '696', 0.05425000000000002),\n",
       " ('tt0000001', '697', 0.068),\n",
       " ('tt0000001', '698', 0.007500000000000007),\n",
       " ('tt0000001', '699', 0.013500000000000012),\n",
       " ('tt0000001', '700', 0.027000000000000024),\n",
       " ('tt0000001', '701', 0.1315),\n",
       " ('tt0000001', '702', 0.11125000000000003),\n",
       " ('tt0000001', '703', 0.041250000000000016),\n",
       " ('tt0000001', '704', 0.066),\n",
       " ('tt0000001', '705', 0.08124999999999999),\n",
       " ('tt0000001', '706', 0.018500000000000016),\n",
       " ('tt0000001', '707', 0.053999999999999986),\n",
       " ('tt0000001', '708', 0.014249999999999985),\n",
       " ('tt0000001', '709', 0.09599999999999996),\n",
       " ('tt0000001', '710', 0.1905),\n",
       " ('tt0000001', '711', 0.060250000000000026),\n",
       " ('tt0000001', '712', 0.04825000000000002),\n",
       " ('tt0000001', '713', 0.01100000000000001),\n",
       " ('tt0000001', '714', 0.032499999999999966),\n",
       " ('tt0000001', '715', 0.08900000000000002),\n",
       " ('tt0000001', '716', 0.26925),\n",
       " ('tt0000001', '717', 0.87225),\n",
       " ('tt0000001', '718', 0.044499999999999984),\n",
       " ('tt0000001', '719', 0.34275),\n",
       " ('tt0000001', '720', 0.039750000000000014),\n",
       " ('tt0000001', '721', 0.12300000000000001),\n",
       " ('tt0000001', '722', 0.023500000000000017),\n",
       " ('tt0000001', '723', 0.014249999999999985),\n",
       " ('tt0000001', '724', 0.05875000000000001),\n",
       " ('tt0000001', '725', 0.04999999999999999),\n",
       " ('tt0000001', '726', 0.22325),\n",
       " ('tt0000001', '727', 0.10375),\n",
       " ('tt0000001', '728', 0.022249999999999992),\n",
       " ('tt0000001', '729', 0.03325),\n",
       " ('tt0000001', '730', 0.069),\n",
       " ('tt0000001', '731', 0.1115),\n",
       " ('tt0000001', '732', 0.025249999999999998),\n",
       " ('tt0000001', '733', 0.14750000000000002),\n",
       " ('tt0000001', '734', 0.07974999999999999),\n",
       " ('tt0000001', '735', 0.10125),\n",
       " ('tt0000001', '736', 0.013249999999999984),\n",
       " ('tt0000001', '737', 0.08224999999999999),\n",
       " ('tt0000001', '738', 0.01150000000000001),\n",
       " ('tt0000001', '739', 0.10925),\n",
       " ('tt0000001', '740', 0.011749999999999984),\n",
       " ('tt0000001', '741', 0.0605),\n",
       " ('tt0000001', '742', 0.88575),\n",
       " ('tt0000001', '743', 0.7655000000000001),\n",
       " ('tt0000001', '744', 0.04099999999999998),\n",
       " ('tt0000001', '745', 0.608),\n",
       " ('tt0000001', '746', 0.10925),\n",
       " ('tt0000001', '747', 0.327),\n",
       " ('tt0000001', '748', 0.7795000000000001),\n",
       " ('tt0000001', '749', 0.16999999999999998),\n",
       " ('tt0000001', '750', 0.64325),\n",
       " ('tt0000001', '751', 0.21525),\n",
       " ('tt0000001', '752', 0.5505),\n",
       " ('tt0000001', '753', 0.1225),\n",
       " ('tt0000001', '754', 0.179),\n",
       " ('tt0000001', '755', 0.339),\n",
       " ('tt0000001', '756', 0.49725),\n",
       " ('tt0000001', '757', 0.13624999999999998),\n",
       " ('tt0000001', '758', 0.275),\n",
       " ('tt0000001', '759', 0.2895),\n",
       " ('tt0000001', '760', 0.63725),\n",
       " ('tt0000001', '761', 0.7705),\n",
       " ('tt0000001', '762', 0.036999999999999984),\n",
       " ('tt0000001', '763', 0.15425),\n",
       " ('tt0000001', '764', 0.006749999999999978),\n",
       " ('tt0000001', '765', 0.13674999999999998),\n",
       " ('tt0000001', '766', 0.1345),\n",
       " ('tt0000001', '767', 0.264),\n",
       " ('tt0000001', '768', 0.22625),\n",
       " ('tt0000001', '769', 0.032999999999999974),\n",
       " ('tt0000001', '770', 0.036999999999999984),\n",
       " ('tt0000001', '771', 0.2635),\n",
       " ('tt0000001', '772', 0.08625),\n",
       " ('tt0000001', '773', 0.26925),\n",
       " ('tt0000001', '774', 0.1765),\n",
       " ('tt0000001', '775', 0.026500000000000024),\n",
       " ('tt0000001', '776', 0.48425),\n",
       " ('tt0000001', '777', 0.4825),\n",
       " ('tt0000001', '778', 0.113),\n",
       " ('tt0000001', '779', 0.12974999999999998),\n",
       " ('tt0000001', '780', 0.253),\n",
       " ('tt0000001', '781', 0.01874999999999999),\n",
       " ('tt0000001', '782', 0.09050000000000002),\n",
       " ('tt0000001', '783', 0.17375000000000002),\n",
       " ('tt0000001', '784', 0.013000000000000013),\n",
       " ('tt0000001', '785', 0.9645),\n",
       " ('tt0000001', '786', 0.99575),\n",
       " ('tt0000001', '787', 0.4445),\n",
       " ('tt0000001', '788', 0.13224999999999998),\n",
       " ('tt0000001', '789', 0.2725),\n",
       " ('tt0000001', '790', 0.035499999999999976),\n",
       " ('tt0000001', '791', 0.281),\n",
       " ('tt0000001', '792', 0.0615),\n",
       " ('tt0000001', '793', 0.062),\n",
       " ('tt0000001', '794', 0.09975),\n",
       " ('tt0000001', '795', 0.025249999999999998),\n",
       " ('tt0000001', '796', 0.09250000000000004),\n",
       " ('tt0000001', '797', 0.29925),\n",
       " ('tt0000001', '798', 0.06824999999999998),\n",
       " ('tt0000001', '799', 0.05075000000000002),\n",
       " ('tt0000001', '800', 0.06175000000000003),\n",
       " ('tt0000001', '801', 0.17600000000000002),\n",
       " ('tt0000001', '802', 0.03175),\n",
       " ('tt0000001', '803', 0.07074999999999998),\n",
       " ('tt0000001', '804', 0.05175000000000002),\n",
       " ('tt0000001', '805', 0.023500000000000017),\n",
       " ('tt0000001', '806', 0.30075),\n",
       " ('tt0000001', '807', 0.2335),\n",
       " ('tt0000001', '808', 0.019000000000000017),\n",
       " ('tt0000001', '809', 0.24325),\n",
       " ('tt0000001', '810', 0.025000000000000026),\n",
       " ('tt0000001', '811', 0.02250000000000002),\n",
       " ('tt0000001', '812', 0.034499999999999975),\n",
       " ('tt0000001', '813', 0.10175),\n",
       " ('tt0000001', '814', 0.09699999999999998),\n",
       " ('tt0000001', '815', 0.018500000000000016),\n",
       " ('tt0000001', '816', 0.20375),\n",
       " ('tt0000001', '817', 0.020000000000000014),\n",
       " ('tt0000001', '818', 0.07350000000000001),\n",
       " ('tt0000001', '819', 0.04825000000000002),\n",
       " ('tt0000001', '820', 0.03325),\n",
       " ('tt0000001', '821', 0.05775000000000001),\n",
       " ('tt0000001', '822', 0.063),\n",
       " ('tt0000001', '823', 0.14750000000000002),\n",
       " ('tt0000001', '824', 0.10649999999999997),\n",
       " ('tt0000001', '825', 0.14300000000000002),\n",
       " ('tt0000001', '826', 0.00774999999999998),\n",
       " ('tt0000001', '827', 0.17625000000000002),\n",
       " ('tt0000001', '828', 0.16449999999999998),\n",
       " ('tt0000001', '829', 0.3055),\n",
       " ('tt0000001', '830', 0.59925),\n",
       " ('tt0000001', '831', 0.11900000000000001),\n",
       " ('tt0000001', '832', 0.15200000000000002),\n",
       " ('tt0000001', '833', 0.24575),\n",
       " ('tt0000001', '834', 0.17600000000000002),\n",
       " ('tt0000001', '835', 0.052999999999999985),\n",
       " ('tt0000001', '836', 0.1225),\n",
       " ('tt0000001', '837', 0.1775),\n",
       " ('tt0000001', '838', 0.01924999999999999),\n",
       " ('tt0000001', '839', 0.11275000000000003),\n",
       " ('tt0000001', '840', 0.43125),\n",
       " ('tt0000001', '841', 0.10599999999999997),\n",
       " ('tt0000001', '842', 0.03475),\n",
       " ('tt0000001', '843', 0.16675),\n",
       " ('tt0000001', '844', 0.5625),\n",
       " ('tt0000001', '845', 0.3435),\n",
       " ('tt0000001', '846', 0.23),\n",
       " ('tt0000001', '847', 0.031000000000000024),\n",
       " ('tt0000001', '848', 0.017000000000000015),\n",
       " ('tt0000001', '849', 0.02200000000000002),\n",
       " ('tt0000001', '850', 0.2425),\n",
       " ('tt0000001', '851', 0.141),\n",
       " ('tt0000001', '852', 0.02925),\n",
       " ('tt0000001', '853', 0.02975),\n",
       " ('tt0000001', '854', 0.11075000000000003),\n",
       " ('tt0000001', '855', 0.031499999999999966),\n",
       " ('tt0000001', '856', 0.031000000000000024),\n",
       " ('tt0000001', '857', 0.02675),\n",
       " ('tt0000001', '858', 0.04249999999999998),\n",
       " ('tt0000001', '859', 0.017249999999999988),\n",
       " ('tt0000001', '860', 0.1325),\n",
       " ('tt0000001', '861', 0.063),\n",
       " ('tt0000001', '862', 0.02124999999999999),\n",
       " ('tt0000001', '863', 0.15600000000000006),\n",
       " ('tt0000001', '864', 0.21225),\n",
       " ('tt0000001', '865', 0.10699999999999997),\n",
       " ('tt0000001', '866', 0.008500000000000008),\n",
       " ('tt0000001', '867', 0.6055),\n",
       " ('tt0000001', '868', 0.013000000000000013),\n",
       " ('tt0000001', '869', 0.05275000000000002),\n",
       " ('tt0000001', '870', 0.25425),\n",
       " ('tt0000001', '871', 0.1325),\n",
       " ('tt0000001', '872', 0.29625),\n",
       " ('tt0000001', '873', 0.00974999999999998),\n",
       " ('tt0000001', '874', 0.09300000000000004),\n",
       " ('tt0000001', '875', 0.14850000000000002),\n",
       " ('tt0000001', '876', 0.12924999999999998),\n",
       " ('tt0000001', '877', 0.049750000000000016),\n",
       " ('tt0000001', '878', 0.10799999999999997),\n",
       " ('tt0000001', '879', 0.03275),\n",
       " ('tt0000001', '880', 0.21275),\n",
       " ('tt0000001', '881', 0.48825),\n",
       " ('tt0000001', '882', 0.30425),\n",
       " ('tt0000001', '883', 0.27675000000000005),\n",
       " ('tt0000001', '884', 0.015749999999999986),\n",
       " ('tt0000001', '885', 0.13975),\n",
       " ('tt0000001', '886', 0.28325),\n",
       " ('tt0000001', '887', 0.129),\n",
       " ('tt0000001', '888', 0.13699999999999998),\n",
       " ('tt0000001', '889', 0.30300000000000005),\n",
       " ('tt0000001', '890', 0.28425),\n",
       " ('tt0000001', '891', 0.15075),\n",
       " ('tt0000001', '892', 0.035250000000000004),\n",
       " ('tt0000001', '893', 0.09449999999999996),\n",
       " ('tt0000001', '894', 0.05025000000000002),\n",
       " ('tt0000001', '895', 0.23075),\n",
       " ('tt0000001', '896', 0.03325),\n",
       " ('tt0000001', '897', 0.5485),\n",
       " ('tt0000001', '898', 0.20175),\n",
       " ('tt0000001', '899', 0.3655000000000001),\n",
       " ('tt0000001', '900', 0.48725),\n",
       " ('tt0000001', '901', 0.15600000000000006),\n",
       " ('tt0000001', '902', 0.16249999999999998),\n",
       " ('tt0000001', '903', 0.058),\n",
       " ('tt0000001', '904', 0.27325),\n",
       " ('tt0000001', '905', 0.025000000000000026),\n",
       " ('tt0000001', '906', 0.014749999999999984),\n",
       " ('tt0000001', '907', 0.035499999999999976),\n",
       " ('tt0000001', '908', 0.02975),\n",
       " ('tt0000001', '909', 0.039250000000000014),\n",
       " ('tt0000001', '910', 0.16725),\n",
       " ('tt0000001', '911', 0.20375),\n",
       " ('tt0000001', '912', 0.012000000000000009),\n",
       " ('tt0000001', '913', 0.15075),\n",
       " ('tt0000001', '914', 0.07250000000000001),\n",
       " ('tt0000001', '915', 0.09225),\n",
       " ('tt0000001', '916', 0.025249999999999998),\n",
       " ('tt0000001', '917', 0.14025),\n",
       " ('tt0000001', '918', 0.05725000000000002),\n",
       " ('tt0000001', '919', 0.1115),\n",
       " ('tt0000001', '920', 0.18375),\n",
       " ('tt0000001', '921', 0.50475),\n",
       " ('tt0000001', '922', 0.08725),\n",
       " ('tt0000001', '923', 0.032499999999999966),\n",
       " ('tt0000001', '924', 0.018249999999999992),\n",
       " ('tt0000001', '925', 0.029500000000000026),\n",
       " ('tt0000001', '926', 0.16949999999999998),\n",
       " ('tt0000001', '927', 0.014500000000000013),\n",
       " ('tt0000001', '928', 0.04949999999999999),\n",
       " ('tt0000001', '929', 0.06125000000000003),\n",
       " ('tt0000001', '930', 0.03125),\n",
       " ('tt0000001', '931', 0.267),\n",
       " ('tt0000001', '932', 0.2385),\n",
       " ('tt0000001', '933', 0.109),\n",
       " ('tt0000001', '934', 0.009000000000000008),\n",
       " ('tt0000001', '935', 0.009500000000000008),\n",
       " ('tt0000001', '936', 0.405),\n",
       " ('tt0000001', '937', 0.1775),\n",
       " ('tt0000001', '938', 0.006500000000000007),\n",
       " ('tt0000001', '939', 0.02100000000000002),\n",
       " ('tt0000001', '940', 0.033999999999999975),\n",
       " ('tt0000001', '941', 0.08900000000000002),\n",
       " ('tt0000001', '942', 0.407),\n",
       " ('tt0000001', '943', 0.12974999999999998),\n",
       " ('tt0000001', '944', 0.0695),\n",
       " ('tt0000001', '945', 0.09975),\n",
       " ('tt0000001', '946', 0.016249999999999987),\n",
       " ('tt0000001', '947', 0.019500000000000017),\n",
       " ('tt0000001', '948', 0.059250000000000025),\n",
       " ('tt0000001', '949', 0.025500000000000026),\n",
       " ('tt0000001', '950', 0.3185),\n",
       " ('tt0000001', '951', 0.42875),\n",
       " ('tt0000001', '952', 0.062),\n",
       " ('tt0000001', '953', 0.10525),\n",
       " ('tt0000001', '954', 0.19875),\n",
       " ('tt0000001', '955', 0.08750000000000002),\n",
       " ('tt0000001', '956', 0.10099999999999998),\n",
       " ('tt0000001', '957', 0.02074999999999999),\n",
       " ('tt0000001', '958', 0.026000000000000027),\n",
       " ('tt0000001', '959', 0.027500000000000024),\n",
       " ('tt0000001', '960', 0.17049999999999998),\n",
       " ('tt0000001', '961', 0.342),\n",
       " ('tt0000001', '962', 0.011749999999999984),\n",
       " ('tt0000001', '963', 0.07100000000000001),\n",
       " ('tt0000001', '964', 0.011749999999999984),\n",
       " ('tt0000001', '965', 0.031999999999999966),\n",
       " ('tt0000001', '966', 0.044999999999999984),\n",
       " ('tt0000001', '967', 0.446),\n",
       " ('tt0000001', '968', 0.07950000000000003),\n",
       " ('tt0000001', '969', 0.35050000000000003),\n",
       " ('tt0000001', '970', 0.17025),\n",
       " ('tt0000001', '971', 0.91625),\n",
       " ('tt0000001', '972', 0.76),\n",
       " ('tt0000001', '973', 0.21825),\n",
       " ('tt0000001', '974', 0.06574999999999998),\n",
       " ('tt0000001', '975', 0.006249999999999978),\n",
       " ('tt0000001', '976', 0.003249999999999975),\n",
       " ('tt0000001', '977', 0.228),\n",
       " ('tt0000001', '978', 0.02725),\n",
       " ('tt0000001', '979', 0.05575000000000002),\n",
       " ('tt0000001', '980', 0.04599999999999999),\n",
       " ('tt0000001', '981', 0.10225),\n",
       " ('tt0000001', '982', 0.32099999999999995),\n",
       " ('tt0000001', '983', 0.03075),\n",
       " ('tt0000001', '984', 0.09925),\n",
       " ('tt0000001', '985', 0.035250000000000004),\n",
       " ('tt0000001', '986', 0.115),\n",
       " ('tt0000001', '987', 0.229),\n",
       " ('tt0000001', '988', 0.12425000000000005),\n",
       " ('tt0000001', '989', 0.1805),\n",
       " ('tt0000001', '990', 0.4065),\n",
       " ('tt0000001', '991', 0.09575),\n",
       " ('tt0000001', '992', 0.50125),\n",
       " ('tt0000001', '993', 0.015000000000000013),\n",
       " ('tt0000001', '994', 0.03849999999999998),\n",
       " ('tt0000001', '995', 0.10775),\n",
       " ('tt0000001', '996', 0.05075000000000002),\n",
       " ('tt0000001', '997', 0.19575),\n",
       " ('tt0000001', '998', 0.2085),\n",
       " ('tt0000001', '999', 0.4615),\n",
       " ('tt0000001', '1000', 0.29525),\n",
       " ...]"
      ]
     },
     "execution_count": 107,
     "metadata": {},
     "output_type": "execute_result"
    }
   ],
   "source": [
    "movie_ids"
   ]
  },
  {
   "cell_type": "code",
   "execution_count": 89,
   "metadata": {},
   "outputs": [
    {
     "data": {
      "text/plain": [
       "dict_keys(['genome_scores', 'genome_tags', 'links', 'movies', 'ratings', 'tags', 'imdb_name_basics', 'imdb_title_basics', 'imdb_ratings', 'imdb_crew', 'imdb_principals', 'directors', 'directors_relevence'])"
      ]
     },
     "execution_count": 89,
     "metadata": {},
     "output_type": "execute_result"
    }
   ],
   "source": [
    "dfs.keys()"
   ]
  },
  {
   "cell_type": "code",
   "execution_count": 90,
   "metadata": {},
   "outputs": [
    {
     "ename": "KeyError",
     "evalue": "''",
     "output_type": "error",
     "traceback": [
      "\u001b[0;31m---------------------------------------------------------------------------\u001b[0m",
      "\u001b[0;31mKeyError\u001b[0m                                  Traceback (most recent call last)",
      "\u001b[0;32m<ipython-input-90-51785c8a1500>\u001b[0m in \u001b[0;36m<module>\u001b[0;34m\u001b[0m\n\u001b[0;32m----> 1\u001b[0;31m \u001b[0mdfs\u001b[0m\u001b[0;34m[\u001b[0m\u001b[0;34m''\u001b[0m\u001b[0;34m]\u001b[0m\u001b[0;34m\u001b[0m\u001b[0;34m\u001b[0m\u001b[0m\n\u001b[0m",
      "\u001b[0;31mKeyError\u001b[0m: ''"
     ]
    }
   ],
   "source": [
    "dfs['']"
   ]
  },
  {
   "cell_type": "code",
   "execution_count": null,
   "metadata": {},
   "outputs": [],
   "source": [
    "# director_id, tag_id, relevence_score\n",
    "# 1, 1, .5\n",
    "# 1, 2, .2\n",
    "# ...."
   ]
  },
  {
   "cell_type": "code",
   "execution_count": null,
   "metadata": {},
   "outputs": [],
   "source": [
    "# actor_id, tag_id, relevence_score\n",
    "# 1, 1, .5\n",
    "# 1, 2, .2\n",
    "# ...."
   ]
  },
  {
   "cell_type": "code",
   "execution_count": 91,
   "metadata": {},
   "outputs": [
    {
     "data": {
      "text/plain": [
       "nconst\n",
       "nm0455741    1788\n",
       "nm0005062    1768\n",
       "nm0814716    1570\n",
       "nm1853544    1080\n",
       "nm0400958     910\n",
       "Name: tconst, dtype: int64"
      ]
     },
     "execution_count": 91,
     "metadata": {},
     "output_type": "execute_result"
    }
   ],
   "source": [
    "s.head()"
   ]
  },
  {
   "cell_type": "code",
   "execution_count": 94,
   "metadata": {},
   "outputs": [
    {
     "data": {
      "text/html": [
       "<div>\n",
       "<style scoped>\n",
       "    .dataframe tbody tr th:only-of-type {\n",
       "        vertical-align: middle;\n",
       "    }\n",
       "\n",
       "    .dataframe tbody tr th {\n",
       "        vertical-align: top;\n",
       "    }\n",
       "\n",
       "    .dataframe thead th {\n",
       "        text-align: right;\n",
       "    }\n",
       "</style>\n",
       "<table border=\"1\" class=\"dataframe\">\n",
       "  <thead>\n",
       "    <tr style=\"text-align: right;\">\n",
       "      <th></th>\n",
       "      <th>movie_id</th>\n",
       "      <th>tconst</th>\n",
       "      <th>directors</th>\n",
       "      <th>writers</th>\n",
       "    </tr>\n",
       "  </thead>\n",
       "  <tbody>\n",
       "    <tr>\n",
       "      <th>1</th>\n",
       "      <td>tt0000417</td>\n",
       "      <td>tt0000417</td>\n",
       "      <td>nm0617588</td>\n",
       "      <td>nm0617588,nm0894523,nm0920229</td>\n",
       "    </tr>\n",
       "    <tr>\n",
       "      <th>2</th>\n",
       "      <td>tt0000439</td>\n",
       "      <td>tt0000439</td>\n",
       "      <td>nm0692105</td>\n",
       "      <td>nm1145809,nm0692105</td>\n",
       "    </tr>\n",
       "    <tr>\n",
       "      <th>3</th>\n",
       "      <td>tt0004972</td>\n",
       "      <td>tt0004972</td>\n",
       "      <td>nm0000428</td>\n",
       "      <td>nm0228746,nm0000428,nm0940488</td>\n",
       "    </tr>\n",
       "    <tr>\n",
       "      <th>4</th>\n",
       "      <td>tt0006333</td>\n",
       "      <td>tt0006333</td>\n",
       "      <td>nm0665737</td>\n",
       "      <td>nm0894523,nm0665737</td>\n",
       "    </tr>\n",
       "    <tr>\n",
       "      <th>5</th>\n",
       "      <td>tt0006864</td>\n",
       "      <td>tt0006864</td>\n",
       "      <td>nm0000428</td>\n",
       "      <td>nm0048512,nm0115218,nm0000428,nm0002616,nm0640...</td>\n",
       "    </tr>\n",
       "  </tbody>\n",
       "</table>\n",
       "</div>"
      ],
      "text/plain": [
       "    movie_id     tconst  directors  \\\n",
       "1  tt0000417  tt0000417  nm0617588   \n",
       "2  tt0000439  tt0000439  nm0692105   \n",
       "3  tt0004972  tt0004972  nm0000428   \n",
       "4  tt0006333  tt0006333  nm0665737   \n",
       "5  tt0006864  tt0006864  nm0000428   \n",
       "\n",
       "                                             writers  \n",
       "1                      nm0617588,nm0894523,nm0920229  \n",
       "2                                nm1145809,nm0692105  \n",
       "3                      nm0228746,nm0000428,nm0940488  \n",
       "4                                nm0894523,nm0665737  \n",
       "5  nm0048512,nm0115218,nm0000428,nm0002616,nm0640...  "
      ]
     },
     "execution_count": 94,
     "metadata": {},
     "output_type": "execute_result"
    }
   ],
   "source": []
  },
  {
   "cell_type": "code",
   "execution_count": null,
   "metadata": {},
   "outputs": [],
   "source": []
  },
  {
   "cell_type": "code",
   "execution_count": null,
   "metadata": {},
   "outputs": [],
   "source": []
  },
  {
   "cell_type": "code",
   "execution_count": null,
   "metadata": {},
   "outputs": [],
   "source": []
  },
  {
   "cell_type": "code",
   "execution_count": 15,
   "metadata": {},
   "outputs": [
    {
     "ename": "NameError",
     "evalue": "name 'actors' is not defined",
     "output_type": "error",
     "traceback": [
      "\u001b[0;31m---------------------------------------------------------------------------\u001b[0m",
      "\u001b[0;31mNameError\u001b[0m                                 Traceback (most recent call last)",
      "\u001b[0;32m<ipython-input-15-f7a85c3a5444>\u001b[0m in \u001b[0;36m<module>\u001b[0;34m\u001b[0m\n\u001b[0;32m----> 1\u001b[0;31m \u001b[0mactors\u001b[0m\u001b[0;34m\u001b[0m\u001b[0;34m\u001b[0m\u001b[0m\n\u001b[0m\u001b[1;32m      2\u001b[0m \u001b[0;34m\u001b[0m\u001b[0m\n\u001b[1;32m      3\u001b[0m \u001b[0mactor_id\u001b[0m\u001b[0;34m,\u001b[0m \u001b[0mname\u001b[0m\u001b[0;34m,\u001b[0m \u001b[0mtag_id\u001b[0m\u001b[0;34m,\u001b[0m \u001b[0mtag_value\u001b[0m\u001b[0;34m\u001b[0m\u001b[0;34m\u001b[0m\u001b[0m\n",
      "\u001b[0;31mNameError\u001b[0m: name 'actors' is not defined"
     ]
    }
   ],
   "source": [
    "actors\n",
    "\n",
    "actor_id, name, tag_id, tag_value"
   ]
  },
  {
   "cell_type": "code",
   "execution_count": null,
   "metadata": {},
   "outputs": [],
   "source": []
  }
 ],
 "metadata": {
  "kernelspec": {
   "display_name": "Python 3",
   "language": "python",
   "name": "python3"
  },
  "language_info": {
   "codemirror_mode": {
    "name": "ipython",
    "version": 3
   },
   "file_extension": ".py",
   "mimetype": "text/x-python",
   "name": "python",
   "nbconvert_exporter": "python",
   "pygments_lexer": "ipython3",
   "version": "3.7.6"
  }
 },
 "nbformat": 4,
 "nbformat_minor": 2
}
