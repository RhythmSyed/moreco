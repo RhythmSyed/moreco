{
 "cells": [
  {
   "cell_type": "code",
   "execution_count": 2,
   "metadata": {},
   "outputs": [],
   "source": [
    "import pandas as pd\n",
    "import numpy as np\n",
    "import zipfile\n",
    "import sqlite3"
   ]
  },
  {
   "cell_type": "code",
   "execution_count": 3,
   "metadata": {},
   "outputs": [],
   "source": [
    "data_sources = {\n",
    "    # movielens\n",
    "    'genome_scores'    : './data/ml-25m/genome-scores.csv',\n",
    "    'genome_tags'      : './data/ml-25m/genome-tags.csv',\n",
    "    'links'            : './data/ml-25m/links.csv',\n",
    "    'movies'           : './data/ml-25m/movies.csv',\n",
    "    'ratings'          : './data/ml-25m/ratings.csv',\n",
    "    'tags'             : './data/ml-25m/tags.csv',\n",
    "#     imdb\n",
    "    'imdb_name_basics' : './data/name.basics.tsv.gz',\n",
    "    'imdb_title_basics': './data/title.basics.tsv.gz',\n",
    "    'imdb_ratings'     : './data/title.ratings.tsv.gz',\n",
    "    'imdb_crew'        : './data/title.crew.tsv.gz',\n",
    "    'imdb_principals'  : './data/title.principals.tsv.gz',\n",
    "}"
   ]
  },
  {
   "cell_type": "code",
   "execution_count": 4,
   "metadata": {},
   "outputs": [
    {
     "name": "stdout",
     "output_type": "stream",
     "text": [
      "dict_keys(['genome_scores', 'genome_tags', 'links', 'movies', 'ratings', 'tags', 'imdb_name_basics'])\r"
     ]
    },
    {
     "name": "stderr",
     "output_type": "stream",
     "text": [
      "/home/chris/anaconda3/lib/python3.7/site-packages/IPython/core/interactiveshell.py:3058: DtypeWarning: Columns (5) have mixed types. Specify dtype option on import or set low_memory=False.\n",
      "  interactivity=interactivity, compiler=compiler, result=result)\n"
     ]
    },
    {
     "name": "stdout",
     "output_type": "stream",
     "text": [
      "dict_keys(['genome_scores', 'genome_tags', 'links', 'movies', 'ratings', 'tags', 'imdb_name_basics', 'imdb_title_basics', 'imdb_ratings', 'imdb_crew'])\r"
     ]
    }
   ],
   "source": [
    "dfs = {}\n",
    "for name, path in data_sources.items():\n",
    "    print(dfs.keys(), end='\\r')\n",
    "    separator = '\\t' if 'tsv' in path else ','\n",
    "    dfs[name] = pd.read_csv(path, sep=separator)"
   ]
  },
  {
   "cell_type": "markdown",
   "metadata": {},
   "source": [
    "# connect to database"
   ]
  },
  {
   "cell_type": "code",
   "execution_count": 5,
   "metadata": {},
   "outputs": [],
   "source": [
    "db_name = './movie_sqlite.db'\n",
    "conn = sqlite3.connect(db_name)\n",
    "c = conn.cursor()"
   ]
  },
  {
   "cell_type": "code",
   "execution_count": 6,
   "metadata": {},
   "outputs": [
    {
     "data": {
      "text/plain": [
       "['100024', '100029', '100046', '100049', '100050']"
      ]
     },
     "execution_count": 6,
     "metadata": {},
     "output_type": "execute_result"
    }
   ],
   "source": [
    "# get needed movie ids\n",
    "sql = \"\"\"\n",
    "select id from movies ;\n",
    "\"\"\"\n",
    "c.execute(sql)\n",
    "movie_ids = c.fetchall()\n",
    "needed_movies = [m[0] for m in movie_ids]\n",
    "needed_movies[:5]  # check first 5"
   ]
  },
  {
   "cell_type": "code",
   "execution_count": 7,
   "metadata": {},
   "outputs": [
    {
     "data": {
      "text/html": [
       "<div>\n",
       "<style scoped>\n",
       "    .dataframe tbody tr th:only-of-type {\n",
       "        vertical-align: middle;\n",
       "    }\n",
       "\n",
       "    .dataframe tbody tr th {\n",
       "        vertical-align: top;\n",
       "    }\n",
       "\n",
       "    .dataframe thead th {\n",
       "        text-align: right;\n",
       "    }\n",
       "</style>\n",
       "<table border=\"1\" class=\"dataframe\">\n",
       "  <thead>\n",
       "    <tr style=\"text-align: right;\">\n",
       "      <th></th>\n",
       "      <th>movie_id_int</th>\n",
       "    </tr>\n",
       "  </thead>\n",
       "  <tbody>\n",
       "    <tr>\n",
       "      <td>0</td>\n",
       "      <td>100024</td>\n",
       "    </tr>\n",
       "    <tr>\n",
       "      <td>1</td>\n",
       "      <td>100029</td>\n",
       "    </tr>\n",
       "    <tr>\n",
       "      <td>2</td>\n",
       "      <td>100046</td>\n",
       "    </tr>\n",
       "    <tr>\n",
       "      <td>3</td>\n",
       "      <td>100049</td>\n",
       "    </tr>\n",
       "    <tr>\n",
       "      <td>4</td>\n",
       "      <td>100050</td>\n",
       "    </tr>\n",
       "  </tbody>\n",
       "</table>\n",
       "</div>"
      ],
      "text/plain": [
       "  movie_id_int\n",
       "0       100024\n",
       "1       100029\n",
       "2       100046\n",
       "3       100049\n",
       "4       100050"
      ]
     },
     "execution_count": 7,
     "metadata": {},
     "output_type": "execute_result"
    }
   ],
   "source": [
    "df_needed_movies = pd.DataFrame(needed_movies)\n",
    "df_needed_movies.columns = ['movie_id_int']\n",
    "df_needed_movies.head()"
   ]
  },
  {
   "cell_type": "code",
   "execution_count": 8,
   "metadata": {},
   "outputs": [],
   "source": [
    "# actors table\n",
    "# directors table"
   ]
  },
  {
   "cell_type": "code",
   "execution_count": 9,
   "metadata": {},
   "outputs": [],
   "source": [
    "df_needed_movies.columns = ['movie_id_int']"
   ]
  },
  {
   "cell_type": "code",
   "execution_count": 10,
   "metadata": {},
   "outputs": [
    {
     "data": {
      "text/html": [
       "<div>\n",
       "<style scoped>\n",
       "    .dataframe tbody tr th:only-of-type {\n",
       "        vertical-align: middle;\n",
       "    }\n",
       "\n",
       "    .dataframe tbody tr th {\n",
       "        vertical-align: top;\n",
       "    }\n",
       "\n",
       "    .dataframe thead th {\n",
       "        text-align: right;\n",
       "    }\n",
       "</style>\n",
       "<table border=\"1\" class=\"dataframe\">\n",
       "  <thead>\n",
       "    <tr style=\"text-align: right;\">\n",
       "      <th></th>\n",
       "      <th>movie_id_int</th>\n",
       "    </tr>\n",
       "  </thead>\n",
       "  <tbody>\n",
       "    <tr>\n",
       "      <td>0</td>\n",
       "      <td>100024</td>\n",
       "    </tr>\n",
       "    <tr>\n",
       "      <td>1</td>\n",
       "      <td>100029</td>\n",
       "    </tr>\n",
       "    <tr>\n",
       "      <td>2</td>\n",
       "      <td>100046</td>\n",
       "    </tr>\n",
       "    <tr>\n",
       "      <td>3</td>\n",
       "      <td>100049</td>\n",
       "    </tr>\n",
       "    <tr>\n",
       "      <td>4</td>\n",
       "      <td>100050</td>\n",
       "    </tr>\n",
       "  </tbody>\n",
       "</table>\n",
       "</div>"
      ],
      "text/plain": [
       "  movie_id_int\n",
       "0       100024\n",
       "1       100029\n",
       "2       100046\n",
       "3       100049\n",
       "4       100050"
      ]
     },
     "execution_count": 10,
     "metadata": {},
     "output_type": "execute_result"
    }
   ],
   "source": [
    "df_needed_movies.head()"
   ]
  },
  {
   "cell_type": "code",
   "execution_count": 11,
   "metadata": {},
   "outputs": [],
   "source": [
    "df_needed_movies['str_id'] = 'tt' + df_needed_movies['movie_id_int'].str.zfill(7)"
   ]
  },
  {
   "cell_type": "code",
   "execution_count": 12,
   "metadata": {},
   "outputs": [
    {
     "data": {
      "text/html": [
       "<div>\n",
       "<style scoped>\n",
       "    .dataframe tbody tr th:only-of-type {\n",
       "        vertical-align: middle;\n",
       "    }\n",
       "\n",
       "    .dataframe tbody tr th {\n",
       "        vertical-align: top;\n",
       "    }\n",
       "\n",
       "    .dataframe thead th {\n",
       "        text-align: right;\n",
       "    }\n",
       "</style>\n",
       "<table border=\"1\" class=\"dataframe\">\n",
       "  <thead>\n",
       "    <tr style=\"text-align: right;\">\n",
       "      <th></th>\n",
       "      <th>movie_id_int</th>\n",
       "      <th>str_id</th>\n",
       "      <th>tconst</th>\n",
       "      <th>directors</th>\n",
       "      <th>writers</th>\n",
       "    </tr>\n",
       "  </thead>\n",
       "  <tbody>\n",
       "    <tr>\n",
       "      <td>0</td>\n",
       "      <td>100024</td>\n",
       "      <td>tt0100024</td>\n",
       "      <td>tt0100024</td>\n",
       "      <td>nm0005139</td>\n",
       "      <td>nm0005139</td>\n",
       "    </tr>\n",
       "    <tr>\n",
       "      <td>1</td>\n",
       "      <td>100029</td>\n",
       "      <td>tt0100029</td>\n",
       "      <td>tt0100029</td>\n",
       "      <td>nm0504802</td>\n",
       "      <td>nm0913027,nm0000241,nm0504802</td>\n",
       "    </tr>\n",
       "    <tr>\n",
       "      <td>2</td>\n",
       "      <td>100046</td>\n",
       "      <td>tt0100046</td>\n",
       "      <td>tt0100046</td>\n",
       "      <td>nm0669004</td>\n",
       "      <td>nm0179896</td>\n",
       "    </tr>\n",
       "    <tr>\n",
       "      <td>3</td>\n",
       "      <td>100049</td>\n",
       "      <td>tt0100049</td>\n",
       "      <td>tt0100049</td>\n",
       "      <td>nm0720000</td>\n",
       "      <td>nm0524108</td>\n",
       "    </tr>\n",
       "    <tr>\n",
       "      <td>4</td>\n",
       "      <td>100050</td>\n",
       "      <td>tt0100050</td>\n",
       "      <td>tt0100050</td>\n",
       "      <td>nm0002132</td>\n",
       "      <td>nm0002132,nm0411477</td>\n",
       "    </tr>\n",
       "  </tbody>\n",
       "</table>\n",
       "</div>"
      ],
      "text/plain": [
       "  movie_id_int     str_id     tconst  directors                        writers\n",
       "0       100024  tt0100024  tt0100024  nm0005139                      nm0005139\n",
       "1       100029  tt0100029  tt0100029  nm0504802  nm0913027,nm0000241,nm0504802\n",
       "2       100046  tt0100046  tt0100046  nm0669004                      nm0179896\n",
       "3       100049  tt0100049  tt0100049  nm0720000                      nm0524108\n",
       "4       100050  tt0100050  tt0100050  nm0002132            nm0002132,nm0411477"
      ]
     },
     "execution_count": 12,
     "metadata": {},
     "output_type": "execute_result"
    }
   ],
   "source": [
    "needed_movies_joined_to_directors = pd.merge(df_needed_movies,\n",
    "                                             dfs['imdb_crew'],\n",
    "                                             left_on='str_id',\n",
    "                                             right_on='tconst',\n",
    "                                             how='left')\n",
    "needed_movies_joined_to_directors.head()"
   ]
  },
  {
   "cell_type": "code",
   "execution_count": 13,
   "metadata": {},
   "outputs": [],
   "source": [
    "needed_movies_joined_to_directors = (\n",
    "    needed_movies_joined_to_directors[needed_movies_joined_to_directors.directors != r'\\N'])"
   ]
  },
  {
   "cell_type": "code",
   "execution_count": 14,
   "metadata": {},
   "outputs": [],
   "source": [
    "all_needed_directors = pd.Series(needed_movies_joined_to_directors.directors.unique())"
   ]
  },
  {
   "cell_type": "code",
   "execution_count": 15,
   "metadata": {},
   "outputs": [],
   "source": [
    "cleaned_all_needed_directors = []\n",
    "for pair in [person.split(',') for person in all_needed_directors]:\n",
    "    for item in pair:\n",
    "        cleaned_all_needed_directors.append(item)"
   ]
  },
  {
   "cell_type": "code",
   "execution_count": 16,
   "metadata": {},
   "outputs": [
    {
     "data": {
      "text/html": [
       "<div>\n",
       "<style scoped>\n",
       "    .dataframe tbody tr th:only-of-type {\n",
       "        vertical-align: middle;\n",
       "    }\n",
       "\n",
       "    .dataframe tbody tr th {\n",
       "        vertical-align: top;\n",
       "    }\n",
       "\n",
       "    .dataframe thead th {\n",
       "        text-align: right;\n",
       "    }\n",
       "</style>\n",
       "<table border=\"1\" class=\"dataframe\">\n",
       "  <thead>\n",
       "    <tr style=\"text-align: right;\">\n",
       "      <th></th>\n",
       "      <th>nconst</th>\n",
       "    </tr>\n",
       "  </thead>\n",
       "  <tbody>\n",
       "    <tr>\n",
       "      <td>0</td>\n",
       "      <td>nm0005139</td>\n",
       "    </tr>\n",
       "    <tr>\n",
       "      <td>1</td>\n",
       "      <td>nm0504802</td>\n",
       "    </tr>\n",
       "    <tr>\n",
       "      <td>2</td>\n",
       "      <td>nm0669004</td>\n",
       "    </tr>\n",
       "    <tr>\n",
       "      <td>3</td>\n",
       "      <td>nm0720000</td>\n",
       "    </tr>\n",
       "    <tr>\n",
       "      <td>4</td>\n",
       "      <td>nm0002132</td>\n",
       "    </tr>\n",
       "  </tbody>\n",
       "</table>\n",
       "</div>"
      ],
      "text/plain": [
       "      nconst\n",
       "0  nm0005139\n",
       "1  nm0504802\n",
       "2  nm0669004\n",
       "3  nm0720000\n",
       "4  nm0002132"
      ]
     },
     "execution_count": 16,
     "metadata": {},
     "output_type": "execute_result"
    }
   ],
   "source": [
    "cleaned_all_needed_directors = pd.DataFrame(np.array(cleaned_all_needed_directors), columns=['nconst'])\n",
    "cleaned_all_needed_directors.head()"
   ]
  },
  {
   "cell_type": "code",
   "execution_count": 17,
   "metadata": {},
   "outputs": [
    {
     "data": {
      "text/html": [
       "<div>\n",
       "<style scoped>\n",
       "    .dataframe tbody tr th:only-of-type {\n",
       "        vertical-align: middle;\n",
       "    }\n",
       "\n",
       "    .dataframe tbody tr th {\n",
       "        vertical-align: top;\n",
       "    }\n",
       "\n",
       "    .dataframe thead th {\n",
       "        text-align: right;\n",
       "    }\n",
       "</style>\n",
       "<table border=\"1\" class=\"dataframe\">\n",
       "  <thead>\n",
       "    <tr style=\"text-align: right;\">\n",
       "      <th></th>\n",
       "      <th>nconst</th>\n",
       "      <th>tconst</th>\n",
       "      <th>directors</th>\n",
       "      <th>writers</th>\n",
       "    </tr>\n",
       "  </thead>\n",
       "  <tbody>\n",
       "    <tr>\n",
       "      <td>0</td>\n",
       "      <td>nm0005139</td>\n",
       "      <td>tt0066842</td>\n",
       "      <td>nm0005139</td>\n",
       "      <td>nm0005139</td>\n",
       "    </tr>\n",
       "    <tr>\n",
       "      <td>1</td>\n",
       "      <td>nm0005139</td>\n",
       "      <td>tt0070153</td>\n",
       "      <td>nm0005139</td>\n",
       "      <td>nm0005139</td>\n",
       "    </tr>\n",
       "    <tr>\n",
       "      <td>2</td>\n",
       "      <td>nm0005139</td>\n",
       "      <td>tt0073531</td>\n",
       "      <td>nm0005139</td>\n",
       "      <td>nm0005139</td>\n",
       "    </tr>\n",
       "    <tr>\n",
       "      <td>3</td>\n",
       "      <td>nm0005139</td>\n",
       "      <td>tt0074759</td>\n",
       "      <td>nm0005139</td>\n",
       "      <td>nm0005139</td>\n",
       "    </tr>\n",
       "    <tr>\n",
       "      <td>4</td>\n",
       "      <td>nm0005139</td>\n",
       "      <td>tt0074988</td>\n",
       "      <td>nm0005139</td>\n",
       "      <td>nm0005139</td>\n",
       "    </tr>\n",
       "  </tbody>\n",
       "</table>\n",
       "</div>"
      ],
      "text/plain": [
       "      nconst     tconst  directors    writers\n",
       "0  nm0005139  tt0066842  nm0005139  nm0005139\n",
       "1  nm0005139  tt0070153  nm0005139  nm0005139\n",
       "2  nm0005139  tt0073531  nm0005139  nm0005139\n",
       "3  nm0005139  tt0074759  nm0005139  nm0005139\n",
       "4  nm0005139  tt0074988  nm0005139  nm0005139"
      ]
     },
     "execution_count": 17,
     "metadata": {},
     "output_type": "execute_result"
    }
   ],
   "source": [
    "directors_and_movies = pd.merge(cleaned_all_needed_directors, \n",
    "                                dfs['imdb_crew'],\n",
    "                                left_on='nconst',\n",
    "                                right_on='directors',\n",
    "                                how='left')\n",
    "directors_and_movies.head()"
   ]
  },
  {
   "cell_type": "code",
   "execution_count": 18,
   "metadata": {},
   "outputs": [
    {
     "data": {
      "text/plain": [
       "nconst\n",
       "nm0455741    1968\n",
       "nm0005062    1617\n",
       "nm0814716    1573\n",
       "nm1853544    1089\n",
       "nm0400958     924\n",
       "Name: tconst, dtype: int64"
      ]
     },
     "execution_count": 18,
     "metadata": {},
     "output_type": "execute_result"
    }
   ],
   "source": [
    "# check how many movies each director was in\n",
    "s = directors_and_movies.groupby('nconst').count()['tconst'].sort_values(ascending=False)\n",
    "s.head()"
   ]
  },
  {
   "cell_type": "code",
   "execution_count": 19,
   "metadata": {},
   "outputs": [],
   "source": [
    "directors_and_movies = directors_and_movies[['directors', 'tconst']]"
   ]
  },
  {
   "cell_type": "code",
   "execution_count": 20,
   "metadata": {},
   "outputs": [
    {
     "data": {
      "text/html": [
       "<div>\n",
       "<style scoped>\n",
       "    .dataframe tbody tr th:only-of-type {\n",
       "        vertical-align: middle;\n",
       "    }\n",
       "\n",
       "    .dataframe tbody tr th {\n",
       "        vertical-align: top;\n",
       "    }\n",
       "\n",
       "    .dataframe thead th {\n",
       "        text-align: right;\n",
       "    }\n",
       "</style>\n",
       "<table border=\"1\" class=\"dataframe\">\n",
       "  <thead>\n",
       "    <tr style=\"text-align: right;\">\n",
       "      <th></th>\n",
       "      <th>directors</th>\n",
       "      <th>tconst</th>\n",
       "    </tr>\n",
       "  </thead>\n",
       "  <tbody>\n",
       "    <tr>\n",
       "      <td>0</td>\n",
       "      <td>nm0005139</td>\n",
       "      <td>tt0066842</td>\n",
       "    </tr>\n",
       "    <tr>\n",
       "      <td>1</td>\n",
       "      <td>nm0005139</td>\n",
       "      <td>tt0070153</td>\n",
       "    </tr>\n",
       "    <tr>\n",
       "      <td>2</td>\n",
       "      <td>nm0005139</td>\n",
       "      <td>tt0073531</td>\n",
       "    </tr>\n",
       "    <tr>\n",
       "      <td>3</td>\n",
       "      <td>nm0005139</td>\n",
       "      <td>tt0074759</td>\n",
       "    </tr>\n",
       "    <tr>\n",
       "      <td>4</td>\n",
       "      <td>nm0005139</td>\n",
       "      <td>tt0074988</td>\n",
       "    </tr>\n",
       "    <tr>\n",
       "      <td>...</td>\n",
       "      <td>...</td>\n",
       "      <td>...</td>\n",
       "    </tr>\n",
       "    <tr>\n",
       "      <td>222972</td>\n",
       "      <td>nm0955443</td>\n",
       "      <td>tt5679696</td>\n",
       "    </tr>\n",
       "    <tr>\n",
       "      <td>222973</td>\n",
       "      <td>nm0955443</td>\n",
       "      <td>tt6864046</td>\n",
       "    </tr>\n",
       "    <tr>\n",
       "      <td>222974</td>\n",
       "      <td>nm0955443</td>\n",
       "      <td>tt8959680</td>\n",
       "    </tr>\n",
       "    <tr>\n",
       "      <td>222975</td>\n",
       "      <td>nm0271835</td>\n",
       "      <td>tt0186537</td>\n",
       "    </tr>\n",
       "    <tr>\n",
       "      <td>222976</td>\n",
       "      <td>nm0271835</td>\n",
       "      <td>tt0192272</td>\n",
       "    </tr>\n",
       "  </tbody>\n",
       "</table>\n",
       "<p>222977 rows × 2 columns</p>\n",
       "</div>"
      ],
      "text/plain": [
       "        directors     tconst\n",
       "0       nm0005139  tt0066842\n",
       "1       nm0005139  tt0070153\n",
       "2       nm0005139  tt0073531\n",
       "3       nm0005139  tt0074759\n",
       "4       nm0005139  tt0074988\n",
       "...           ...        ...\n",
       "222972  nm0955443  tt5679696\n",
       "222973  nm0955443  tt6864046\n",
       "222974  nm0955443  tt8959680\n",
       "222975  nm0271835  tt0186537\n",
       "222976  nm0271835  tt0192272\n",
       "\n",
       "[222977 rows x 2 columns]"
      ]
     },
     "execution_count": 20,
     "metadata": {},
     "output_type": "execute_result"
    }
   ],
   "source": [
    "directors_and_movies"
   ]
  },
  {
   "cell_type": "code",
   "execution_count": 21,
   "metadata": {},
   "outputs": [],
   "source": [
    "# load movies, ids, releveance into df\n",
    "# join this with directors and movies on movies id\n",
    "# aggregate on [directors, movies] and apply aggregate function (mean) (or weighted based on rating)"
   ]
  },
  {
   "cell_type": "code",
   "execution_count": 42,
   "metadata": {},
   "outputs": [
    {
     "data": {
      "text/html": [
       "<div>\n",
       "<style scoped>\n",
       "    .dataframe tbody tr th:only-of-type {\n",
       "        vertical-align: middle;\n",
       "    }\n",
       "\n",
       "    .dataframe tbody tr th {\n",
       "        vertical-align: top;\n",
       "    }\n",
       "\n",
       "    .dataframe thead th {\n",
       "        text-align: right;\n",
       "    }\n",
       "</style>\n",
       "<table border=\"1\" class=\"dataframe\">\n",
       "  <thead>\n",
       "    <tr style=\"text-align: right;\">\n",
       "      <th></th>\n",
       "      <th>movie_id</th>\n",
       "      <th>tag_id</th>\n",
       "      <th>relevance</th>\n",
       "      <th>id</th>\n",
       "      <th>kind</th>\n",
       "      <th>primary_title</th>\n",
       "      <th>original_title</th>\n",
       "      <th>release_year</th>\n",
       "      <th>runtime_minutes</th>\n",
       "      <th>genres</th>\n",
       "    </tr>\n",
       "  </thead>\n",
       "  <tbody>\n",
       "    <tr>\n",
       "      <td>0</td>\n",
       "      <td>12</td>\n",
       "      <td>1</td>\n",
       "      <td>0.04500</td>\n",
       "      <td>12</td>\n",
       "      <td>short</td>\n",
       "      <td>The Arrival of a Train</td>\n",
       "      <td>L'arrivée d'un train à La Ciotat</td>\n",
       "      <td>1896</td>\n",
       "      <td>1</td>\n",
       "      <td>\\N</td>\n",
       "    </tr>\n",
       "    <tr>\n",
       "      <td>1</td>\n",
       "      <td>12</td>\n",
       "      <td>10</td>\n",
       "      <td>0.04050</td>\n",
       "      <td>12</td>\n",
       "      <td>short</td>\n",
       "      <td>The Arrival of a Train</td>\n",
       "      <td>L'arrivée d'un train à La Ciotat</td>\n",
       "      <td>1896</td>\n",
       "      <td>1</td>\n",
       "      <td>\\N</td>\n",
       "    </tr>\n",
       "    <tr>\n",
       "      <td>2</td>\n",
       "      <td>12</td>\n",
       "      <td>100</td>\n",
       "      <td>0.28100</td>\n",
       "      <td>12</td>\n",
       "      <td>short</td>\n",
       "      <td>The Arrival of a Train</td>\n",
       "      <td>L'arrivée d'un train à La Ciotat</td>\n",
       "      <td>1896</td>\n",
       "      <td>1</td>\n",
       "      <td>\\N</td>\n",
       "    </tr>\n",
       "    <tr>\n",
       "      <td>3</td>\n",
       "      <td>12</td>\n",
       "      <td>1000</td>\n",
       "      <td>0.04825</td>\n",
       "      <td>12</td>\n",
       "      <td>short</td>\n",
       "      <td>The Arrival of a Train</td>\n",
       "      <td>L'arrivée d'un train à La Ciotat</td>\n",
       "      <td>1896</td>\n",
       "      <td>1</td>\n",
       "      <td>\\N</td>\n",
       "    </tr>\n",
       "    <tr>\n",
       "      <td>4</td>\n",
       "      <td>12</td>\n",
       "      <td>1001</td>\n",
       "      <td>0.09650</td>\n",
       "      <td>12</td>\n",
       "      <td>short</td>\n",
       "      <td>The Arrival of a Train</td>\n",
       "      <td>L'arrivée d'un train à La Ciotat</td>\n",
       "      <td>1896</td>\n",
       "      <td>1</td>\n",
       "      <td>\\N</td>\n",
       "    </tr>\n",
       "  </tbody>\n",
       "</table>\n",
       "</div>"
      ],
      "text/plain": [
       "   movie_id tag_id  relevance  id   kind           primary_title  \\\n",
       "0        12      1    0.04500  12  short  The Arrival of a Train   \n",
       "1        12     10    0.04050  12  short  The Arrival of a Train   \n",
       "2        12    100    0.28100  12  short  The Arrival of a Train   \n",
       "3        12   1000    0.04825  12  short  The Arrival of a Train   \n",
       "4        12   1001    0.09650  12  short  The Arrival of a Train   \n",
       "\n",
       "                     original_title  release_year  runtime_minutes genres  \n",
       "0  L'arrivée d'un train à La Ciotat          1896                1     \\N  \n",
       "1  L'arrivée d'un train à La Ciotat          1896                1     \\N  \n",
       "2  L'arrivée d'un train à La Ciotat          1896                1     \\N  \n",
       "3  L'arrivée d'un train à La Ciotat          1896                1     \\N  \n",
       "4  L'arrivée d'un train à La Ciotat          1896                1     \\N  "
      ]
     },
     "execution_count": 42,
     "metadata": {},
     "output_type": "execute_result"
    }
   ],
   "source": [
    "sql = '''\n",
    "select *\n",
    "from tag_relevance tr\n",
    "join movies m\n",
    "on tr.movie_id = m.id\n",
    "limit 10000\n",
    "'''\n",
    "c\n",
    "df_movie_tags = pd.read_sql(sql, con=conn)\n",
    "df_movie_tags.head()"
   ]
  },
  {
   "cell_type": "code",
   "execution_count": 43,
   "metadata": {},
   "outputs": [],
   "source": [
    "# NOTE: fix nans from being joined above\n",
    "# for now just remove"
   ]
  },
  {
   "cell_type": "code",
   "execution_count": 44,
   "metadata": {},
   "outputs": [],
   "source": [
    "directors_and_movies = directors_and_movies[~directors_and_movies.tconst.isna()]"
   ]
  },
  {
   "cell_type": "code",
   "execution_count": 45,
   "metadata": {},
   "outputs": [
    {
     "data": {
      "text/html": [
       "<div>\n",
       "<style scoped>\n",
       "    .dataframe tbody tr th:only-of-type {\n",
       "        vertical-align: middle;\n",
       "    }\n",
       "\n",
       "    .dataframe tbody tr th {\n",
       "        vertical-align: top;\n",
       "    }\n",
       "\n",
       "    .dataframe thead th {\n",
       "        text-align: right;\n",
       "    }\n",
       "</style>\n",
       "<table border=\"1\" class=\"dataframe\">\n",
       "  <thead>\n",
       "    <tr style=\"text-align: right;\">\n",
       "      <th></th>\n",
       "      <th>directors</th>\n",
       "      <th>tconst</th>\n",
       "      <th>movie_id</th>\n",
       "    </tr>\n",
       "  </thead>\n",
       "  <tbody>\n",
       "    <tr>\n",
       "      <td>0</td>\n",
       "      <td>nm0005139</td>\n",
       "      <td>tt0066842</td>\n",
       "      <td>66842</td>\n",
       "    </tr>\n",
       "    <tr>\n",
       "      <td>1</td>\n",
       "      <td>nm0005139</td>\n",
       "      <td>tt0070153</td>\n",
       "      <td>70153</td>\n",
       "    </tr>\n",
       "    <tr>\n",
       "      <td>2</td>\n",
       "      <td>nm0005139</td>\n",
       "      <td>tt0073531</td>\n",
       "      <td>73531</td>\n",
       "    </tr>\n",
       "    <tr>\n",
       "      <td>3</td>\n",
       "      <td>nm0005139</td>\n",
       "      <td>tt0074759</td>\n",
       "      <td>74759</td>\n",
       "    </tr>\n",
       "    <tr>\n",
       "      <td>4</td>\n",
       "      <td>nm0005139</td>\n",
       "      <td>tt0074988</td>\n",
       "      <td>74988</td>\n",
       "    </tr>\n",
       "  </tbody>\n",
       "</table>\n",
       "</div>"
      ],
      "text/plain": [
       "   directors     tconst  movie_id\n",
       "0  nm0005139  tt0066842     66842\n",
       "1  nm0005139  tt0070153     70153\n",
       "2  nm0005139  tt0073531     73531\n",
       "3  nm0005139  tt0074759     74759\n",
       "4  nm0005139  tt0074988     74988"
      ]
     },
     "execution_count": 45,
     "metadata": {},
     "output_type": "execute_result"
    }
   ],
   "source": [
    "directors_and_movies.loc[:,'movie_id'] = (directors_and_movies.loc[:,'tconst'].str[2:]).astype(int)\n",
    "directors_and_movies.head()"
   ]
  },
  {
   "cell_type": "code",
   "execution_count": 46,
   "metadata": {},
   "outputs": [
    {
     "data": {
      "text/html": [
       "<div>\n",
       "<style scoped>\n",
       "    .dataframe tbody tr th:only-of-type {\n",
       "        vertical-align: middle;\n",
       "    }\n",
       "\n",
       "    .dataframe tbody tr th {\n",
       "        vertical-align: top;\n",
       "    }\n",
       "\n",
       "    .dataframe thead th {\n",
       "        text-align: right;\n",
       "    }\n",
       "</style>\n",
       "<table border=\"1\" class=\"dataframe\">\n",
       "  <thead>\n",
       "    <tr style=\"text-align: right;\">\n",
       "      <th></th>\n",
       "      <th>movie_id</th>\n",
       "      <th>tag_id</th>\n",
       "      <th>relevance</th>\n",
       "      <th>id</th>\n",
       "      <th>kind</th>\n",
       "      <th>primary_title</th>\n",
       "      <th>original_title</th>\n",
       "      <th>release_year</th>\n",
       "      <th>runtime_minutes</th>\n",
       "      <th>genres</th>\n",
       "    </tr>\n",
       "  </thead>\n",
       "  <tbody>\n",
       "    <tr>\n",
       "      <td>0</td>\n",
       "      <td>12</td>\n",
       "      <td>1</td>\n",
       "      <td>0.04500</td>\n",
       "      <td>12</td>\n",
       "      <td>short</td>\n",
       "      <td>The Arrival of a Train</td>\n",
       "      <td>L'arrivée d'un train à La Ciotat</td>\n",
       "      <td>1896</td>\n",
       "      <td>1</td>\n",
       "      <td>\\N</td>\n",
       "    </tr>\n",
       "    <tr>\n",
       "      <td>1</td>\n",
       "      <td>12</td>\n",
       "      <td>10</td>\n",
       "      <td>0.04050</td>\n",
       "      <td>12</td>\n",
       "      <td>short</td>\n",
       "      <td>The Arrival of a Train</td>\n",
       "      <td>L'arrivée d'un train à La Ciotat</td>\n",
       "      <td>1896</td>\n",
       "      <td>1</td>\n",
       "      <td>\\N</td>\n",
       "    </tr>\n",
       "    <tr>\n",
       "      <td>2</td>\n",
       "      <td>12</td>\n",
       "      <td>100</td>\n",
       "      <td>0.28100</td>\n",
       "      <td>12</td>\n",
       "      <td>short</td>\n",
       "      <td>The Arrival of a Train</td>\n",
       "      <td>L'arrivée d'un train à La Ciotat</td>\n",
       "      <td>1896</td>\n",
       "      <td>1</td>\n",
       "      <td>\\N</td>\n",
       "    </tr>\n",
       "    <tr>\n",
       "      <td>3</td>\n",
       "      <td>12</td>\n",
       "      <td>1000</td>\n",
       "      <td>0.04825</td>\n",
       "      <td>12</td>\n",
       "      <td>short</td>\n",
       "      <td>The Arrival of a Train</td>\n",
       "      <td>L'arrivée d'un train à La Ciotat</td>\n",
       "      <td>1896</td>\n",
       "      <td>1</td>\n",
       "      <td>\\N</td>\n",
       "    </tr>\n",
       "    <tr>\n",
       "      <td>4</td>\n",
       "      <td>12</td>\n",
       "      <td>1001</td>\n",
       "      <td>0.09650</td>\n",
       "      <td>12</td>\n",
       "      <td>short</td>\n",
       "      <td>The Arrival of a Train</td>\n",
       "      <td>L'arrivée d'un train à La Ciotat</td>\n",
       "      <td>1896</td>\n",
       "      <td>1</td>\n",
       "      <td>\\N</td>\n",
       "    </tr>\n",
       "  </tbody>\n",
       "</table>\n",
       "</div>"
      ],
      "text/plain": [
       "   movie_id tag_id  relevance  id   kind           primary_title  \\\n",
       "0        12      1    0.04500  12  short  The Arrival of a Train   \n",
       "1        12     10    0.04050  12  short  The Arrival of a Train   \n",
       "2        12    100    0.28100  12  short  The Arrival of a Train   \n",
       "3        12   1000    0.04825  12  short  The Arrival of a Train   \n",
       "4        12   1001    0.09650  12  short  The Arrival of a Train   \n",
       "\n",
       "                     original_title  release_year  runtime_minutes genres  \n",
       "0  L'arrivée d'un train à La Ciotat          1896                1     \\N  \n",
       "1  L'arrivée d'un train à La Ciotat          1896                1     \\N  \n",
       "2  L'arrivée d'un train à La Ciotat          1896                1     \\N  \n",
       "3  L'arrivée d'un train à La Ciotat          1896                1     \\N  \n",
       "4  L'arrivée d'un train à La Ciotat          1896                1     \\N  "
      ]
     },
     "execution_count": 46,
     "metadata": {},
     "output_type": "execute_result"
    }
   ],
   "source": [
    "df_movie_tags.head()"
   ]
  },
  {
   "cell_type": "code",
   "execution_count": 47,
   "metadata": {},
   "outputs": [
    {
     "data": {
      "text/html": [
       "<div>\n",
       "<style scoped>\n",
       "    .dataframe tbody tr th:only-of-type {\n",
       "        vertical-align: middle;\n",
       "    }\n",
       "\n",
       "    .dataframe tbody tr th {\n",
       "        vertical-align: top;\n",
       "    }\n",
       "\n",
       "    .dataframe thead th {\n",
       "        text-align: right;\n",
       "    }\n",
       "</style>\n",
       "<table border=\"1\" class=\"dataframe\">\n",
       "  <thead>\n",
       "    <tr style=\"text-align: right;\">\n",
       "      <th></th>\n",
       "      <th>movie_id</th>\n",
       "      <th>tag_id</th>\n",
       "      <th>relevance</th>\n",
       "      <th>id</th>\n",
       "      <th>kind</th>\n",
       "      <th>primary_title</th>\n",
       "      <th>original_title</th>\n",
       "      <th>release_year</th>\n",
       "      <th>runtime_minutes</th>\n",
       "      <th>genres</th>\n",
       "    </tr>\n",
       "  </thead>\n",
       "  <tbody>\n",
       "    <tr>\n",
       "      <td>0</td>\n",
       "      <td>12</td>\n",
       "      <td>1</td>\n",
       "      <td>0.04500</td>\n",
       "      <td>12</td>\n",
       "      <td>short</td>\n",
       "      <td>The Arrival of a Train</td>\n",
       "      <td>L'arrivée d'un train à La Ciotat</td>\n",
       "      <td>1896</td>\n",
       "      <td>1</td>\n",
       "      <td>\\N</td>\n",
       "    </tr>\n",
       "    <tr>\n",
       "      <td>1</td>\n",
       "      <td>12</td>\n",
       "      <td>10</td>\n",
       "      <td>0.04050</td>\n",
       "      <td>12</td>\n",
       "      <td>short</td>\n",
       "      <td>The Arrival of a Train</td>\n",
       "      <td>L'arrivée d'un train à La Ciotat</td>\n",
       "      <td>1896</td>\n",
       "      <td>1</td>\n",
       "      <td>\\N</td>\n",
       "    </tr>\n",
       "    <tr>\n",
       "      <td>2</td>\n",
       "      <td>12</td>\n",
       "      <td>100</td>\n",
       "      <td>0.28100</td>\n",
       "      <td>12</td>\n",
       "      <td>short</td>\n",
       "      <td>The Arrival of a Train</td>\n",
       "      <td>L'arrivée d'un train à La Ciotat</td>\n",
       "      <td>1896</td>\n",
       "      <td>1</td>\n",
       "      <td>\\N</td>\n",
       "    </tr>\n",
       "    <tr>\n",
       "      <td>3</td>\n",
       "      <td>12</td>\n",
       "      <td>1000</td>\n",
       "      <td>0.04825</td>\n",
       "      <td>12</td>\n",
       "      <td>short</td>\n",
       "      <td>The Arrival of a Train</td>\n",
       "      <td>L'arrivée d'un train à La Ciotat</td>\n",
       "      <td>1896</td>\n",
       "      <td>1</td>\n",
       "      <td>\\N</td>\n",
       "    </tr>\n",
       "    <tr>\n",
       "      <td>4</td>\n",
       "      <td>12</td>\n",
       "      <td>1001</td>\n",
       "      <td>0.09650</td>\n",
       "      <td>12</td>\n",
       "      <td>short</td>\n",
       "      <td>The Arrival of a Train</td>\n",
       "      <td>L'arrivée d'un train à La Ciotat</td>\n",
       "      <td>1896</td>\n",
       "      <td>1</td>\n",
       "      <td>\\N</td>\n",
       "    </tr>\n",
       "  </tbody>\n",
       "</table>\n",
       "</div>"
      ],
      "text/plain": [
       "   movie_id tag_id  relevance  id   kind           primary_title  \\\n",
       "0        12      1    0.04500  12  short  The Arrival of a Train   \n",
       "1        12     10    0.04050  12  short  The Arrival of a Train   \n",
       "2        12    100    0.28100  12  short  The Arrival of a Train   \n",
       "3        12   1000    0.04825  12  short  The Arrival of a Train   \n",
       "4        12   1001    0.09650  12  short  The Arrival of a Train   \n",
       "\n",
       "                     original_title  release_year  runtime_minutes genres  \n",
       "0  L'arrivée d'un train à La Ciotat          1896                1     \\N  \n",
       "1  L'arrivée d'un train à La Ciotat          1896                1     \\N  \n",
       "2  L'arrivée d'un train à La Ciotat          1896                1     \\N  \n",
       "3  L'arrivée d'un train à La Ciotat          1896                1     \\N  \n",
       "4  L'arrivée d'un train à La Ciotat          1896                1     \\N  "
      ]
     },
     "execution_count": 47,
     "metadata": {},
     "output_type": "execute_result"
    }
   ],
   "source": [
    "df_movie_tags.head()"
   ]
  },
  {
   "cell_type": "code",
   "execution_count": 48,
   "metadata": {},
   "outputs": [
    {
     "data": {
      "text/html": [
       "<div>\n",
       "<style scoped>\n",
       "    .dataframe tbody tr th:only-of-type {\n",
       "        vertical-align: middle;\n",
       "    }\n",
       "\n",
       "    .dataframe tbody tr th {\n",
       "        vertical-align: top;\n",
       "    }\n",
       "\n",
       "    .dataframe thead th {\n",
       "        text-align: right;\n",
       "    }\n",
       "</style>\n",
       "<table border=\"1\" class=\"dataframe\">\n",
       "  <thead>\n",
       "    <tr style=\"text-align: right;\">\n",
       "      <th></th>\n",
       "      <th>directors</th>\n",
       "      <th>tconst</th>\n",
       "      <th>movie_id</th>\n",
       "    </tr>\n",
       "  </thead>\n",
       "  <tbody>\n",
       "    <tr>\n",
       "      <td>0</td>\n",
       "      <td>nm0005139</td>\n",
       "      <td>tt0066842</td>\n",
       "      <td>66842</td>\n",
       "    </tr>\n",
       "    <tr>\n",
       "      <td>1</td>\n",
       "      <td>nm0005139</td>\n",
       "      <td>tt0070153</td>\n",
       "      <td>70153</td>\n",
       "    </tr>\n",
       "    <tr>\n",
       "      <td>2</td>\n",
       "      <td>nm0005139</td>\n",
       "      <td>tt0073531</td>\n",
       "      <td>73531</td>\n",
       "    </tr>\n",
       "    <tr>\n",
       "      <td>3</td>\n",
       "      <td>nm0005139</td>\n",
       "      <td>tt0074759</td>\n",
       "      <td>74759</td>\n",
       "    </tr>\n",
       "    <tr>\n",
       "      <td>4</td>\n",
       "      <td>nm0005139</td>\n",
       "      <td>tt0074988</td>\n",
       "      <td>74988</td>\n",
       "    </tr>\n",
       "  </tbody>\n",
       "</table>\n",
       "</div>"
      ],
      "text/plain": [
       "   directors     tconst  movie_id\n",
       "0  nm0005139  tt0066842     66842\n",
       "1  nm0005139  tt0070153     70153\n",
       "2  nm0005139  tt0073531     73531\n",
       "3  nm0005139  tt0074759     74759\n",
       "4  nm0005139  tt0074988     74988"
      ]
     },
     "execution_count": 48,
     "metadata": {},
     "output_type": "execute_result"
    }
   ],
   "source": [
    "directors_and_movies.head()"
   ]
  },
  {
   "cell_type": "code",
   "execution_count": 51,
   "metadata": {},
   "outputs": [
    {
     "data": {
      "text/html": [
       "<div>\n",
       "<style scoped>\n",
       "    .dataframe tbody tr th:only-of-type {\n",
       "        vertical-align: middle;\n",
       "    }\n",
       "\n",
       "    .dataframe tbody tr th {\n",
       "        vertical-align: top;\n",
       "    }\n",
       "\n",
       "    .dataframe thead th {\n",
       "        text-align: right;\n",
       "    }\n",
       "</style>\n",
       "<table border=\"1\" class=\"dataframe\">\n",
       "  <thead>\n",
       "    <tr style=\"text-align: right;\">\n",
       "      <th></th>\n",
       "      <th>directors</th>\n",
       "      <th>tconst</th>\n",
       "      <th>movie_id</th>\n",
       "      <th>tag_id</th>\n",
       "      <th>relevance</th>\n",
       "      <th>id</th>\n",
       "      <th>kind</th>\n",
       "      <th>primary_title</th>\n",
       "      <th>original_title</th>\n",
       "      <th>release_year</th>\n",
       "      <th>runtime_minutes</th>\n",
       "      <th>genres</th>\n",
       "    </tr>\n",
       "  </thead>\n",
       "  <tbody>\n",
       "    <tr>\n",
       "      <td>48036</td>\n",
       "      <td>nm0000428</td>\n",
       "      <td>tt0004972</td>\n",
       "      <td>4972</td>\n",
       "      <td>1</td>\n",
       "      <td>0.04925</td>\n",
       "      <td>4972</td>\n",
       "      <td>movie</td>\n",
       "      <td>The Birth of a Nation</td>\n",
       "      <td>The Birth of a Nation</td>\n",
       "      <td>1915.0</td>\n",
       "      <td>195.0</td>\n",
       "      <td>\\N</td>\n",
       "    </tr>\n",
       "    <tr>\n",
       "      <td>48037</td>\n",
       "      <td>nm0000428</td>\n",
       "      <td>tt0004972</td>\n",
       "      <td>4972</td>\n",
       "      <td>10</td>\n",
       "      <td>0.06725</td>\n",
       "      <td>4972</td>\n",
       "      <td>movie</td>\n",
       "      <td>The Birth of a Nation</td>\n",
       "      <td>The Birth of a Nation</td>\n",
       "      <td>1915.0</td>\n",
       "      <td>195.0</td>\n",
       "      <td>\\N</td>\n",
       "    </tr>\n",
       "    <tr>\n",
       "      <td>48038</td>\n",
       "      <td>nm0000428</td>\n",
       "      <td>tt0004972</td>\n",
       "      <td>4972</td>\n",
       "      <td>100</td>\n",
       "      <td>0.19575</td>\n",
       "      <td>4972</td>\n",
       "      <td>movie</td>\n",
       "      <td>The Birth of a Nation</td>\n",
       "      <td>The Birth of a Nation</td>\n",
       "      <td>1915.0</td>\n",
       "      <td>195.0</td>\n",
       "      <td>\\N</td>\n",
       "    </tr>\n",
       "    <tr>\n",
       "      <td>48039</td>\n",
       "      <td>nm0000428</td>\n",
       "      <td>tt0004972</td>\n",
       "      <td>4972</td>\n",
       "      <td>1000</td>\n",
       "      <td>0.10800</td>\n",
       "      <td>4972</td>\n",
       "      <td>movie</td>\n",
       "      <td>The Birth of a Nation</td>\n",
       "      <td>The Birth of a Nation</td>\n",
       "      <td>1915.0</td>\n",
       "      <td>195.0</td>\n",
       "      <td>\\N</td>\n",
       "    </tr>\n",
       "    <tr>\n",
       "      <td>48040</td>\n",
       "      <td>nm0000428</td>\n",
       "      <td>tt0004972</td>\n",
       "      <td>4972</td>\n",
       "      <td>1001</td>\n",
       "      <td>0.06675</td>\n",
       "      <td>4972</td>\n",
       "      <td>movie</td>\n",
       "      <td>The Birth of a Nation</td>\n",
       "      <td>The Birth of a Nation</td>\n",
       "      <td>1915.0</td>\n",
       "      <td>195.0</td>\n",
       "      <td>\\N</td>\n",
       "    </tr>\n",
       "  </tbody>\n",
       "</table>\n",
       "</div>"
      ],
      "text/plain": [
       "       directors     tconst  movie_id tag_id  relevance    id   kind  \\\n",
       "48036  nm0000428  tt0004972      4972      1    0.04925  4972  movie   \n",
       "48037  nm0000428  tt0004972      4972     10    0.06725  4972  movie   \n",
       "48038  nm0000428  tt0004972      4972    100    0.19575  4972  movie   \n",
       "48039  nm0000428  tt0004972      4972   1000    0.10800  4972  movie   \n",
       "48040  nm0000428  tt0004972      4972   1001    0.06675  4972  movie   \n",
       "\n",
       "               primary_title         original_title  release_year  \\\n",
       "48036  The Birth of a Nation  The Birth of a Nation        1915.0   \n",
       "48037  The Birth of a Nation  The Birth of a Nation        1915.0   \n",
       "48038  The Birth of a Nation  The Birth of a Nation        1915.0   \n",
       "48039  The Birth of a Nation  The Birth of a Nation        1915.0   \n",
       "48040  The Birth of a Nation  The Birth of a Nation        1915.0   \n",
       "\n",
       "       runtime_minutes genres  \n",
       "48036            195.0     \\N  \n",
       "48037            195.0     \\N  \n",
       "48038            195.0     \\N  \n",
       "48039            195.0     \\N  \n",
       "48040            195.0     \\N  "
      ]
     },
     "execution_count": 51,
     "metadata": {},
     "output_type": "execute_result"
    }
   ],
   "source": [
    "merged_df = pd.merge(directors_and_movies, df_movie_tags, left_on='movie_id', right_on='movie_id', how='left')\n",
    "merged_df[~merged_df.tag_id.isna()].head()"
   ]
  },
  {
   "cell_type": "code",
   "execution_count": 57,
   "metadata": {},
   "outputs": [
    {
     "data": {
      "text/plain": [
       "0.99925"
      ]
     },
     "execution_count": 57,
     "metadata": {},
     "output_type": "execute_result"
    }
   ],
   "source": [
    "directors_tag_relevance = merged_df.groupby(['directors', 'tag_id'])['relevance'].mean()\n",
    "directors_tag_relevance.max()"
   ]
  },
  {
   "cell_type": "code",
   "execution_count": 59,
   "metadata": {},
   "outputs": [
    {
     "data": {
      "text/html": [
       "<div>\n",
       "<style scoped>\n",
       "    .dataframe tbody tr th:only-of-type {\n",
       "        vertical-align: middle;\n",
       "    }\n",
       "\n",
       "    .dataframe tbody tr th {\n",
       "        vertical-align: top;\n",
       "    }\n",
       "\n",
       "    .dataframe thead th {\n",
       "        text-align: right;\n",
       "    }\n",
       "</style>\n",
       "<table border=\"1\" class=\"dataframe\">\n",
       "  <thead>\n",
       "    <tr style=\"text-align: right;\">\n",
       "      <th></th>\n",
       "      <th>tagId</th>\n",
       "      <th>tag</th>\n",
       "    </tr>\n",
       "  </thead>\n",
       "  <tbody>\n",
       "    <tr>\n",
       "      <td>687</td>\n",
       "      <td>688</td>\n",
       "      <td>mutants</td>\n",
       "    </tr>\n",
       "  </tbody>\n",
       "</table>\n",
       "</div>"
      ],
      "text/plain": [
       "     tagId      tag\n",
       "687    688  mutants"
      ]
     },
     "execution_count": 59,
     "metadata": {},
     "output_type": "execute_result"
    }
   ],
   "source": [
    "dfs['genome_tags'][dfs['genome_tags'].tagId == 688]"
   ]
  },
  {
   "cell_type": "code",
   "execution_count": 58,
   "metadata": {},
   "outputs": [
    {
     "data": {
      "text/plain": [
       "directors  tag_id\n",
       "nm0665737  688       0.99925\n",
       "Name: relevance, dtype: float64"
      ]
     },
     "execution_count": 58,
     "metadata": {},
     "output_type": "execute_result"
    }
   ],
   "source": [
    "directors_tag_relevance[directors_tag_relevance==0.99925]"
   ]
  },
  {
   "cell_type": "code",
   "execution_count": 73,
   "metadata": {},
   "outputs": [
    {
     "data": {
      "text/plain": [
       "6"
      ]
     },
     "execution_count": 73,
     "metadata": {},
     "output_type": "execute_result"
    }
   ],
   "source": [
    "directors_tag_relevance = pd.DataFrame(directors_tag_relevance).reset_index()\n",
    "directors_tag_relevance.directors.nunique()"
   ]
  },
  {
   "cell_type": "code",
   "execution_count": null,
   "metadata": {},
   "outputs": [],
   "source": []
  },
  {
   "cell_type": "code",
   "execution_count": 68,
   "metadata": {},
   "outputs": [
    {
     "data": {
      "text/plain": [
       "directors  tag_id\n",
       "nm0000122  1         0.031500\n",
       "           10        0.030625\n",
       "           100       0.106750\n",
       "           1000      0.140125\n",
       "           1001      0.035625\n",
       "                       ...   \n",
       "nm0903049  858       0.063750\n",
       "           859       0.018250\n",
       "           86        0.453000\n",
       "           860       0.017000\n",
       "           861       0.007000\n",
       "Name: relevance, Length: 6616, dtype: float64"
      ]
     },
     "execution_count": 68,
     "metadata": {},
     "output_type": "execute_result"
    }
   ],
   "source": [
    "pd.DataFrame(directors_tag_relevance)"
   ]
  },
  {
   "cell_type": "code",
   "execution_count": 76,
   "metadata": {},
   "outputs": [
    {
     "data": {
      "text/plain": [
       "dict_keys(['genome_scores', 'genome_tags', 'links', 'movies', 'ratings', 'tags', 'imdb_name_basics', 'imdb_title_basics', 'imdb_ratings', 'imdb_crew', 'imdb_principals'])"
      ]
     },
     "execution_count": 76,
     "metadata": {},
     "output_type": "execute_result"
    }
   ],
   "source": [
    "dfs.keys()"
   ]
  },
  {
   "cell_type": "code",
   "execution_count": 78,
   "metadata": {},
   "outputs": [
    {
     "data": {
      "text/html": [
       "<div>\n",
       "<style scoped>\n",
       "    .dataframe tbody tr th:only-of-type {\n",
       "        vertical-align: middle;\n",
       "    }\n",
       "\n",
       "    .dataframe tbody tr th {\n",
       "        vertical-align: top;\n",
       "    }\n",
       "\n",
       "    .dataframe thead th {\n",
       "        text-align: right;\n",
       "    }\n",
       "</style>\n",
       "<table border=\"1\" class=\"dataframe\">\n",
       "  <thead>\n",
       "    <tr style=\"text-align: right;\">\n",
       "      <th></th>\n",
       "      <th>nconst</th>\n",
       "      <th>primaryName</th>\n",
       "      <th>birthYear</th>\n",
       "      <th>deathYear</th>\n",
       "      <th>primaryProfession</th>\n",
       "      <th>knownForTitles</th>\n",
       "    </tr>\n",
       "  </thead>\n",
       "  <tbody>\n",
       "    <tr>\n",
       "      <td>0</td>\n",
       "      <td>nm0000001</td>\n",
       "      <td>Fred Astaire</td>\n",
       "      <td>\\N</td>\n",
       "      <td>\\N</td>\n",
       "      <td>soundtrack,actor,miscellaneous</td>\n",
       "      <td>tt0053137,tt0072308,tt0050419,tt0043044</td>\n",
       "    </tr>\n",
       "    <tr>\n",
       "      <td>1</td>\n",
       "      <td>nm0000002</td>\n",
       "      <td>Lauren Bacall</td>\n",
       "      <td>\\N</td>\n",
       "      <td>\\N</td>\n",
       "      <td>actress,soundtrack</td>\n",
       "      <td>tt0071877,tt0117057,tt0037382,tt0038355</td>\n",
       "    </tr>\n",
       "    <tr>\n",
       "      <td>2</td>\n",
       "      <td>nm0000003</td>\n",
       "      <td>Brigitte Bardot</td>\n",
       "      <td>\\N</td>\n",
       "      <td>\\N</td>\n",
       "      <td>actress,soundtrack,producer</td>\n",
       "      <td>tt0059956,tt0057345,tt0054452,tt0049189</td>\n",
       "    </tr>\n",
       "    <tr>\n",
       "      <td>3</td>\n",
       "      <td>nm0000004</td>\n",
       "      <td>John Belushi</td>\n",
       "      <td>\\N</td>\n",
       "      <td>\\N</td>\n",
       "      <td>actor,soundtrack,writer</td>\n",
       "      <td>tt0072562,tt0077975,tt0078723,tt0080455</td>\n",
       "    </tr>\n",
       "    <tr>\n",
       "      <td>4</td>\n",
       "      <td>nm0000005</td>\n",
       "      <td>Ingmar Bergman</td>\n",
       "      <td>\\N</td>\n",
       "      <td>\\N</td>\n",
       "      <td>writer,director,actor</td>\n",
       "      <td>tt0050976,tt0069467,tt0083922,tt0050986</td>\n",
       "    </tr>\n",
       "  </tbody>\n",
       "</table>\n",
       "</div>"
      ],
      "text/plain": [
       "      nconst      primaryName birthYear deathYear  \\\n",
       "0  nm0000001     Fred Astaire        \\N        \\N   \n",
       "1  nm0000002    Lauren Bacall        \\N        \\N   \n",
       "2  nm0000003  Brigitte Bardot        \\N        \\N   \n",
       "3  nm0000004     John Belushi        \\N        \\N   \n",
       "4  nm0000005   Ingmar Bergman        \\N        \\N   \n",
       "\n",
       "                primaryProfession                           knownForTitles  \n",
       "0  soundtrack,actor,miscellaneous  tt0053137,tt0072308,tt0050419,tt0043044  \n",
       "1              actress,soundtrack  tt0071877,tt0117057,tt0037382,tt0038355  \n",
       "2     actress,soundtrack,producer  tt0059956,tt0057345,tt0054452,tt0049189  \n",
       "3         actor,soundtrack,writer  tt0072562,tt0077975,tt0078723,tt0080455  \n",
       "4           writer,director,actor  tt0050976,tt0069467,tt0083922,tt0050986  "
      ]
     },
     "execution_count": 78,
     "metadata": {},
     "output_type": "execute_result"
    }
   ],
   "source": [
    "dfs['imdb_name_basics'].head()"
   ]
  },
  {
   "cell_type": "code",
   "execution_count": 81,
   "metadata": {},
   "outputs": [
    {
     "data": {
      "text/html": [
       "<div>\n",
       "<style scoped>\n",
       "    .dataframe tbody tr th:only-of-type {\n",
       "        vertical-align: middle;\n",
       "    }\n",
       "\n",
       "    .dataframe tbody tr th {\n",
       "        vertical-align: top;\n",
       "    }\n",
       "\n",
       "    .dataframe thead th {\n",
       "        text-align: right;\n",
       "    }\n",
       "</style>\n",
       "<table border=\"1\" class=\"dataframe\">\n",
       "  <thead>\n",
       "    <tr style=\"text-align: right;\">\n",
       "      <th></th>\n",
       "      <th>nconst</th>\n",
       "      <th>primaryName</th>\n",
       "      <th>birthYear</th>\n",
       "      <th>deathYear</th>\n",
       "      <th>primaryProfession</th>\n",
       "      <th>knownForTitles</th>\n",
       "    </tr>\n",
       "  </thead>\n",
       "  <tbody>\n",
       "    <tr>\n",
       "      <td>0</td>\n",
       "      <td>nm0005139</td>\n",
       "      <td>Mike Leigh</td>\n",
       "      <td>\\N</td>\n",
       "      <td>\\N</td>\n",
       "      <td>director,writer,actor</td>\n",
       "      <td>tt1431181,tt0117589,tt0107653,tt1045670</td>\n",
       "    </tr>\n",
       "    <tr>\n",
       "      <td>1</td>\n",
       "      <td>nm0504802</td>\n",
       "      <td>Sheldon Lettich</td>\n",
       "      <td>\\N</td>\n",
       "      <td>\\N</td>\n",
       "      <td>writer,director,producer</td>\n",
       "      <td>tt0100029,tt0095956,tt3369806,tt0101764</td>\n",
       "    </tr>\n",
       "    <tr>\n",
       "      <td>2</td>\n",
       "      <td>nm0669004</td>\n",
       "      <td>Richard Pearce</td>\n",
       "      <td>\\N</td>\n",
       "      <td>\\N</td>\n",
       "      <td>director,cinematographer,producer</td>\n",
       "      <td>tt0406429,tt0079261,tt1286537,tt0082508</td>\n",
       "    </tr>\n",
       "    <tr>\n",
       "      <td>3</td>\n",
       "      <td>nm0720000</td>\n",
       "      <td>Norman René</td>\n",
       "      <td>\\N</td>\n",
       "      <td>\\N</td>\n",
       "      <td>director,producer</td>\n",
       "      <td>tt0105165,tt0176357,tt0114241,tt0100049</td>\n",
       "    </tr>\n",
       "    <tr>\n",
       "      <td>4</td>\n",
       "      <td>nm0002132</td>\n",
       "      <td>Amy Heckerling</td>\n",
       "      <td>\\N</td>\n",
       "      <td>\\N</td>\n",
       "      <td>writer,director,producer</td>\n",
       "      <td>tt0115137,tt0097778,tt0083929,tt3973820</td>\n",
       "    </tr>\n",
       "  </tbody>\n",
       "</table>\n",
       "</div>"
      ],
      "text/plain": [
       "      nconst      primaryName birthYear deathYear  \\\n",
       "0  nm0005139       Mike Leigh        \\N        \\N   \n",
       "1  nm0504802  Sheldon Lettich        \\N        \\N   \n",
       "2  nm0669004   Richard Pearce        \\N        \\N   \n",
       "3  nm0720000      Norman René        \\N        \\N   \n",
       "4  nm0002132   Amy Heckerling        \\N        \\N   \n",
       "\n",
       "                   primaryProfession                           knownForTitles  \n",
       "0              director,writer,actor  tt1431181,tt0117589,tt0107653,tt1045670  \n",
       "1           writer,director,producer  tt0100029,tt0095956,tt3369806,tt0101764  \n",
       "2  director,cinematographer,producer  tt0406429,tt0079261,tt1286537,tt0082508  \n",
       "3                  director,producer  tt0105165,tt0176357,tt0114241,tt0100049  \n",
       "4           writer,director,producer  tt0115137,tt0097778,tt0083929,tt3973820  "
      ]
     },
     "execution_count": 81,
     "metadata": {},
     "output_type": "execute_result"
    }
   ],
   "source": [
    "needed_directors_and_names = pd.merge(cleaned_all_needed_directors,dfs['imdb_name_basics'],\n",
    "                                      left_on='nconst', right_on='nconst', how='left' )\n",
    "needed_directors_and_names.head()"
   ]
  },
  {
   "cell_type": "code",
   "execution_count": 84,
   "metadata": {},
   "outputs": [],
   "source": [
    "needed_directors_and_names = needed_directors_and_names[['nconst','primaryName']]"
   ]
  },
  {
   "cell_type": "code",
   "execution_count": 87,
   "metadata": {},
   "outputs": [],
   "source": [
    "dfs['directors'] = needed_directors_and_names\n",
    "dfs['directors_relevence'] = directors_tag_relevance"
   ]
  },
  {
   "cell_type": "code",
   "execution_count": 91,
   "metadata": {},
   "outputs": [
    {
     "data": {
      "text/html": [
       "<div>\n",
       "<style scoped>\n",
       "    .dataframe tbody tr th:only-of-type {\n",
       "        vertical-align: middle;\n",
       "    }\n",
       "\n",
       "    .dataframe tbody tr th {\n",
       "        vertical-align: top;\n",
       "    }\n",
       "\n",
       "    .dataframe thead th {\n",
       "        text-align: right;\n",
       "    }\n",
       "</style>\n",
       "<table border=\"1\" class=\"dataframe\">\n",
       "  <thead>\n",
       "    <tr style=\"text-align: right;\">\n",
       "      <th></th>\n",
       "      <th>nconst</th>\n",
       "      <th>primaryName</th>\n",
       "    </tr>\n",
       "  </thead>\n",
       "  <tbody>\n",
       "    <tr>\n",
       "      <td>0</td>\n",
       "      <td>nm0005139</td>\n",
       "      <td>Mike Leigh</td>\n",
       "    </tr>\n",
       "    <tr>\n",
       "      <td>1</td>\n",
       "      <td>nm0504802</td>\n",
       "      <td>Sheldon Lettich</td>\n",
       "    </tr>\n",
       "    <tr>\n",
       "      <td>2</td>\n",
       "      <td>nm0669004</td>\n",
       "      <td>Richard Pearce</td>\n",
       "    </tr>\n",
       "    <tr>\n",
       "      <td>3</td>\n",
       "      <td>nm0720000</td>\n",
       "      <td>Norman René</td>\n",
       "    </tr>\n",
       "    <tr>\n",
       "      <td>4</td>\n",
       "      <td>nm0002132</td>\n",
       "      <td>Amy Heckerling</td>\n",
       "    </tr>\n",
       "    <tr>\n",
       "      <td>...</td>\n",
       "      <td>...</td>\n",
       "      <td>...</td>\n",
       "    </tr>\n",
       "    <tr>\n",
       "      <td>7290</td>\n",
       "      <td>nm0540330</td>\n",
       "      <td>Bruce Malmuth</td>\n",
       "    </tr>\n",
       "    <tr>\n",
       "      <td>7291</td>\n",
       "      <td>nm0822582</td>\n",
       "      <td>Richard Stanley</td>\n",
       "    </tr>\n",
       "    <tr>\n",
       "      <td>7292</td>\n",
       "      <td>nm0663489</td>\n",
       "      <td>James D. Parriott</td>\n",
       "    </tr>\n",
       "    <tr>\n",
       "      <td>7293</td>\n",
       "      <td>nm0955443</td>\n",
       "      <td>Yimou Zhang</td>\n",
       "    </tr>\n",
       "    <tr>\n",
       "      <td>7294</td>\n",
       "      <td>nm0271835</td>\n",
       "      <td>Fengliang Yang</td>\n",
       "    </tr>\n",
       "  </tbody>\n",
       "</table>\n",
       "<p>7295 rows × 2 columns</p>\n",
       "</div>"
      ],
      "text/plain": [
       "         nconst        primaryName\n",
       "0     nm0005139         Mike Leigh\n",
       "1     nm0504802    Sheldon Lettich\n",
       "2     nm0669004     Richard Pearce\n",
       "3     nm0720000        Norman René\n",
       "4     nm0002132     Amy Heckerling\n",
       "...         ...                ...\n",
       "7290  nm0540330      Bruce Malmuth\n",
       "7291  nm0822582    Richard Stanley\n",
       "7292  nm0663489  James D. Parriott\n",
       "7293  nm0955443        Yimou Zhang\n",
       "7294  nm0271835     Fengliang Yang\n",
       "\n",
       "[7295 rows x 2 columns]"
      ]
     },
     "execution_count": 91,
     "metadata": {},
     "output_type": "execute_result"
    }
   ],
   "source": [
    "dfs['directors']"
   ]
  },
  {
   "cell_type": "code",
   "execution_count": 93,
   "metadata": {},
   "outputs": [],
   "source": [
    "# \n",
    "#\n",
    "directors_table = \"\"\"\n",
    "CREATE TABLE IF NOT EXISTS directors (\n",
    "    id text PRIMARY KEY,\n",
    "    name text\n",
    ");\n",
    "\"\"\"\n",
    "\n",
    "director_relevence_table = \"\"\"\n",
    "CREATE TABLE IF NOT EXISTS director_tag_relevance (\n",
    "    director_id integer,\n",
    "    tag_id name text NOT NULL,\n",
    "    relevance real NOT NULL\n",
    ");\n",
    "\"\"\"\n",
    "table_sql = {\n",
    "    'directors'                 : directors_table,\n",
    "    'directors_relevence'       : director_relevence_table,\n",
    "}\n",
    "\n",
    "table_data_source = {\n",
    "    'directors'                 : 'directors',\n",
    "    'directors_relevence'       : 'directors_relevence',\n",
    "}\n",
    "\n",
    "for table_name in table_sql:\n",
    "    # create table\n",
    "    c.execute(table_sql[table_name])\n",
    "    # populate table with data\n",
    "    df = dfs[table_data_source[table_name]]\n",
    "    df.to_sql(table_sql[table_name], conn, if_exists='append', index=False)"
   ]
  },
  {
   "cell_type": "code",
   "execution_count": null,
   "metadata": {},
   "outputs": [],
   "source": [
    "# get needed movie ids\n",
    "sql = \"\"\"\n",
    "select id from movies ;\n",
    "\"\"\"\n",
    "c.execute(sql)\n",
    "movie_ids = c.fetchall()\n",
    "needed_movies = [m[0] for m in movie_ids]\n",
    "needed_movies[:5]  # check first 5"
   ]
  },
  {
   "cell_type": "code",
   "execution_count": 20,
   "metadata": {},
   "outputs": [],
   "source": [
    "# director aggregated tag score\n",
    "# average for each tag for all of the movies they directed\n"
   ]
  },
  {
   "cell_type": "code",
   "execution_count": 21,
   "metadata": {},
   "outputs": [
    {
     "data": {
      "text/plain": [
       "[(1, '007'),\n",
       " (2, '007 (series)'),\n",
       " (3, '18th century'),\n",
       " (4, '1920s'),\n",
       " (5, '1930s')]"
      ]
     },
     "execution_count": 21,
     "metadata": {},
     "output_type": "execute_result"
    }
   ],
   "source": [
    "# get needed movie ids\n",
    "sql = \"\"\"\n",
    "select * from tags ;\n",
    "\"\"\"\n",
    "c.execute(sql)\n",
    "tag_ids = c.fetchall()\n",
    "all_tags = [t for t in tag_ids]\n",
    "all_tags[:5]  # check first 5"
   ]
  },
  {
   "cell_type": "code",
   "execution_count": 22,
   "metadata": {},
   "outputs": [
    {
     "data": {
      "text/plain": [
       "[(1, '1', 0.02875),\n",
       " (1, '2', 0.023749999999999997),\n",
       " (1, '3', 0.0625),\n",
       " (1, '4', 0.07574999999999997),\n",
       " (1, '5', 0.14075)]"
      ]
     },
     "execution_count": 22,
     "metadata": {},
     "output_type": "execute_result"
    }
   ],
   "source": [
    "# get needed movie ids\n",
    "sql = \"\"\"\n",
    "select * from tag_relevance;\n",
    "\"\"\"\n",
    "c.execute(sql)\n",
    "movie_ids = c.fetchall()\n",
    "needed_movies = [m for m in movie_ids]\n",
    "needed_movies[:5]  # check first 5\n",
    "# movie, tag, relevance"
   ]
  },
  {
   "cell_type": "code",
   "execution_count": 58,
   "metadata": {},
   "outputs": [
    {
     "data": {
      "text/plain": [
       "dict_keys(['genome_scores', 'genome_tags', 'links', 'movies', 'ratings', 'tags', 'imdb_name_basics', 'imdb_title_basics', 'imdb_ratings', 'imdb_crew', 'imdb_principals'])"
      ]
     },
     "execution_count": 58,
     "metadata": {},
     "output_type": "execute_result"
    }
   ],
   "source": [
    "dfs.keys()"
   ]
  },
  {
   "cell_type": "code",
   "execution_count": null,
   "metadata": {},
   "outputs": [],
   "source": [
    "dfs['']"
   ]
  },
  {
   "cell_type": "code",
   "execution_count": null,
   "metadata": {},
   "outputs": [],
   "source": [
    "# director_id, tag_id, relevence_score\n",
    "# 1, 1, .5\n",
    "# 1, 2, .2\n",
    "# ...."
   ]
  },
  {
   "cell_type": "code",
   "execution_count": null,
   "metadata": {},
   "outputs": [],
   "source": [
    "# actor_id, tag_id, relevence_score\n",
    "# 1, 1, .5\n",
    "# 1, 2, .2\n",
    "# ...."
   ]
  },
  {
   "cell_type": "code",
   "execution_count": null,
   "metadata": {},
   "outputs": [],
   "source": [
    "s.head()"
   ]
  },
  {
   "cell_type": "code",
   "execution_count": null,
   "metadata": {},
   "outputs": [],
   "source": []
  },
  {
   "cell_type": "code",
   "execution_count": null,
   "metadata": {},
   "outputs": [],
   "source": []
  },
  {
   "cell_type": "code",
   "execution_count": null,
   "metadata": {},
   "outputs": [],
   "source": []
  },
  {
   "cell_type": "code",
   "execution_count": null,
   "metadata": {},
   "outputs": [],
   "source": []
  },
  {
   "cell_type": "code",
   "execution_count": 15,
   "metadata": {},
   "outputs": [
    {
     "ename": "NameError",
     "evalue": "name 'actors' is not defined",
     "output_type": "error",
     "traceback": [
      "\u001b[0;31m---------------------------------------------------------------------------\u001b[0m",
      "\u001b[0;31mNameError\u001b[0m                                 Traceback (most recent call last)",
      "\u001b[0;32m<ipython-input-15-f7a85c3a5444>\u001b[0m in \u001b[0;36m<module>\u001b[0;34m\u001b[0m\n\u001b[0;32m----> 1\u001b[0;31m \u001b[0mactors\u001b[0m\u001b[0;34m\u001b[0m\u001b[0;34m\u001b[0m\u001b[0m\n\u001b[0m\u001b[1;32m      2\u001b[0m \u001b[0;34m\u001b[0m\u001b[0m\n\u001b[1;32m      3\u001b[0m \u001b[0mactor_id\u001b[0m\u001b[0;34m,\u001b[0m \u001b[0mname\u001b[0m\u001b[0;34m,\u001b[0m \u001b[0mtag_id\u001b[0m\u001b[0;34m,\u001b[0m \u001b[0mtag_value\u001b[0m\u001b[0;34m\u001b[0m\u001b[0;34m\u001b[0m\u001b[0m\n",
      "\u001b[0;31mNameError\u001b[0m: name 'actors' is not defined"
     ]
    }
   ],
   "source": [
    "actors\n",
    "\n",
    "actor_id, name, tag_id, tag_value"
   ]
  },
  {
   "cell_type": "code",
   "execution_count": null,
   "metadata": {},
   "outputs": [],
   "source": []
  }
 ],
 "metadata": {
  "kernelspec": {
   "display_name": "Python 3",
   "language": "python",
   "name": "python3"
  },
  "language_info": {
   "codemirror_mode": {
    "name": "ipython",
    "version": 3
   },
   "file_extension": ".py",
   "mimetype": "text/x-python",
   "name": "python",
   "nbconvert_exporter": "python",
   "pygments_lexer": "ipython3",
   "version": "3.7.4"
  }
 },
 "nbformat": 4,
 "nbformat_minor": 2
}
