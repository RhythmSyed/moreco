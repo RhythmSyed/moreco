{
 "cells": [
  {
   "cell_type": "markdown",
   "metadata": {},
   "source": [
    "# Load libraries"
   ]
  },
  {
   "cell_type": "code",
   "execution_count": 3,
   "metadata": {},
   "outputs": [],
   "source": [
    "import pandas as pd\n",
    "import zipfile\n",
    "import sqlite3"
   ]
  },
  {
   "cell_type": "markdown",
   "metadata": {},
   "source": [
    "# unzip compressed data"
   ]
  },
  {
   "cell_type": "code",
   "execution_count": 5,
   "metadata": {},
   "outputs": [],
   "source": [
    "# path_to_zip = './data/ml-25m.zip'\n",
    "# with zipfile.ZipFile(path_to_zip,\"r\") as zip_ref:\n",
    "#     zip_ref.extractall(\"./data\")"
   ]
  },
  {
   "cell_type": "code",
   "execution_count": 6,
   "metadata": {},
   "outputs": [],
   "source": [
    "data_sources = {\n",
    "    # movielens\n",
    "    'genome_scores'    : './data/ml-25m/genome-scores.csv',\n",
    "    'genome_tags'      : './data/ml-25m/genome-tags.csv',\n",
    "    'links'            : './data/ml-25m/links.csv',\n",
    "#     'movies'           : './data/ml-25m/movies.csv',\n",
    "#     'ratings'          : './data/ml-25m/ratings.csv',\n",
    "    'tags'             : './data/ml-25m/tags.csv',\n",
    "    # imdb\n",
    "#     'imdb_name_basics' : './data/name.basics.tsv.gz',\n",
    "    'imdb_title_basics': './data/title.basics.tsv.gz',\n",
    "#     'imdb_ratings'     : './data/title.ratings.tsv.gz',\n",
    "#     'imdb_crew'        : './data/title.crew.tsv.gz',\n",
    "#     'imdb_principals'  : './data/title.principals.tsv.gz',\n",
    "}"
   ]
  },
  {
   "cell_type": "code",
   "execution_count": 7,
   "metadata": {},
   "outputs": [
    {
     "name": "stdout",
     "output_type": "stream",
     "text": [
      "dict_keys(['genome_scores', 'genome_tags', 'links', 'tags'])\r"
     ]
    },
    {
     "name": "stderr",
     "output_type": "stream",
     "text": [
      "/home/chris/anaconda3/envs/py38/lib/python3.8/site-packages/IPython/core/interactiveshell.py:3062: DtypeWarning: Columns (5) have mixed types.Specify dtype option on import or set low_memory=False.\n",
      "  has_raised = await self.run_ast_nodes(code_ast.body, cell_name,\n"
     ]
    }
   ],
   "source": [
    "dfs = {}\n",
    "for name, path in data_sources.items():\n",
    "    print(dfs.keys(), end='\\r')\n",
    "    separator = '\\t' if 'tsv' in path else ','\n",
    "    dfs[name] = pd.read_csv(path, sep=separator)"
   ]
  },
  {
   "cell_type": "code",
   "execution_count": 9,
   "metadata": {},
   "outputs": [],
   "source": [
    "# EDA \n",
    "# combined_df = pd.merge(dfs['genome_scores'], dfs['genome_tags'], on='tagId')\n",
    "# combined_df.tag.value_counts()"
   ]
  },
  {
   "cell_type": "code",
   "execution_count": 10,
   "metadata": {},
   "outputs": [],
   "source": [
    "# EDA\n",
    "# combined_df[combined_df.relevance == 1].tag.unique()\n",
    "# all_ones = dfs['genome_scores'][dfs['genome_scores'].relevance==1]"
   ]
  },
  {
   "cell_type": "code",
   "execution_count": 11,
   "metadata": {},
   "outputs": [],
   "source": [
    "# EDA\n",
    "# for name in data_sources:\n",
    "#     print(name)\n",
    "#     print(dfs[name].shape)\n",
    "#     print(dfs[name].head())\n",
    "#     print()"
   ]
  },
  {
   "cell_type": "code",
   "execution_count": 12,
   "metadata": {},
   "outputs": [
    {
     "data": {
      "text/plain": [
       "(13795, 9)"
      ]
     },
     "execution_count": 12,
     "metadata": {},
     "output_type": "execute_result"
    }
   ],
   "source": [
    "# filter the movies we need from imdb based on movies present in tags dataset\n",
    "merged_df = pd.merge(dfs['genome_scores'],\n",
    "                     dfs['links'],\n",
    "                     left_on='movieId',\n",
    "                     right_on='movieId')\n",
    "imdb_movies_to_keep = merged_df.imdbId.unique()\n",
    "\n",
    "# properly format in order to join\n",
    "imdb_ids_to_keep = 'tt' + pd.Series(imdb_movies_to_keep, dtype='str').str.zfill(7)\n",
    "\n",
    "# filter imdb dataset\n",
    "df =  dfs['imdb_title_basics']\n",
    "dfs['imdb_title_basics_to_keep'] = df[df['tconst'].isin(imdb_ids_to_keep)]\n",
    "dfs['imdb_title_basics_to_keep'].shape"
   ]
  },
  {
   "cell_type": "code",
   "execution_count": 13,
   "metadata": {},
   "outputs": [],
   "source": [
    "table_cols = {\n",
    "    'tags'         : ['id', 'name'],\n",
    "    'movies'       : ['id', 'kind', 'primary_title', 'original_title',\n",
    "                      'release_year', 'runtime_minutes', 'genres'],\n",
    "    'tag_relevance': ['movie_id', 'tag_id', 'relevance'],\n",
    "}"
   ]
  },
  {
   "cell_type": "code",
   "execution_count": 14,
   "metadata": {},
   "outputs": [],
   "source": [
    "# dfs['imdb_title_basics_to_keep'].apply(lambda x: int(x['tconst'][2:]), axis=1)"
   ]
  },
  {
   "cell_type": "code",
   "execution_count": 15,
   "metadata": {},
   "outputs": [],
   "source": [
    "# dfs['imdb_title_basics_to_keep']['tconst'].copy().str[2:].copy().astype(int)"
   ]
  },
  {
   "cell_type": "code",
   "execution_count": 17,
   "metadata": {},
   "outputs": [],
   "source": [
    "# set dfs with proper column names\n",
    "keep_cols = ['id', 'titleType', 'primaryTitle', 'originalTitle', 'startYear', 'runtimeMinutes', 'genres']\n",
    "# dfs['imdb_title_basics_to_keep'].loc[:, 'id'] = dfs['imdb_title_basics_to_keep'].apply(lambda x: int(x['tconst'][2:]), axis=1)\n",
    "dfs['imdb_title_basics_to_keep'].loc[:,'id'] = dfs['imdb_title_basics_to_keep']['tconst'].str[2:].astype(int)\n",
    "dfs['imdb_title_basics_to_keep'] = dfs['imdb_title_basics_to_keep'][keep_cols]\n",
    "\n",
    "# specify columns to keep\n",
    "dfs['imdb_title_basics_to_keep'].columns = ['id', 'kind', 'primary_title', 'original_title',\n",
    "                      'release_year', 'runtime_minutes', 'genres']\n",
    "dfs['genome_tags'].columns = ['id', 'name']\n",
    "dfs['genome_scores'].columns = ['movie_id', 'tag_id', 'relevance']"
   ]
  },
  {
   "cell_type": "code",
   "execution_count": 18,
   "metadata": {},
   "outputs": [],
   "source": [
    "db_name = './movie_sqlite.db'\n",
    "conn = sqlite3.connect(db_name)\n",
    "c = conn.cursor()"
   ]
  },
  {
   "cell_type": "code",
   "execution_count": 19,
   "metadata": {},
   "outputs": [],
   "source": [
    "tags_table = \"\"\"\n",
    "CREATE TABLE IF NOT EXISTS tags (\n",
    "    id integer PRIMARY KEY,\n",
    "    name text NOT NULL\n",
    ");\n",
    "\"\"\"\n",
    "\n",
    "# data from the title.basics.tsv.gz\n",
    "# TODO: format genre as json or extract out into own table\n",
    "movies_table = \"\"\"\n",
    "CREATE TABLE IF NOT EXISTS movies (\n",
    "    id text PRIMARY KEY,\n",
    "    kind text,\n",
    "    primary_title text,\n",
    "    original_title text,\n",
    "    release_year integer,\n",
    "    runtime_minutes integer,\n",
    "    genres text\n",
    ");\n",
    "\"\"\"\n",
    "\n",
    "# movie_id is the imdb movie db id (not the movie lens movie id)\n",
    "# to access this movie in a url add 'tt' to the beginning of it\n",
    "# https://www.imdb.com/title/tt<movie_id>\n",
    "relevance_table = \"\"\"\n",
    "CREATE TABLE IF NOT EXISTS tag_relevance (\n",
    "    movie_id integer,\n",
    "    tag_id name text NOT NULL,\n",
    "    relevance real NOT NULL\n",
    ");\n",
    "\"\"\"\n",
    "\n",
    "# TODO: create table containing columns each representing a tagname\n",
    "# and rows each representing a movie, values being the relavance value\n",
    "# this will make querying easier for similarity metric\n",
    "\n",
    "#TODO check out themovieddb.org and see if there is any dataset that may \n",
    "# have some information we would want, if so we can join to this dataset as well.\n"
   ]
  },
  {
   "cell_type": "code",
   "execution_count": 20,
   "metadata": {},
   "outputs": [],
   "source": [
    "table_sql = {\n",
    "    'tags'         : tags_table,\n",
    "    'movies'       : movies_table,\n",
    "    'tag_relevance': relevance_table\n",
    "}\n",
    "\n",
    "table_data_source = {\n",
    "    'tags'         : 'genome_tags',\n",
    "    'movies'       : 'imdb_title_basics_to_keep',\n",
    "    'tag_relevance': 'genome_scores',\n",
    "}\n",
    "\n",
    "for table_name in table_sql:\n",
    "    # create table\n",
    "    c.execute(table_sql[table_name])\n",
    "    # populate table with data\n",
    "    df = dfs[table_data_source[table_name]]\n",
    "    df.to_sql(table_name, conn, if_exists='append', index=False)"
   ]
  },
  {
   "cell_type": "code",
   "execution_count": null,
   "metadata": {},
   "outputs": [],
   "source": [
    "conn.close()"
   ]
  },
  {
   "cell_type": "code",
   "execution_count": null,
   "metadata": {},
   "outputs": [],
   "source": [
    "# sample sql to get all tag relevance scores for a movie\n",
    "\"\"\"\n",
    "    select m.primary_title, t.name, tr.relevance\n",
    "    from movies m\n",
    "    join tags t\n",
    "    join tag_relevance tr\n",
    "    on m.id = tr.movie_id\n",
    "    and t.id = tr.tag_id\n",
    "    where m.id = 12\n",
    "    order by 3;\n",
    "\"\"\""
   ]
  }
 ],
 "metadata": {
  "kernelspec": {
   "display_name": "Python 3",
   "language": "python",
   "name": "python3"
  },
  "language_info": {
   "codemirror_mode": {
    "name": "ipython",
    "version": 3
   },
   "file_extension": ".py",
   "mimetype": "text/x-python",
   "name": "python",
   "nbconvert_exporter": "python",
   "pygments_lexer": "ipython3",
   "version": "3.8.1"
  }
 },
 "nbformat": 4,
 "nbformat_minor": 2
}
