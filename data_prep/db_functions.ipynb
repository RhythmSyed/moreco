{
 "cells": [
  {
   "cell_type": "code",
   "execution_count": 4,
   "metadata": {},
   "outputs": [],
   "source": [
    "import pandas as pd\n",
    "import numpy as np\n",
    "import sqlite3\n",
    "from sklearn.metrics.pairwise import cosine_similarity, euclidean_distances\n",
    "from sklearn.metrics import jaccard_score"
   ]
  },
  {
   "cell_type": "markdown",
   "metadata": {},
   "source": [
    "TODOS:\n",
    "    \n",
    "    - improve similarity metric, currently cosine similarity suffers from sameness issue where relative tag weights are what is being given a high metric score\n",
    "    - pull tag names from browser and translate to ids "
   ]
  },
  {
   "cell_type": "code",
   "execution_count": 5,
   "metadata": {},
   "outputs": [],
   "source": [
    "def get_conn():\n",
    "    db_name = './movie_sqlite.db'\n",
    "    conn = sqlite3.connect(db_name)\n",
    "    return conn"
   ]
  },
  {
   "cell_type": "code",
   "execution_count": 6,
   "metadata": {},
   "outputs": [],
   "source": [
    "def get_top_similar(tag_ids, entity_type=['movies','directors'][0], top_n=10,\n",
    "                    metric=['euclidean', 'cosine'][0]):\n",
    "    '''\n",
    "    tag_ids: list of tag ids to consider (in ascending order)\n",
    "    \n",
    "    return:\n",
    "        list of tuples [(entity_id, similarity value), ...],\n",
    "        list of tag ids\n",
    "    '''\n",
    "    prefix = 'tt' if entity_type == 'movies' else 'nn'\n",
    "    select_cols = ',\\n'.join([f'sum(case when tag_id = {tg} then relevance end) tag_id_{str(tg)}' for tg in tag_ids])\n",
    "    sql = f\"\"\"\n",
    "        select fk_id,\n",
    "            {select_cols}\n",
    "        from tag_relevance\n",
    "        where tag_id in {tuple(tag_ids)}\n",
    "        and fk_id like '{prefix}%'\n",
    "        group by fk_id;\n",
    "    \"\"\"\n",
    "    conn = get_conn()\n",
    "    df = pd.read_sql(sql, conn).set_index('fk_id')\n",
    "    conn.close()\n",
    "    metric_function = {\n",
    "        'euclidean': euclidean_distances,\n",
    "        'cosine'   : cosine_similarity,\n",
    "        'jaccard'   : jaccard_score,\n",
    "    }[metric]\n",
    "       \n",
    "    df[f'{metric}_similarity'] = metric_function(np.ones((1, len(tag_ids))),df.values).T\n",
    "    df.sort_values(f'{metric}_similarity', inplace=True, ascending=False if metric=='cosine' else True)\n",
    "    s = df[:top_n][f'{metric}_similarity']\n",
    "    return list(zip(s.index, s))+[], tag_ids"
   ]
  },
  {
   "cell_type": "code",
   "execution_count": 7,
   "metadata": {},
   "outputs": [],
   "source": [
    "# TODO: return tag relevance scores for each movie as well"
   ]
  },
  {
   "cell_type": "code",
   "execution_count": 8,
   "metadata": {},
   "outputs": [],
   "source": [
    "tags = [1, 3, 8, 10]\n",
    "top_n, tag_ids = get_top_similar(tags, top_n=5, metric='euclidean')\n",
    "# print(top_n)\n",
    "# print(tag_ids)"
   ]
  },
  {
   "cell_type": "code",
   "execution_count": 9,
   "metadata": {},
   "outputs": [],
   "source": [
    "tags = [1, 3, 8, 10]\n",
    "top_n, tag_ids = get_top_similar(tags, top_n=5, metric='cosine')\n",
    "# print(top_n)\n",
    "# print(tag_ids)"
   ]
  },
  {
   "cell_type": "code",
   "execution_count": 11,
   "metadata": {},
   "outputs": [],
   "source": [
    "# TODO: make tooltip dynamic to represent entity type (director or movie)"
   ]
  },
  {
   "cell_type": "code",
   "execution_count": 12,
   "metadata": {},
   "outputs": [],
   "source": [
    "# function signatures needing implementation\n",
    "\n",
    "def get_entity_name(fk_id):\n",
    "    prefix = fk_id[:2]\n",
    "    entity_type = {\n",
    "        'nm': 'directors',\n",
    "        'tt': 'movies',\n",
    "    }[prefix]\n",
    "    \n",
    "    name_col = {\n",
    "        'nm': 'name',\n",
    "        'tt': 'primary_title',\n",
    "    }[prefix]\n",
    "    \n",
    "    sql = f\"\"\"\n",
    "        select {name_col}\n",
    "        from {entity_type}\n",
    "        where id = '{fk_id}'\n",
    "        ;\n",
    "    \"\"\"\n",
    "    conn = get_conn()\n",
    "    c = conn.cursor()\n",
    "    c.execute(sql)\n",
    "    res = c.fetchall()[0][0]\n",
    "    conn.close()\n",
    "    return res\n",
    "\n",
    "def get_poster_img_link(fk_id):\n",
    "    \"\"\"\n",
    "    TODO: create db table, populate table with links, write function to pull data\"\"\"\n",
    "    return 'url'\n"
   ]
  },
  {
   "cell_type": "code",
   "execution_count": 13,
   "metadata": {},
   "outputs": [
    {
     "data": {
      "text/plain": [
       "'Georges Méliès'"
      ]
     },
     "execution_count": 13,
     "metadata": {},
     "output_type": "execute_result"
    }
   ],
   "source": [
    "fk = 'nm0617588'\n",
    "get_entity_name(fk)"
   ]
  },
  {
   "cell_type": "code",
   "execution_count": 14,
   "metadata": {},
   "outputs": [
    {
     "data": {
      "text/plain": [
       "'The Arrival of a Train'"
      ]
     },
     "execution_count": 14,
     "metadata": {},
     "output_type": "execute_result"
    }
   ],
   "source": [
    "fk = 'tt0000012'\n",
    "get_entity_name(fk)"
   ]
  },
  {
   "cell_type": "code",
   "execution_count": null,
   "metadata": {},
   "outputs": [],
   "source": [
    "TASK: get youtube urls for trailers\n",
    "    using api, take a movie name, year, genre and get url of youtube trailer\n",
    "    embed the video into website\n",
    "    "
   ]
  },
  {
   "cell_type": "code",
   "execution_count": null,
   "metadata": {},
   "outputs": [],
   "source": []
  }
 ],
 "metadata": {
  "kernelspec": {
   "display_name": "Python 3",
   "language": "python",
   "name": "python3"
  },
  "language_info": {
   "codemirror_mode": {
    "name": "ipython",
    "version": 3
   },
   "file_extension": ".py",
   "mimetype": "text/x-python",
   "name": "python",
   "nbconvert_exporter": "python",
   "pygments_lexer": "ipython3",
   "version": "3.7.4"
  }
 },
 "nbformat": 4,
 "nbformat_minor": 2
}
