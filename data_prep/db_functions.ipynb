{
 "cells": [
  {
   "cell_type": "code",
   "execution_count": 1,
   "metadata": {},
   "outputs": [],
   "source": [
    "import pandas as pd\n",
    "import numpy as np\n",
    "import sqlite3\n",
    "from sklearn.metrics.pairwise import cosine_similarity, euclidean_distances\n",
    "from sklearn.metrics import jaccard_score\n",
    "\n",
    "import requests\n",
    "import IPython.display as Disp"
   ]
  },
  {
   "cell_type": "markdown",
   "metadata": {},
   "source": [
    "TODOS:\n",
    "    \n",
    "    - improve similarity metric, currently cosine similarity suffers from sameness issue where relative tag weights are what is being given a high metric score\n",
    "    - pull tag names from browser and translate to ids "
   ]
  },
  {
   "cell_type": "code",
   "execution_count": 2,
   "metadata": {},
   "outputs": [],
   "source": [
    "def get_conn():\n",
    "    db_name = './movie_sqlite.db'\n",
    "    conn = sqlite3.connect(db_name)\n",
    "    return conn"
   ]
  },
  {
   "cell_type": "code",
   "execution_count": 16,
   "metadata": {},
   "outputs": [],
   "source": [
    "def get_top_similar(tag_ids, entity_type=['movies','directors'][0], top_n=10,\n",
    "                    metric=['euclidean', 'cosine'][0]):\n",
    "    '''\n",
    "    tag_ids: list of tag ids to consider (in ascending order)\n",
    "    \n",
    "    return:\n",
    "        list of tuples [(entity_id, similarity value), ...],\n",
    "        list of tag ids\n",
    "    '''\n",
    "    prefix = 'tt' if entity_type == 'movies' else 'nn'\n",
    "#     select_cols = ',\\n'.join([f'sum(case when tag_id = {tg} then relevance end) tag_id_{str(tg)}' for tg in tag_ids])\n",
    "    select_cols = ',\\n'.join([f'tag_id_{tg}' for tg in tag_ids])\n",
    "    \n",
    "    sql = f\"\"\"\n",
    "        select fk_id,\n",
    "            {select_cols}\n",
    "        from scores\n",
    "        where fk_id like '{prefix}%'\n",
    "        ;\n",
    "    \"\"\"\n",
    "    conn = get_conn()\n",
    "    df = pd.read_sql(sql, conn).set_index('fk_id')\n",
    "    \n",
    "    metric_function = {\n",
    "        'euclidean': euclidean_distances,\n",
    "        'cosine'   : cosine_similarity,\n",
    "    }[metric]\n",
    "       \n",
    "    df[f'{metric}_similarity'] = metric_function(np.ones((1, len(tag_ids))),df.values).T\n",
    "    df.sort_values(f'{metric}_similarity', inplace=True, ascending=False if metric=='cosine' else True)\n",
    "    s = df[:top_n][f'{metric}_similarity']\n",
    "    \n",
    "    sql = f\"\"\"\n",
    "        select fk_id,\n",
    "            {select_cols}\n",
    "        from scores\n",
    "        where fk_id like '{prefix}%'\n",
    "        ;\n",
    "    \"\"\"\n",
    "    col_names = [f'tag_id_{tg}' for tg in tag_ids]\n",
    "    conn.close()\n",
    "    individual_tag_scores = [list(zip([c.strip('tag_id_') for c in df[:5][col_names].columns], r)) for r in df[:5][col_names].values]\n",
    "    return list(zip(s.index, s, individual_tag_scores))+[], tag_ids"
   ]
  },
  {
   "cell_type": "code",
   "execution_count": 17,
   "metadata": {},
   "outputs": [
    {
     "name": "stdout",
     "output_type": "stream",
     "text": [
      "[('tt0049007', 0.7648985635363682, [('1', 0.8939999999999999), ('2', 0.99475), ('3', 0.2425)]), ('tt0133001', 0.8360806629745721, [('1', 0.8855), ('2', 0.86575), ('3', 0.18275)]), ('tt0002983', 0.8907538240164902, [('1', 0.97025), ('2', 0.9965), ('3', 0.10975)]), ('tt0004930', 0.9124085228120131, [('1', 0.88625), ('2', 0.512), ('3', 0.2375)]), ('tt0002949', 0.9302500335931194, [('1', 0.99975), ('2', 1.0), ('3', 0.06974999999999998)])]\n",
      "[1, 2, 3]\n"
     ]
    }
   ],
   "source": [
    "tags = [1, 2, 3]\n",
    "top_n, tag_ids = get_top_similar(tags, top_n=5, metric='euclidean')\n",
    "print(top_n)\n",
    "print(tag_ids)"
   ]
  },
  {
   "cell_type": "code",
   "execution_count": 18,
   "metadata": {},
   "outputs": [
    {
     "name": "stdout",
     "output_type": "stream",
     "text": [
      "[('tt0003489', 0.9990738549809466, [('1', 0.06774999999999998), ('3', 0.06274999999999997), ('8', 0.07024999999999998), ('10', 0.06474999999999997)]), ('tt0069372', 0.9987181317345147, [('1', 0.060750000000000026), ('3', 0.05475000000000002), ('8', 0.063), ('10', 0.0595)]), ('tt0002914', 0.9984192498168817, [('1', 0.059250000000000025), ('3', 0.05675000000000002), ('8', 0.0645), ('10', 0.056)]), ('tt0007192', 0.997837505766203, [('1', 0.0595), ('3', 0.06), ('8', 0.053499999999999985), ('10', 0.0645)]), ('tt0031433', 0.9978269211470778, [('1', 0.02975), ('3', 0.03425), ('8', 0.035499999999999976), ('10', 0.03225)])]\n",
      "[1, 3, 8, 10]\n"
     ]
    }
   ],
   "source": [
    "tags = [1, 3, 8, 10]\n",
    "top_n, tag_ids = get_top_similar(tags, top_n=5, metric='cosine')\n",
    "print(top_n)\n",
    "print(tag_ids)"
   ]
  },
  {
   "cell_type": "code",
   "execution_count": 7,
   "metadata": {},
   "outputs": [],
   "source": [
    "# TODO: make tooltip dynamic to represent entity type (director or movie)"
   ]
  },
  {
   "cell_type": "code",
   "execution_count": 13,
   "metadata": {},
   "outputs": [],
   "source": [
    "# function signatures needing implementation\n",
    "\n",
    "def get_entity_name(fk_id):\n",
    "    prefix = fk_id[:2]\n",
    "    entity_type = {\n",
    "        'nm': 'directors',\n",
    "        'tt': 'movies',\n",
    "    }[prefix]\n",
    "    \n",
    "    name_col = {\n",
    "        'nm': 'name',\n",
    "        'tt': 'primary_title',\n",
    "    }[prefix]\n",
    "    \n",
    "    sql = f\"\"\"\n",
    "        select {name_col}\n",
    "        from {entity_type}\n",
    "        where id = '{fk_id}'\n",
    "        ;\n",
    "    \"\"\"\n",
    "    conn = get_conn()\n",
    "    c = conn.cursor()\n",
    "    c.execute(sql)\n",
    "    res = c.fetchall()\n",
    "    conn.close()\n",
    "    res = res[0][0] if res else None\n",
    "    return res\n",
    "\n",
    "def get_poster_img_link(fk_id):    \n",
    "    sql = f'''\n",
    "        select img_url\n",
    "        from posters\n",
    "        where id = '{fk_id}'\n",
    "    ;\n",
    "    '''\n",
    "    conn = get_conn()\n",
    "    c = conn.cursor()\n",
    "    c.execute(sql)\n",
    "    res = c.fetchall()\n",
    "    conn.close() \n",
    "    res = res[0][0] if res else None\n",
    "    return res\n"
   ]
  },
  {
   "cell_type": "code",
   "execution_count": 9,
   "metadata": {},
   "outputs": [
    {
     "data": {
      "text/plain": [
       "'Georges Méliès'"
      ]
     },
     "execution_count": 9,
     "metadata": {},
     "output_type": "execute_result"
    }
   ],
   "source": [
    "fk = 'nm0617588'\n",
    "get_entity_name(fk)"
   ]
  },
  {
   "cell_type": "code",
   "execution_count": 10,
   "metadata": {},
   "outputs": [
    {
     "data": {
      "text/plain": [
       "'The Arrival of a Train'"
      ]
     },
     "execution_count": 10,
     "metadata": {},
     "output_type": "execute_result"
    }
   ],
   "source": [
    "fk = 'tt0000012'\n",
    "get_entity_name(fk)"
   ]
  },
  {
   "cell_type": "code",
   "execution_count": 14,
   "metadata": {},
   "outputs": [],
   "source": [
    "fk = 'tt0049007'\n",
    "get_entity_name(fk)"
   ]
  },
  {
   "cell_type": "code",
   "execution_count": 11,
   "metadata": {},
   "outputs": [
    {
     "name": "stdout",
     "output_type": "stream",
     "text": [
      "https://m.media-amazon.com/images/M/MV5BMGViZWEwOGItMGZlMC00YzE1LTk5ZWItMGYxYjhhMjBmNDMwXkEyXkFqcGdeQXVyNDg4NjY5OTQ@._V1_UX182_CR0,0,182,268_AL_.jpg\n"
     ]
    },
    {
     "data": {
      "image/jpeg": "[encoded data removed]",
      "text/plain": [
       "<IPython.core.display.Image object>"
      ]
     },
     "execution_count": 11,
     "metadata": {},
     "output_type": "execute_result"
    }
   ],
   "source": [
    "url = get_poster_img_link('tt9358204')\n",
    "print(url)\n",
    "Disp.Image(requests.get(url).content)"
   ]
  },
  {
   "cell_type": "code",
   "execution_count": null,
   "metadata": {},
   "outputs": [],
   "source": [
    "TASK: get youtube urls for trailers\n",
    "    using api, take a movie name, year, genre and get url of youtube trailer\n",
    "    embed the video into website\n",
    "    "
   ]
  }
 ],
 "metadata": {
  "kernelspec": {
   "display_name": "Python 3",
   "language": "python",
   "name": "python3"
  },
  "language_info": {
   "codemirror_mode": {
    "name": "ipython",
    "version": 3
   },
   "file_extension": ".py",
   "mimetype": "text/x-python",
   "name": "python",
   "nbconvert_exporter": "python",
   "pygments_lexer": "ipython3",
   "version": "3.7.6"
  }
 },
 "nbformat": 4,
 "nbformat_minor": 2
}
