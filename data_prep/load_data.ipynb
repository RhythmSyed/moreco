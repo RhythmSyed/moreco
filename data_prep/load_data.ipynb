{
 "cells": [
  {
   "cell_type": "markdown",
   "metadata": {},
   "source": [
    "# Load libraries"
   ]
  },
  {
   "cell_type": "code",
   "execution_count": 3,
   "metadata": {},
   "outputs": [],
   "source": [
    "import pandas as pd\n",
    "import zipfile"
   ]
  },
  {
   "cell_type": "markdown",
   "metadata": {},
   "source": [
    "# unzip compressed data"
   ]
  },
  {
   "cell_type": "code",
   "execution_count": 4,
   "metadata": {},
   "outputs": [],
   "source": [
    "path_to_zip = './data/ml-25m.zip'\n",
    "with zipfile.ZipFile(path_to_zip,\"r\") as zip_ref:\n",
    "    zip_ref.extractall(\"./data\")"
   ]
  },
  {
   "cell_type": "code",
   "execution_count": 7,
   "metadata": {},
   "outputs": [],
   "source": [
    "data_sources = {\n",
    "#     'imdb_basics'   : './data/name.basics.tsv.gz',\n",
    "#     'imdb_ratings'  : './data/title.ratings.tsv.gz',\n",
    "    'genome_scores' : './data/ml-25m/genome-scores.csv',\n",
    "    'genome_tags'   : './data/ml-25m/genome-tags.csv',\n",
    "    'links'         : './data/ml-25m/links.csv',\n",
    "    'movies'        : './data/ml-25m/movies.csv',\n",
    "    'ratings'       : './data/ml-25m/ratings.csv',\n",
    "    'tags'          : './data/ml-25m/tags.csv',\n",
    "}"
   ]
  },
  {
   "cell_type": "code",
   "execution_count": 8,
   "metadata": {},
   "outputs": [],
   "source": [
    "dfs = {}\n",
    "for name, path in data_sources.items():\n",
    "    dfs[name] = pd.read_csv(path)"
   ]
  },
  {
   "cell_type": "code",
   "execution_count": 9,
   "metadata": {},
   "outputs": [
    {
     "data": {
      "text/plain": [
       "dict_keys(['genome_scores', 'genome_tags', 'links', 'movies', 'ratings', 'tags'])"
      ]
     },
     "execution_count": 9,
     "metadata": {},
     "output_type": "execute_result"
    }
   ],
   "source": [
    "dfs.keys()"
   ]
  },
  {
   "cell_type": "code",
   "execution_count": 26,
   "metadata": {},
   "outputs": [],
   "source": [
    "all_ones = dfs['genome_scores'][dfs['genome_scores'].relevance==1]"
   ]
  },
  {
   "cell_type": "code",
   "execution_count": 25,
   "metadata": {},
   "outputs": [
    {
     "data": {
      "text/plain": [
       "prejudice          13816\n",
       "depp & burton      13816\n",
       "alcatraz           13816\n",
       "small town         13816\n",
       "book was better    13816\n",
       "                   ...  \n",
       "studio ghibli      13816\n",
       "family bonds       13816\n",
       "cia                13816\n",
       "treasure hunt      13816\n",
       "crime              13816\n",
       "Name: tag, Length: 1128, dtype: int64"
      ]
     },
     "execution_count": 25,
     "metadata": {},
     "output_type": "execute_result"
    }
   ],
   "source": [
    "combined_df = pd.merge(dfs['genome_scores'], dfs['genome_tags'], on='tagId')\n",
    "combined_df.tag.value_counts()"
   ]
  },
  {
   "cell_type": "code",
   "execution_count": 28,
   "metadata": {},
   "outputs": [
    {
     "data": {
      "text/plain": [
       "array(['007 (series)', 'aardman studios', 'adapted from:game',\n",
       "       'afi 100 (movie quotes)', 'amy smart', 'android(s)/cyborg(s)',\n",
       "       'author:alan moore', 'author:neil gaiman', 'bdsm', 'coen bros',\n",
       "       'crime gone awry', 'dynamic cgi action', 'finnish', 'genocide',\n",
       "       'ghosts/afterlife', 'goretastic', 'gypsy accent', 'hitchcock',\n",
       "       'kick-butt women', 'martial arts', 'mother-son relationship',\n",
       "       'ninja', 'notable nudity', 'nudity (rear)', 'nudity (topless)',\n",
       "       'oscar (best effects - visual effects)',\n",
       "       'oscar (best music - original score)',\n",
       "       'oscar (best music - original song)', 'potential oscar nom',\n",
       "       'saturn award (best science fiction film)',\n",
       "       'saturn award (best special effects)', 'scifi cult',\n",
       "       'single father', 'southern theme', 'spelling bee', 'time loop',\n",
       "       'tom clancy', 'transgender', 'unusual plot structure',\n",
       "       'vampire human love', 'view askew', 'wuxia'], dtype=object)"
      ]
     },
     "execution_count": 28,
     "metadata": {},
     "output_type": "execute_result"
    }
   ],
   "source": [
    "combined_df[combined_df.relevance == 1].tag.unique()"
   ]
  },
  {
   "cell_type": "code",
   "execution_count": 20,
   "metadata": {},
   "outputs": [
    {
     "name": "stdout",
     "output_type": "stream",
     "text": [
      "genome_scores\n",
      "(15584448, 3)\n",
      "   movieId  tagId  relevance\n",
      "0        1      1    0.02875\n",
      "1        1      2    0.02375\n",
      "2        1      3    0.06250\n",
      "3        1      4    0.07575\n",
      "4        1      5    0.14075\n",
      "genome_tags\n",
      "(1128, 2)\n",
      "   tagId           tag\n",
      "0      1           007\n",
      "1      2  007 (series)\n",
      "2      3  18th century\n",
      "3      4         1920s\n",
      "4      5         1930s\n",
      "links\n",
      "(62423, 3)\n",
      "   movieId  imdbId   tmdbId\n",
      "0        1  114709    862.0\n",
      "1        2  113497   8844.0\n",
      "2        3  113228  15602.0\n",
      "3        4  114885  31357.0\n",
      "4        5  113041  11862.0\n",
      "movies\n",
      "(62423, 3)\n",
      "   movieId                               title  \\\n",
      "0        1                    Toy Story (1995)   \n",
      "1        2                      Jumanji (1995)   \n",
      "2        3             Grumpier Old Men (1995)   \n",
      "3        4            Waiting to Exhale (1995)   \n",
      "4        5  Father of the Bride Part II (1995)   \n",
      "\n",
      "                                        genres  \n",
      "0  Adventure|Animation|Children|Comedy|Fantasy  \n",
      "1                   Adventure|Children|Fantasy  \n",
      "2                               Comedy|Romance  \n",
      "3                         Comedy|Drama|Romance  \n",
      "4                                       Comedy  \n",
      "ratings\n",
      "(25000095, 4)\n",
      "   userId  movieId  rating   timestamp\n",
      "0       1      296     5.0  1147880044\n",
      "1       1      306     3.5  1147868817\n",
      "2       1      307     5.0  1147868828\n",
      "3       1      665     5.0  1147878820\n",
      "4       1      899     3.5  1147868510\n",
      "tags\n",
      "(1093360, 4)\n",
      "   userId  movieId               tag   timestamp\n",
      "0       3      260           classic  1439472355\n",
      "1       3      260            sci-fi  1439472256\n",
      "2       4     1732       dark comedy  1573943598\n",
      "3       4     1732    great dialogue  1573943604\n",
      "4       4     7569  so bad it's good  1573943455\n"
     ]
    }
   ],
   "source": [
    "for name in data_sources:\n",
    "    print(name)\n",
    "    print(dfs[name].shape)\n",
    "    print(dfs[name].head())    "
   ]
  },
  {
   "cell_type": "code",
   "execution_count": null,
   "metadata": {},
   "outputs": [],
   "source": []
  }
 ],
 "metadata": {
  "kernelspec": {
   "display_name": "Python 3",
   "language": "python",
   "name": "python3"
  },
  "language_info": {
   "codemirror_mode": {
    "name": "ipython",
    "version": 3
   },
   "file_extension": ".py",
   "mimetype": "text/x-python",
   "name": "python",
   "nbconvert_exporter": "python",
   "pygments_lexer": "ipython3",
   "version": "3.7.4"
  }
 },
 "nbformat": 4,
 "nbformat_minor": 2
}
