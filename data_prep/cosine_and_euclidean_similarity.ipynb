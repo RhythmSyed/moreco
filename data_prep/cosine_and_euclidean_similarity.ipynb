{
 "cells": [
  {
   "cell_type": "code",
   "execution_count": 3,
   "metadata": {},
   "outputs": [],
   "source": [
    "import pandas as pd\n",
    "import numpy as np\n",
    "import sqlite3\n",
    "from sklearn.metrics.pairwise import cosine_similarity, euclidean_distances"
   ]
  },
  {
   "cell_type": "markdown",
   "metadata": {},
   "source": [
    "TODOS:\n",
    "    \n",
    "    - improve similarity metric, currently cosine similarity suffers from sameness issue where relative tag weights are what is being given a high metric score\n",
    "    - pull tag names from browser and translate to ids "
   ]
  },
  {
   "cell_type": "code",
   "execution_count": 4,
   "metadata": {},
   "outputs": [],
   "source": [
    "def get_conn():\n",
    "    db_name = './movie_sqlite.db'\n",
    "    conn = sqlite3.connect(db_name)\n",
    "    return conn"
   ]
  },
  {
   "cell_type": "code",
   "execution_count": 7,
   "metadata": {},
   "outputs": [],
   "source": [
    "def get_top_similar(tag_ids, entity_type=['movies','directors'][0], top_n=10, metric=['euclidean', 'cosine'][0]):\n",
    "    '''\n",
    "    tag_ids: list of tag ids to consider\n",
    "    \n",
    "    return:\n",
    "        list of tuples [(entity_id, similarity value), ...],\n",
    "        list of tag ids\n",
    "    '''\n",
    "    prefix = 'tt' if entity_type == 'movies' else 'nn'\n",
    "    select_cols = ',\\n'.join([f'sum(case when tag_id = {tg} then relevance end) tag_id_{str(tg)}' for tg in tag_ids])\n",
    "    sql = f\"\"\"\n",
    "        select fk_id,\n",
    "            {select_cols}\n",
    "        from tag_relevance\n",
    "        where tag_id in {tuple(tag_ids)}\n",
    "        and fk_id like '{prefix}%'\n",
    "        group by fk_id;\n",
    "    \"\"\"\n",
    "    conn = get_conn()\n",
    "    df = pd.read_sql(sql, conn).set_index('fk_id')\n",
    "    conn.close()\n",
    "    metric_function = {\n",
    "        'euclidean': euclidean_distances,\n",
    "        'cosine'   : cosine_similarity,\n",
    "    }[metric]\n",
    "\n",
    "    df[f'{metric}_similarity'] = metric_function(np.ones((1, len(tag_ids))),df.values).T\n",
    "    df.sort_values(f'{metric}_similarity', inplace=True, ascending=False if metric=='cosine' else True)\n",
    "    s = df[:top_n][f'{metric}_similarity']\n",
    "    return list(zip(s.index, s)), tag_ids"
   ]
  },
  {
   "cell_type": "code",
   "execution_count": 11,
   "metadata": {},
   "outputs": [
    {
     "name": "stdout",
     "output_type": "stream",
     "text": [
      "[('tt0006990', 1.1404372516714807), ('tt0003037', 1.1753199830258994), ('tt0008003', 1.1761473653416057), ('tt0054605', 1.204475560150558), ('tt0005386', 1.2229453943247017)]\n",
      "[1, 3, 8, 10]\n"
     ]
    }
   ],
   "source": [
    "tags = [1, 3, 8, 10]\n",
    "top_n, tag_ids = get_top_similar(tags, top_n=5, metric='euclidean')\n",
    "print(top_n)\n",
    "print(tag_ids)"
   ]
  },
  {
   "cell_type": "code",
   "execution_count": 10,
   "metadata": {},
   "outputs": [
    {
     "name": "stdout",
     "output_type": "stream",
     "text": [
      "[('tt0003489', 0.9990738549809466), ('tt0069372', 0.9987181317345147), ('tt0002914', 0.9984192498168817), ('tt0007192', 0.997837505766203), ('tt0031433', 0.9978269211470778)]\n",
      "[1, 3, 8, 10]\n"
     ]
    }
   ],
   "source": [
    "tags = [1, 3, 8, 10]\n",
    "top_n, tag_ids = get_top_similar(tags, top_n=5, metric='cosine')\n",
    "print(top_n)\n",
    "print(tag_ids)"
   ]
  }
 ],
 "metadata": {
  "kernelspec": {
   "display_name": "Python 3",
   "language": "python",
   "name": "python3"
  },
  "language_info": {
   "codemirror_mode": {
    "name": "ipython",
    "version": 3
   },
   "file_extension": ".py",
   "mimetype": "text/x-python",
   "name": "python",
   "nbconvert_exporter": "python",
   "pygments_lexer": "ipython3",
   "version": "3.7.4"
  }
 },
 "nbformat": 4,
 "nbformat_minor": 2
}
